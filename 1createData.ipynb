{
 "metadata": {
  "language_info": {
   "codemirror_mode": {
    "name": "ipython",
    "version": 3
   },
   "file_extension": ".py",
   "mimetype": "text/x-python",
   "name": "python",
   "nbconvert_exporter": "python",
   "pygments_lexer": "ipython3",
   "version": "3.9.0"
  },
  "orig_nbformat": 2,
  "kernelspec": {
   "name": "python390jvsc74a57bd03898892d7e34557bb8499aff9aa0ccd3bf7bab375649613f01d0952879e4c360",
   "display_name": "Python 3.9.0 64-bit"
  },
  "metadata": {
   "interpreter": {
    "hash": "3898892d7e34557bb8499aff9aa0ccd3bf7bab375649613f01d0952879e4c360"
   }
  }
 },
 "nbformat": 4,
 "nbformat_minor": 2,
 "cells": [
  {
   "cell_type": "code",
   "execution_count": 1,
   "metadata": {},
   "outputs": [],
   "source": [
    "import pandas as pd\n",
    "import spacy\n",
    "nlp = spacy.load(\"en_core_web_md\")\n",
    "\n",
    "def tokenizer(id,fText,l1,l2):\n",
    "    doc = nlp(fText)\n",
    "    bdoc = nlp(l1)\n",
    "    mdoc = nlp(l2)\n",
    "    ### TOKENIZING ###, ### REMOVING STOP WORDS ### if not token.is_stop\n",
    "    wList = [token for token in doc]\n",
    "    bList = [token for token in bdoc]\n",
    "    mList = [token for token in mdoc]\n",
    "    ### NORMALIZING ###, ### STEMMING ###, ### LEMMATIZATION ###\n",
    "    # wList = [token.lemma_ for token in wList]\n",
    "    ### POS filtering ###\n",
    "    df = pd.DataFrame(columns=['satzId','Wort','Attribut'], data = {'satzId': id, 'Wort': wList})\n",
    "    #cast falls nötig von spacy token zu string konvertieren\n",
    "    df['Wort'] = df['Wort'].astype(str)\n",
    "    df['Attribut'] = \"O\"\n",
    "\n",
    "    #search for all times the first word of the brand occures in the text\n",
    "    b_brand = df.loc[df['Wort'].str.lower() == str(bList[0]).lower(), 'Attribut']\n",
    "\n",
    "    #print(b_brand.index.asi8)\n",
    "\n",
    "    # searching for the Brand Labels\n",
    "\n",
    "    #if(len(b_brand.index.asi8) == 1):\n",
    "    #    df.at[b_brand.index.asi8[0], 'Attribut'] = \"B-Brand\"\n",
    "    if(len(bList)==1):\n",
    "        df.loc[df['Wort'].str.lower() == str(bList[0]).lower(), 'Attribut'] = 'B-Brand'\n",
    "    else:\n",
    "        for x in range(len(b_brand.index.asi8)):\n",
    "            #everytime the first Word of the Brand occurs in the Text we need to ckeck the following tokens if it really is the whole Brand Label\n",
    "            df_to_check = df.iloc[b_brand.index.asi8[x]:b_brand.index.asi8[x]+len(bList)]\n",
    "            #print(df_to_check)\n",
    "            # amount of hits have to be the length of the Brand\n",
    "            hits = 0\n",
    "            for i, row in enumerate(df_to_check['Wort']):\n",
    "                if(row.lower() == str(bList[i]).lower()): #hit if the word in the token is the same as in the brand label we search\n",
    "                    hits += 1\n",
    "                else:\n",
    "                    break\n",
    "            if(hits == len(bList)):\n",
    "                df.iloc[b_brand.index.asi8[x]:b_brand.index.asi8[x]+len(bList)]['Attribut'] = \"I-Brand\"\n",
    "                df.at[b_brand.index.asi8[x], 'Attribut'] = \"B-Brand\"\n",
    "                df.at[b_brand.index.asi8[x]+len(bList)-1, 'Attribut'] = \"E-Brand\"\n",
    "\n",
    "    #search for all times the first word of the brand occures in the text\n",
    "    b_modelnumber = df.loc[df['Wort'].str.lower() == str(mList[0]).lower(), 'Attribut']\n",
    "\n",
    "\n",
    "    if(len(mList) == 1):\n",
    "        df.loc[df['Wort'].str.lower() == str(mList[0]).lower(), 'Attribut'] = \"B-Modelnumber\"\n",
    "    else:\n",
    "        for x in range(len(b_modelnumber.index.asi8)):\n",
    "            #everytime the first Word of the Brand occurs in the Text we need to ckeck the following tokens if it really is the whole Brand Label\n",
    "            df_to_check = df.iloc[b_modelnumber.index.asi8[x]:b_modelnumber.index.asi8[x]+len(mList)]\n",
    "            #print(df_to_check)\n",
    "            # amount of hits have to be the length of the Brand\n",
    "            hits = 0\n",
    "            for i, row in enumerate(df_to_check['Wort']):\n",
    "                if(row.lower() == str(mList[i]).lower()): #hit if the word in the token is the same as in the brand label we search\n",
    "                    hits += 1\n",
    "                else:\n",
    "                    break\n",
    "            if(hits == len(mList)):\n",
    "                df.iloc[b_modelnumber.index.asi8[x]:b_modelnumber.index.asi8[x]+len(mList)]['Attribut'] = \"I-Modelnumber\"\n",
    "                df.at[b_modelnumber.index.asi8[x], 'Attribut'] = \"B-Modelnumber\"\n",
    "                df.at[b_modelnumber.index.asi8[x]+len(mList)-1, 'Attribut'] = \"E-Modelnumber\"\n",
    "\n",
    "\n",
    "    #for each in bList:\n",
    "    #    df.loc[df['Wort'] == str(each), 'Attribut'] = \"B-Brand\"\n",
    "    return df"
   ]
  },
  {
   "cell_type": "code",
   "execution_count": 2,
   "metadata": {
    "tags": []
   },
   "outputs": [
    {
     "output_type": "error",
     "ename": "SyntaxError",
     "evalue": "invalid syntax (<ipython-input-2-bcace63ff710>, line 8)",
     "traceback": [
      "\u001b[1;36m  File \u001b[1;32m\"<ipython-input-2-bcace63ff710>\"\u001b[1;36m, line \u001b[1;32m8\u001b[0m\n\u001b[1;33m    if index % 1000 = 0:\u001b[0m\n\u001b[1;37m                    ^\u001b[0m\n\u001b[1;31mSyntaxError\u001b[0m\u001b[1;31m:\u001b[0m invalid syntax\n"
     ]
    }
   ],
   "source": [
    "ecsv = pd.read_csv('Daten/KoepckeEigen/electronicFixed.csv',escapechar=\"\\\\\",sep=\",\",error_bad_lines=False,warn_bad_lines=False)\n",
    "ecsv.dropna(axis = 0)\n",
    "dList = []\n",
    "df = pd.DataFrame()\n",
    "for index, row in ecsv.iterrows():\n",
    "    df = df.append(tokenizer(index, str(row['name']) + str(row['productdescription']), str(row['brand']), str(row['modelnumber'])))\n",
    "    #df = df.append(tokenizer(index, str(row['name']), str(row['brand']), str(row['modelnumber'])))\n",
    "    if index % 1000 == 0:\n",
    "        print('Verarbeitete Produkte: ', index)\n",
    "        df.to_csv('Daten/trainingData.csv', index = False)\n",
    "#print(dList)\n",
    "#print(dList.pop(0))\n",
    "#df = pd.DataFrame(dList, columns=['Id', 'satzID', 'Wort', 'Attribut'])\n",
    "print(df)\n",
    "df.to_csv('Daten/trainingData.csv', index = False)"
   ]
  },
  {
   "cell_type": "code",
   "execution_count": null,
   "metadata": {},
   "outputs": [],
   "source": []
  }
 ]
}