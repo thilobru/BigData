{
 "metadata": {
  "language_info": {
   "codemirror_mode": {
    "name": "ipython",
    "version": 3
   },
   "file_extension": ".py",
   "mimetype": "text/x-python",
   "name": "python",
   "nbconvert_exporter": "python",
   "pygments_lexer": "ipython3",
   "version": "3.9.0"
  },
  "orig_nbformat": 2,
  "kernelspec": {
   "name": "python390jvsc74a57bd03898892d7e34557bb8499aff9aa0ccd3bf7bab375649613f01d0952879e4c360",
   "display_name": "Python 3.9.0 64-bit"
  },
  "metadata": {
   "interpreter": {
    "hash": "3898892d7e34557bb8499aff9aa0ccd3bf7bab375649613f01d0952879e4c360"
   }
  }
 },
 "nbformat": 4,
 "nbformat_minor": 2,
 "cells": [
  {
   "cell_type": "code",
   "execution_count": 1,
   "metadata": {},
   "outputs": [
    {
     "output_type": "stream",
     "name": "stderr",
     "text": [
      "<ipython-input-1-7c52213ee09e>:13: FutureWarning: Indexing with multiple keys (implicitly converted to a tuple of keys) will be deprecated, use a list instead.\n  df_group = df.groupby(by = ['satzId'], as_index=False)['Wort', 'Attribut', 'Word_idx', 'Tag_idx'].agg(lambda x: list(x))\n"
     ]
    }
   ],
   "source": [
    "import pandas as pd\n",
    "import dict_map as dm\n",
    "\n",
    "df = pd.read_csv('Daten/KoepckeEigen/trainingdata.csv',escapechar=\"\\\\\",sep=\",\",error_bad_lines=False,warn_bad_lines=False)\n",
    "\n",
    "token2idx, idx2token = dm.get_dict_map(df, 'token')\n",
    "tag2idx, idx2tag = dm.get_dict_map(df, 'tag')\n",
    "\n",
    "df['Word_idx'] = df['Wort'].map(token2idx)\n",
    "df['Tag_idx'] = df['Attribut'].map(tag2idx)\n",
    "#print(df)\n",
    "\n",
    "df_group = df.groupby(by = ['satzId'], as_index=False)['Wort', 'Attribut', 'Word_idx', 'Tag_idx'].agg(lambda x: list(x))\n",
    "#df_group"
   ]
  },
  {
   "cell_type": "code",
   "execution_count": 2,
   "metadata": {},
   "outputs": [
    {
     "output_type": "stream",
     "name": "stdout",
     "text": [
      "train_tokens length: 675 \ntrain_tags length: 675 \ntest_tokens length: 100 \ntest_tags: 100 \nval_tokens: 225 \nval_tags: 225\n"
     ]
    }
   ],
   "source": [
    "import pad_train_test as ptt\n",
    "train_tokens, val_tokens, test_tokens, train_tags, val_tags, test_tags = ptt.get_pad_train_test_val(df_group, df, tag2idx)"
   ]
  },
  {
   "cell_type": "code",
   "execution_count": 3,
   "metadata": {},
   "outputs": [
    {
     "output_type": "stream",
     "name": "stdout",
     "text": [
      "input_dim:  15937 \noutput_dim:  32 \ninput_length:  927 \nn_tags:  7\n"
     ]
    }
   ],
   "source": [
    "input_dim = len(list(set(df['Wort'].to_list())))+1\n",
    "output_dim = 32\n",
    "input_length = max([len(s) for s in df_group['Word_idx'].tolist()])\n",
    "n_tags = len(tag2idx)\n",
    "print('input_dim: ', input_dim, '\\noutput_dim: ', output_dim, '\\ninput_length: ', input_length, '\\nn_tags: ', n_tags)"
   ]
  },
  {
   "cell_type": "code",
   "execution_count": 4,
   "metadata": {},
   "outputs": [
    {
     "output_type": "stream",
     "name": "stdout",
     "text": [
      "Model: \"sequential\"\n",
      "_________________________________________________________________\n",
      "Layer (type)                 Output Shape              Param #   \n",
      "=================================================================\n",
      "embedding (Embedding)        (None, 927, 32)           509984    \n",
      "_________________________________________________________________\n",
      "bidirectional (Bidirectional (None, 927, 64)           16640     \n",
      "_________________________________________________________________\n",
      "lstm_1 (LSTM)                (None, 927, 32)           12416     \n",
      "_________________________________________________________________\n",
      "time_distributed (TimeDistri (None, 927, 7)            231       \n",
      "=================================================================\n",
      "Total params: 539,271\n",
      "Trainable params: 539,271\n",
      "Non-trainable params: 0\n",
      "_________________________________________________________________\n",
      "C:\\Users\\thilo\\AppData\\Local\\Programs\\Python\\Python39\\lib\\site-packages\\tensorflow\\python\\keras\\optimizer_v2\\optimizer_v2.py:374: UserWarning: The `lr` argument is deprecated, use `learning_rate` instead.\n",
      "  warnings.warn(\n"
     ]
    }
   ],
   "source": [
    "import model as md\n",
    "#choco install graphviz, pip install pydot\n",
    "from tensorflow.keras.utils import plot_model \n",
    "model_bilstm_lstm = md.get_bilstm_lstm_model(input_dim, output_dim, input_length, n_tags)\n",
    "#plot_model(model_bilstm_lstm)"
   ]
  },
  {
   "cell_type": "code",
   "execution_count": 9,
   "metadata": {},
   "outputs": [
    {
     "output_type": "stream",
     "name": "stdout",
     "text": [
      "1/1 [==============================] - 29s 29s/step - loss: nan - accuracy: 0.0677 - val_loss: nan - val_accuracy: 1.3584e-04\n",
      "1/1 [==============================] - 26s 26s/step - loss: nan - accuracy: 1.8379e-04 - val_loss: nan - val_accuracy: 1.3584e-04\n",
      "1/1 [==============================] - 30s 30s/step - loss: nan - accuracy: 1.8379e-04 - val_loss: nan - val_accuracy: 1.3584e-04\n",
      "1/1 [==============================] - 31s 31s/step - loss: nan - accuracy: 1.8379e-04 - val_loss: nan - val_accuracy: 1.3584e-04\n",
      "1/1 [==============================] - 33s 33s/step - loss: nan - accuracy: 1.8379e-04 - val_loss: nan - val_accuracy: 1.3584e-04\n"
     ]
    }
   ],
   "source": [
    "import numpy as np\n",
    "results = pd.DataFrame()\n",
    "results['with_add_lstm'] = md.train_model(train_tokens, np.array(train_tags), model_bilstm_lstm)"
   ]
  },
  {
   "cell_type": "code",
   "execution_count": null,
   "metadata": {},
   "outputs": [],
   "source": []
  }
 ]
}