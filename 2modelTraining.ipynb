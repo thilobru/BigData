{
 "metadata": {
  "language_info": {
   "codemirror_mode": {
    "name": "ipython",
    "version": 3
   },
   "file_extension": ".py",
   "mimetype": "text/x-python",
   "name": "python",
   "nbconvert_exporter": "python",
   "pygments_lexer": "ipython3",
   "version": "3.9.0"
  },
  "orig_nbformat": 2,
  "kernelspec": {
   "name": "python3",
   "display_name": "Python 3.9.0 64-bit"
  },
  "metadata": {
   "interpreter": {
    "hash": "3898892d7e34557bb8499aff9aa0ccd3bf7bab375649613f01d0952879e4c360"
   }
  },
  "interpreter": {
   "hash": "3898892d7e34557bb8499aff9aa0ccd3bf7bab375649613f01d0952879e4c360"
  }
 },
 "nbformat": 4,
 "nbformat_minor": 2,
 "cells": [
  {
   "cell_type": "code",
   "execution_count": 1,
   "source": [
    "import tensorflow as tf\r\n",
    "try:\r\n",
    "    # Disable all GPUS\r\n",
    "    tf.config.set_visible_devices([], 'GPU')\r\n",
    "    visible_devices = tf.config.get_visible_devices()\r\n",
    "    for device in visible_devices:\r\n",
    "        assert device.device_type != 'GPU'\r\n",
    "except:\r\n",
    "    # Invalid device or cannot modify virtual devices once initialized.\r\n",
    "    pass"
   ],
   "outputs": [],
   "metadata": {}
  },
  {
   "cell_type": "code",
   "execution_count": 2,
   "source": [
    "import pandas as pd\r\n",
    "import dict_map as dm\r\n",
    "\r\n",
    "df = pd.read_csv('data/trainingdata300.csv',escapechar=\"\\\\\",sep=\",\",error_bad_lines=False,warn_bad_lines=False)\r\n",
    "nan_value = float(\"NaN\")\r\n",
    "df.replace(\"\", nan_value, inplace=True)\r\n",
    "df.dropna(inplace=True)\r\n",
    "# df = df.head(500000)\r\n",
    "# print(len(df))\r\n",
    "# df = df.groupby('satzId').filter(lambda x: len(x) <= 300)\r\n",
    "# print(df)\r\n",
    "token2idx, idx2token = dm.get_dict_map(df, 'token')\r\n",
    "tag2idx, idx2tag = dm.get_dict_map(df, 'tag')\r\n",
    "\r\n",
    "df['Word_idx'] = df['Wort'].map(token2idx)\r\n",
    "df['Tag_idx'] = df['Attribut'].map(tag2idx)\r\n",
    "# print(df)\r\n",
    "\r\n",
    "df_group = df.groupby(by = ['satzId'], as_index=False)['Wort', 'Attribut', 'Word_idx', 'Tag_idx'].agg(lambda x: list(x))\r\n",
    "#df_group\r\n",
    "import pad_train_test as ptt\r\n",
    "train_tokens, val_tokens, test_tokens, train_tags, val_tags, test_tags = ptt.get_pad_train_test_val(df_group, df, tag2idx)\r\n",
    "\r\n",
    "input_dim = len(list(set(df['Wort'].to_list())))+1\r\n",
    "output_dim = 32\r\n",
    "input_length = max([len(s) for s in df_group['Word_idx'].tolist()])\r\n",
    "n_tags = len(tag2idx)\r\n",
    "# print('input_dim: ', input_dim, '\\noutput_dim: ', output_dim, '\\ninput_length: ', input_length, '\\nn_tags: ', n_tags)"
   ],
   "outputs": [
    {
     "output_type": "stream",
     "name": "stderr",
     "text": [
      "<ipython-input-2-bd2227b86672>:19: FutureWarning: Indexing with multiple keys (implicitly converted to a tuple of keys) will be deprecated, use a list instead.\n",
      "  df_group = df.groupby(by = ['satzId'], as_index=False)['Wort', 'Attribut', 'Word_idx', 'Tag_idx'].agg(lambda x: list(x))\n"
     ]
    },
    {
     "output_type": "stream",
     "name": "stdout",
     "text": [
      "train_tokens length: 26331 \n",
      "train_tags length:   26331 \n",
      "val_tokens length:   8778 \n",
      "val_tags length:     8778 \n",
      "test_tokens length:  3902 \n",
      "test_tags length:    3902\n"
     ]
    }
   ],
   "metadata": {}
  },
  {
   "cell_type": "code",
   "execution_count": 5,
   "source": [
    "import model as md\r\n",
    "model_bilstm_lstm = md.get_bilstm_lstm_model(input_dim, output_dim, input_length, n_tags)\r\n",
    "\r\n",
    "#choco install graphviz, pip install pydot\r\n",
    "#from tensorflow.keras.utils import plot_model \r\n",
    "#plot_model(model_bilstm_lstm)\r\n",
    "\r\n",
    "import numpy as np\r\n",
    "model, history = md.train_model(train_tokens, np.array(train_tags), \r\n",
    "                                val_tokens, np.array(val_tags), \r\n",
    "                                model_bilstm_lstm)"
   ],
   "outputs": [
    {
     "output_type": "stream",
     "name": "stdout",
     "text": [
      "Model: \"sequential\"\n",
      "_________________________________________________________________\n",
      "Layer (type)                 Output Shape              Param #   \n",
      "=================================================================\n",
      "embedding (Embedding)        (None, 300, 32)           3307040   \n",
      "_________________________________________________________________\n",
      "bidirectional (Bidirectional (None, 300, 64)           16640     \n",
      "_________________________________________________________________\n",
      "lstm_1 (LSTM)                (None, 300, 32)           12416     \n",
      "_________________________________________________________________\n",
      "time_distributed (TimeDistri (None, 300, 7)            231       \n",
      "=================================================================\n",
      "Total params: 3,336,327\n",
      "Trainable params: 3,336,327\n",
      "Non-trainable params: 0\n",
      "_________________________________________________________________\n",
      "{0: 374.2857142857143, 1: 237.07382953181272, 2: 236.775373179066, 3: 50.55196114193561, 4: 0.1443412670262642, 5: 24.712496245870458, 6: 1628.3858998144713}\n",
      "Epoch 1/50\n",
      "412/412 [==============================] - 176s 414ms/step - loss: 1.4403 - accuracy: 0.8654 - val_loss: 0.4166 - val_accuracy: 0.8657\n",
      "Epoch 2/50\n",
      "412/412 [==============================] - 170s 411ms/step - loss: 0.7662 - accuracy: 0.8749 - val_loss: 0.2940 - val_accuracy: 0.9180\n",
      "Epoch 3/50\n",
      "412/412 [==============================] - 170s 413ms/step - loss: 0.3674 - accuracy: 0.9133 - val_loss: 0.2818 - val_accuracy: 0.9214\n",
      "Epoch 4/50\n",
      "412/412 [==============================] - 169s 409ms/step - loss: 0.2009 - accuracy: 0.9328 - val_loss: 0.1872 - val_accuracy: 0.9479\n",
      "Epoch 5/50\n",
      "412/412 [==============================] - 169s 411ms/step - loss: 0.1323 - accuracy: 0.9462 - val_loss: 0.1532 - val_accuracy: 0.9565\n",
      "Epoch 6/50\n",
      "412/412 [==============================] - 170s 412ms/step - loss: 0.0940 - accuracy: 0.9546 - val_loss: 0.1442 - val_accuracy: 0.9591\n",
      "Epoch 7/50\n",
      "412/412 [==============================] - 170s 412ms/step - loss: 0.0690 - accuracy: 0.9606 - val_loss: 0.1260 - val_accuracy: 0.9642\n",
      "Epoch 8/50\n",
      "412/412 [==============================] - 169s 411ms/step - loss: 0.0532 - accuracy: 0.9666 - val_loss: 0.1060 - val_accuracy: 0.9695\n",
      "Epoch 9/50\n",
      "412/412 [==============================] - 169s 411ms/step - loss: 0.0608 - accuracy: 0.9675 - val_loss: 0.0971 - val_accuracy: 0.9723\n",
      "Epoch 10/50\n",
      "412/412 [==============================] - 169s 410ms/step - loss: 0.0363 - accuracy: 0.9743 - val_loss: 0.0865 - val_accuracy: 0.9761\n",
      "Epoch 11/50\n",
      "412/412 [==============================] - 168s 409ms/step - loss: 0.0303 - accuracy: 0.9779 - val_loss: 0.0774 - val_accuracy: 0.9793\n",
      "Epoch 12/50\n",
      "412/412 [==============================] - 169s 411ms/step - loss: 0.0263 - accuracy: 0.9804 - val_loss: 0.0695 - val_accuracy: 0.9816\n",
      "Epoch 13/50\n",
      "412/412 [==============================] - 169s 411ms/step - loss: 0.0233 - accuracy: 0.9823 - val_loss: 0.0628 - val_accuracy: 0.9841\n",
      "Epoch 14/50\n",
      "412/412 [==============================] - 170s 412ms/step - loss: 0.0200 - accuracy: 0.9843 - val_loss: 0.0684 - val_accuracy: 0.9831\n",
      "Epoch 15/50\n",
      "412/412 [==============================] - 169s 411ms/step - loss: 0.0186 - accuracy: 0.9858 - val_loss: 0.0558 - val_accuracy: 0.9866\n",
      "Epoch 16/50\n",
      "412/412 [==============================] - 169s 410ms/step - loss: 0.0164 - accuracy: 0.9867 - val_loss: 0.0509 - val_accuracy: 0.9879\n",
      "Epoch 17/50\n",
      "412/412 [==============================] - 171s 414ms/step - loss: 0.0137 - accuracy: 0.9885 - val_loss: 0.0491 - val_accuracy: 0.9885\n",
      "Epoch 18/50\n",
      "412/412 [==============================] - 175s 424ms/step - loss: 0.0125 - accuracy: 0.9895 - val_loss: 0.0461 - val_accuracy: 0.9894\n",
      "Epoch 19/50\n",
      "412/412 [==============================] - 178s 432ms/step - loss: 0.0112 - accuracy: 0.9905 - val_loss: 0.0451 - val_accuracy: 0.9899\n",
      "Epoch 20/50\n",
      "412/412 [==============================] - 176s 427ms/step - loss: 0.0105 - accuracy: 0.9912 - val_loss: 0.0458 - val_accuracy: 0.9897\n",
      "Epoch 21/50\n",
      "412/412 [==============================] - 176s 427ms/step - loss: 0.0099 - accuracy: 0.9919 - val_loss: 0.0458 - val_accuracy: 0.9901\n",
      "Epoch 22/50\n",
      "412/412 [==============================] - 176s 426ms/step - loss: 0.0091 - accuracy: 0.9924 - val_loss: 0.0432 - val_accuracy: 0.9904\n",
      "Epoch 23/50\n",
      "412/412 [==============================] - 177s 429ms/step - loss: 0.0097 - accuracy: 0.9930 - val_loss: 0.0419 - val_accuracy: 0.9913\n",
      "Epoch 24/50\n",
      "412/412 [==============================] - 177s 429ms/step - loss: 0.0082 - accuracy: 0.9933 - val_loss: 0.0364 - val_accuracy: 0.9923\n",
      "Epoch 25/50\n",
      "412/412 [==============================] - 177s 430ms/step - loss: 0.0076 - accuracy: 0.9936 - val_loss: 0.0413 - val_accuracy: 0.9915\n",
      "Epoch 26/50\n",
      "412/412 [==============================] - 178s 432ms/step - loss: 0.0067 - accuracy: 0.9942 - val_loss: 0.0383 - val_accuracy: 0.9921\n",
      "Epoch 27/50\n",
      "412/412 [==============================] - 176s 428ms/step - loss: 0.0064 - accuracy: 0.9943 - val_loss: 0.0374 - val_accuracy: 0.9923\n",
      "Epoch 28/50\n",
      "412/412 [==============================] - 176s 428ms/step - loss: 0.0063 - accuracy: 0.9947 - val_loss: 0.0350 - val_accuracy: 0.9931\n",
      "Epoch 29/50\n",
      "412/412 [==============================] - 176s 427ms/step - loss: 0.0066 - accuracy: 0.9947 - val_loss: 0.0369 - val_accuracy: 0.9925\n",
      "Epoch 30/50\n",
      "412/412 [==============================] - 176s 428ms/step - loss: 0.0060 - accuracy: 0.9950 - val_loss: 0.0358 - val_accuracy: 0.9930\n",
      "Epoch 31/50\n",
      "412/412 [==============================] - 177s 429ms/step - loss: 0.0065 - accuracy: 0.9943 - val_loss: 0.0342 - val_accuracy: 0.9932\n",
      "Epoch 32/50\n",
      "412/412 [==============================] - 178s 432ms/step - loss: 0.0053 - accuracy: 0.9954 - val_loss: 0.0363 - val_accuracy: 0.9928\n",
      "Epoch 33/50\n",
      "412/412 [==============================] - 176s 427ms/step - loss: 0.0052 - accuracy: 0.9955 - val_loss: 0.0355 - val_accuracy: 0.9932\n",
      "Epoch 34/50\n",
      "412/412 [==============================] - 176s 426ms/step - loss: 0.0046 - accuracy: 0.9960 - val_loss: 0.0353 - val_accuracy: 0.9933\n",
      "Epoch 35/50\n",
      "412/412 [==============================] - 176s 427ms/step - loss: 0.0039 - accuracy: 0.9963 - val_loss: 0.0348 - val_accuracy: 0.9935\n",
      "Epoch 36/50\n",
      "412/412 [==============================] - 176s 427ms/step - loss: 0.0043 - accuracy: 0.9964 - val_loss: 0.0379 - val_accuracy: 0.9928\n",
      "Restoring model weights from the end of the best epoch.\n",
      "Epoch 00036: early stopping\n",
      "[1.4403353929519653, 0.7662101984024048, 0.36742445826530457, 0.2009446918964386, 0.13229134678840637, 0.09395455569028854, 0.06899237632751465, 0.053246017545461655, 0.06079161912202835, 0.03633973002433777, 0.030306033790111542, 0.02632439322769642, 0.023294633254408836, 0.020043976604938507, 0.018566934391856194, 0.016409091651439667, 0.013704891316592693, 0.01248692162334919, 0.011165179312229156, 0.010497473180294037, 0.009863028302788734, 0.009108815342187881, 0.009657624177634716, 0.008219796232879162, 0.007589833345264196, 0.006666651926934719, 0.006388542708009481, 0.006345043890178204, 0.006591854151338339, 0.006000399123877287, 0.0064812153577804565, 0.005314211826771498, 0.005202360451221466, 0.0045899697579443455, 0.003922398202121258, 0.004327503964304924]\n"
     ]
    }
   ],
   "metadata": {}
  },
  {
   "cell_type": "code",
   "execution_count": 6,
   "source": [
    "# Save the model\r\n",
    "filepath = './models/l300e50wWeights'\r\n",
    "# save_model(md, filepath)\r\n",
    "model.save(filepath)"
   ],
   "outputs": [
    {
     "output_type": "stream",
     "name": "stdout",
     "text": [
      "INFO:tensorflow:Assets written to: ./models/l300e50wWeights\\assets\n"
     ]
    }
   ],
   "metadata": {}
  },
  {
   "cell_type": "code",
   "execution_count": 12,
   "source": [
    "plt.plot(history.history['accuracy'])\r\n",
    "plt.plot(history.history['val_accuracy'])\r\n",
    "plt.title('model accuracy')\r\n",
    "plt.ylabel('accuracy')\r\n",
    "plt.xlabel('epoch')\r\n",
    "plt.legend(['train', 'test'], loc='upper left')\r\n",
    "plt.show()\r\n",
    "\r\n",
    "plt.plot(history.history['loss'])\r\n",
    "plt.plot(history.history['val_loss'])\r\n",
    "plt.title('model loss')\r\n",
    "plt.ylabel('loss')\r\n",
    "plt.xlabel('epoch')\r\n",
    "plt.legend(['train', 'test'], loc='upper left')\r\n",
    "plt.show()"
   ],
   "outputs": [
    {
     "output_type": "display_data",
     "data": {
      "text/plain": [
       "<Figure size 432x288 with 1 Axes>"
      ],
      "image/png": "[encoded data removed]"
     },
     "metadata": {
      "needs_background": "light"
     }
    },
    {
     "output_type": "display_data",
     "data": {
      "text/plain": [
       "<Figure size 432x288 with 1 Axes>"
      ],
      "image/png": "[encoded data removed]"
     },
     "metadata": {
      "needs_background": "light"
     }
    }
   ],
   "metadata": {}
  },
  {
   "cell_type": "code",
   "execution_count": 57,
   "source": [
    "# Evaluate the model on the test data using `evaluate`\r\n",
    "print(\"Evaluate on test data\")\r\n",
    "results = model.evaluate(test_tokens, np.array(test_tags), batch_size=64)\r\n",
    "print(\"test loss, test acc:\", results)\r\n",
    "\r\n",
    "# Generate predictions (probabilities -- the output of the last layer)\r\n",
    "# on new data using `predict`\r\n",
    "print(\"Generate predictions for 3 samples\")\r\n",
    "predictions = model.predict(test_tokens[:3])\r\n",
    "print(\"predictions shape:\", predictions.shape)"
   ],
   "outputs": [
    {
     "output_type": "stream",
     "name": "stdout",
     "text": [
      "Evaluate on test data\n",
      "61/61 [==============================] - 4s 60ms/step - loss: 0.0346 - accuracy: 0.9931\n",
      "test loss, test acc: [0.03460494801402092, 0.9931351542472839]\n",
      "Generate predictions for 3 samples\n",
      "predictions shape: (3, 300, 7)\n"
     ]
    }
   ],
   "metadata": {}
  },
  {
   "cell_type": "code",
   "execution_count": 60,
   "source": [
    "predictions.shape"
   ],
   "outputs": [
    {
     "output_type": "execute_result",
     "data": {
      "text/plain": [
       "(3, 300, 7)"
      ]
     },
     "metadata": {},
     "execution_count": 60
    }
   ],
   "metadata": {}
  },
  {
   "cell_type": "code",
   "execution_count": 69,
   "source": [
    "pred_tag_ids = predictions[2].argmax(axis=1)\r\n",
    "pred_tag_ids"
   ],
   "outputs": [
    {
     "output_type": "execute_result",
     "data": {
      "text/plain": [
       "array([5, 3, 3, 4, 4, 4, 4, 4, 4, 4, 4, 4, 4, 4, 4, 4, 4, 4, 4, 4, 4, 4,\n",
       "       4, 4, 4, 4, 4, 4, 4, 4, 4, 4, 4, 4, 4, 4, 4, 4, 4, 4, 4, 4, 4, 4,\n",
       "       4, 4, 4, 4, 4, 4, 4, 4, 4, 4, 4, 4, 4, 4, 4, 4, 4, 4, 4, 4, 4, 4,\n",
       "       4, 4, 4, 4, 4, 4, 4, 4, 4, 4, 4, 5, 4, 4, 4, 4, 4, 4, 4, 4, 4, 4,\n",
       "       4, 4, 4, 4, 4, 4, 4, 4, 4, 4, 4, 4, 4, 4, 4, 4, 4, 4, 4, 4, 4, 4,\n",
       "       4, 4, 4, 4, 4, 4, 4, 4, 4, 4, 4, 4, 4, 4, 4, 4, 4, 4, 4, 4, 4, 4,\n",
       "       4, 4, 4, 4, 4, 4, 4, 4, 4, 4, 4, 4, 4, 4, 4, 4, 4, 4, 4, 4, 4, 4,\n",
       "       4, 4, 4, 4, 4, 4, 4, 4, 4, 4, 4, 4, 4, 4, 4, 4, 4, 4, 4, 4, 4, 4,\n",
       "       4, 4, 4, 4, 4, 4, 4, 4, 4, 4, 4, 4, 4, 4, 4, 4, 4, 4, 4, 4, 4, 4,\n",
       "       4, 4, 4, 4, 4, 4, 4, 4, 4, 4, 4, 4, 4, 4, 4, 4, 4, 4, 4, 4, 4, 4,\n",
       "       4, 4, 4, 4, 4, 4, 4, 4, 4, 4, 4, 4, 4, 4, 4, 4, 4, 4, 4, 4, 4, 4,\n",
       "       4, 4, 4, 4, 4, 4, 4, 4, 4, 4, 4, 4, 4, 4, 4, 4, 4, 4, 4, 4, 4, 4,\n",
       "       4, 4, 4, 4, 4, 4, 4, 4, 4, 4, 4, 4, 4, 4, 4, 4, 4, 4, 4, 4, 4, 4,\n",
       "       4, 4, 4, 4, 4, 4, 4, 4, 4, 4, 4, 4, 4, 4], dtype=int64)"
      ]
     },
     "metadata": {},
     "execution_count": 69
    }
   ],
   "metadata": {}
  },
  {
   "cell_type": "code",
   "execution_count": 70,
   "source": [
    "test_tokens[2]"
   ],
   "outputs": [
    {
     "output_type": "execute_result",
     "data": {
      "text/plain": [
       "array([ 88232,  81543,  47619,  72462,  41711,  13546,  38612,  84255,\n",
       "        19384,  30061, 100865,  48086,  67041,  18830,  46805,  89852,\n",
       "        76387,  59184,  83992,  68227,  27476,  25018,  73316,  83895,\n",
       "        32574, 101363,  43079,  97105,  23872,  87266,  46374,  73290,\n",
       "        19439,  99288,  27476,  93106,  34565,  85415,  13097,  43079,\n",
       "        97417,  89852,   9635,  46167,  66773,  74492, 101363,  17029,\n",
       "        46167,  74046,  79756,  86334,  55319,  80378,  38514,   5026,\n",
       "        97900,  75795,  46719,  27476,  34589,  45653,  66584,  32579,\n",
       "        93727,  63780,  96628,   8989,  36136,  87578,   3631,  27476,\n",
       "        46051,  37507,  33490,  17831,   5602,  88232,  35316,  67041,\n",
       "        46167,  63780,  96628,  25341, 101363,  55319,   2756,  87578,\n",
       "        14181, 101363,  46167,  34687,  23976,  37507,  67041, 101251,\n",
       "        29854,  93727,  95309,  89852,  46167,  23181,  37507,  67041,\n",
       "         5021,   5026,  73316,  70775,  83895, 103216,  93106,  41371,\n",
       "        83895,  32574,  31477,  18513,  63356,  32574, 101363,  55319,\n",
       "        71210,  52422,  82292,  56824,  69869,   9745,  94556,  76739,\n",
       "        55319,  28272,  46719,   5603,  43592,  69907,  38514,   5026,\n",
       "        97900,  75795,  46719,  80669,  32579,  72365,   6151,   4275,\n",
       "        37077, 100417,  29265,  21461, 103343, 103343, 103343, 103343,\n",
       "       103343, 103343, 103343, 103343, 103343, 103343, 103343, 103343,\n",
       "       103343, 103343, 103343, 103343, 103343, 103343, 103343, 103343,\n",
       "       103343, 103343, 103343, 103343, 103343, 103343, 103343, 103343,\n",
       "       103343, 103343, 103343, 103343, 103343, 103343, 103343, 103343,\n",
       "       103343, 103343, 103343, 103343, 103343, 103343, 103343, 103343,\n",
       "       103343, 103343, 103343, 103343, 103343, 103343, 103343, 103343,\n",
       "       103343, 103343, 103343, 103343, 103343, 103343, 103343, 103343,\n",
       "       103343, 103343, 103343, 103343, 103343, 103343, 103343, 103343,\n",
       "       103343, 103343, 103343, 103343, 103343, 103343, 103343, 103343,\n",
       "       103343, 103343, 103343, 103343, 103343, 103343, 103343, 103343,\n",
       "       103343, 103343, 103343, 103343, 103343, 103343, 103343, 103343,\n",
       "       103343, 103343, 103343, 103343, 103343, 103343, 103343, 103343,\n",
       "       103343, 103343, 103343, 103343, 103343, 103343, 103343, 103343,\n",
       "       103343, 103343, 103343, 103343, 103343, 103343, 103343, 103343,\n",
       "       103343, 103343, 103343, 103343, 103343, 103343, 103343, 103343,\n",
       "       103343, 103343, 103343, 103343, 103343, 103343, 103343, 103343,\n",
       "       103343, 103343, 103343, 103343, 103343, 103343, 103343, 103343,\n",
       "       103343, 103343, 103343, 103343, 103343, 103343, 103343, 103343,\n",
       "       103343, 103343, 103343, 103343])"
      ]
     },
     "metadata": {},
     "execution_count": 70
    }
   ],
   "metadata": {}
  },
  {
   "cell_type": "code",
   "execution_count": 14,
   "source": [
    "df_zu_testzwecken = pd.DataFrame(data=[0,1,2,3,4,5,6], columns=['IDX'])\r\n",
    "df_zu_testzwecken['Tag'] = df_zu_testzwecken['IDX'].map(idx2tag)\r\n",
    "print(df_zu_testzwecken)"
   ],
   "outputs": [
    {
     "output_type": "stream",
     "name": "stdout",
     "text": [
      "   IDX            Tag\n",
      "0    0        E-Brand\n",
      "1    1  I-Modelnumber\n",
      "2    2  E-Modelnumber\n",
      "3    3  B-Modelnumber\n",
      "4    4              O\n",
      "5    5        B-Brand\n",
      "6    6        I-Brand\n"
     ]
    }
   ],
   "metadata": {}
  },
  {
   "cell_type": "code",
   "execution_count": null,
   "source": [
    "dfs = df.head(10000)\r\n",
    "size = dfs.satzId.value_counts() > 500\r\n",
    "print(size)\r\n",
    "dfs = dfs.groupby('satzId').filter(lambda x: len(x) < 500)\r\n",
    "size = dfs.satzId.value_counts() >= 500\r\n",
    "print(size)"
   ],
   "outputs": [],
   "metadata": {}
  },
  {
   "cell_type": "code",
   "execution_count": 19,
   "source": [
    "df.satzId.value_counts().plot.hist(bins=32, alpha=0.5)"
   ],
   "outputs": [
    {
     "output_type": "execute_result",
     "data": {
      "text/plain": [
       "<AxesSubplot:ylabel='Frequency'>"
      ]
     },
     "metadata": {},
     "execution_count": 19
    },
    {
     "output_type": "display_data",
     "data": {
      "text/plain": [
       "<Figure size 432x288 with 1 Axes>"
      ],
      "image/png": "[encoded data removed]",
      "image/svg+xml": "<?xml version=\"1.0\" encoding=\"utf-8\" standalone=\"no\"?>\r\n<!DOCTYPE svg PUBLIC \"-//W3C//DTD SVG 1.1//EN\"\r\n  \"http://www.w3.org/Graphics/SVG/1.1/DTD/svg11.dtd\">\r\n<!-- Created with matplotlib (https://matplotlib.org/) -->\r\n<svg height=\"248.518125pt\" version=\"1.1\" viewBox=\"0 0 395.328125 248.518125\" width=\"395.328125pt\" xmlns=\"http://www.w3.org/2000/svg\" xmlns:xlink=\"http://www.w3.org/1999/xlink\">\r\n <metadata>\r\n  <rdf:RDF xmlns:cc=\"http://creativecommons.org/ns#\" xmlns:dc=\"http://purl.org/dc/elements/1.1/\" xmlns:rdf=\"http://www.w3.org/1999/02/22-rdf-syntax-ns#\">\r\n   <cc:Work>\r\n    <dc:type rdf:resource=\"http://purl.org/dc/dcmitype/StillImage\"/>\r\n    <dc:date>2021-06-16T11:35:23.865998</dc:date>\r\n    <dc:format>image/svg+xml</dc:format>\r\n    <dc:creator>\r\n     <cc:Agent>\r\n      <dc:title>Matplotlib v3.3.3, https://matplotlib.org/</dc:title>\r\n     </cc:Agent>\r\n    </dc:creator>\r\n   </cc:Work>\r\n  </rdf:RDF>\r\n </metadata>\r\n <defs>\r\n  <style type=\"text/css\">*{stroke-linecap:butt;stroke-linejoin:round;}</style>\r\n </defs>\r\n <g id=\"figure_1\">\r\n  <g id=\"patch_1\">\r\n   <path d=\"M 0 248.518125 \r\nL 395.328125 248.518125 \r\nL 395.328125 0 \r\nL 0 0 \r\nz\r\n\" style=\"fill:none;\"/>\r\n  </g>\r\n  <g id=\"axes_1\">\r\n   <g id=\"patch_2\">\r\n    <path d=\"M 53.328125 224.64 \r\nL 388.128125 224.64 \r\nL 388.128125 7.2 \r\nL 53.328125 7.2 \r\nz\r\n\" style=\"fill:#ffffff;\"/>\r\n   </g>\r\n   <g id=\"patch_3\">\r\n    <path clip-path=\"url(#p3c9c202603)\" d=\"M 68.546307 224.64 \r\nL 78.05767 224.64 \r\nL 78.05767 17.554286 \r\nL 68.546307 17.554286 \r\nz\r\n\" style=\"fill:#1f77b4;opacity:0.5;\"/>\r\n   </g>\r\n   <g id=\"patch_4\">\r\n    <path clip-path=\"url(#p3c9c202603)\" d=\"M 78.05767 224.64 \r\nL 87.569034 224.64 \r\nL 87.569034 93.311757 \r\nL 78.05767 93.311757 \r\nz\r\n\" style=\"fill:#1f77b4;opacity:0.5;\"/>\r\n   </g>\r\n   <g id=\"patch_5\">\r\n    <path clip-path=\"url(#p3c9c202603)\" d=\"M 87.569034 224.64 \r\nL 97.080398 224.64 \r\nL 97.080398 83.992613 \r\nL 87.569034 83.992613 \r\nz\r\n\" style=\"fill:#1f77b4;opacity:0.5;\"/>\r\n   </g>\r\n   <g id=\"patch_6\">\r\n    <path clip-path=\"url(#p3c9c202603)\" d=\"M 97.080398 224.64 \r\nL 106.591761 224.64 \r\nL 106.591761 105.211587 \r\nL 97.080398 105.211587 \r\nz\r\n\" style=\"fill:#1f77b4;opacity:0.5;\"/>\r\n   </g>\r\n   <g id=\"patch_7\">\r\n    <path clip-path=\"url(#p3c9c202603)\" d=\"M 106.591761 224.64 \r\nL 116.103125 224.64 \r\nL 116.103125 119.061268 \r\nL 106.591761 119.061268 \r\nz\r\n\" style=\"fill:#1f77b4;opacity:0.5;\"/>\r\n   </g>\r\n   <g id=\"patch_8\">\r\n    <path clip-path=\"url(#p3c9c202603)\" d=\"M 116.103125 224.64 \r\nL 125.614489 224.64 \r\nL 125.614489 127.434161 \r\nL 116.103125 127.434161 \r\nz\r\n\" style=\"fill:#1f77b4;opacity:0.5;\"/>\r\n   </g>\r\n   <g id=\"patch_9\">\r\n    <path clip-path=\"url(#p3c9c202603)\" d=\"M 125.614489 224.64 \r\nL 135.125852 224.64 \r\nL 135.125852 122.989646 \r\nL 125.614489 122.989646 \r\nz\r\n\" style=\"fill:#1f77b4;opacity:0.5;\"/>\r\n   </g>\r\n   <g id=\"patch_10\">\r\n    <path clip-path=\"url(#p3c9c202603)\" d=\"M 135.125852 224.64 \r\nL 144.637216 224.64 \r\nL 144.637216 134.631407 \r\nL 135.125852 134.631407 \r\nz\r\n\" style=\"fill:#1f77b4;opacity:0.5;\"/>\r\n   </g>\r\n   <g id=\"patch_11\">\r\n    <path clip-path=\"url(#p3c9c202603)\" d=\"M 144.637216 224.64 \r\nL 154.14858 224.64 \r\nL 154.14858 145.757031 \r\nL 144.637216 145.757031 \r\nz\r\n\" style=\"fill:#1f77b4;opacity:0.5;\"/>\r\n   </g>\r\n   <g id=\"patch_12\">\r\n    <path clip-path=\"url(#p3c9c202603)\" d=\"M 154.14858 224.64 \r\nL 163.659943 224.64 \r\nL 163.659943 151.606586 \r\nL 154.14858 151.606586 \r\nz\r\n\" style=\"fill:#1f77b4;opacity:0.5;\"/>\r\n   </g>\r\n   <g id=\"patch_13\">\r\n    <path clip-path=\"url(#p3c9c202603)\" d=\"M 163.659943 224.64 \r\nL 173.171307 224.64 \r\nL 173.171307 147.477489 \r\nL 163.659943 147.477489 \r\nz\r\n\" style=\"fill:#1f77b4;opacity:0.5;\"/>\r\n   </g>\r\n   <g id=\"patch_14\">\r\n    <path clip-path=\"url(#p3c9c202603)\" d=\"M 173.171307 224.64 \r\nL 182.68267 224.64 \r\nL 182.68267 165.829034 \r\nL 173.171307 165.829034 \r\nz\r\n\" style=\"fill:#1f77b4;opacity:0.5;\"/>\r\n   </g>\r\n   <g id=\"patch_15\">\r\n    <path clip-path=\"url(#p3c9c202603)\" d=\"M 182.68267 224.64 \r\nL 192.194034 224.64 \r\nL 192.194034 176.897309 \r\nL 182.68267 176.897309 \r\nz\r\n\" style=\"fill:#1f77b4;opacity:0.5;\"/>\r\n   </g>\r\n   <g id=\"patch_16\">\r\n    <path clip-path=\"url(#p3c9c202603)\" d=\"M 192.194034 224.64 \r\nL 201.705398 224.64 \r\nL 201.705398 174.459994 \r\nL 192.194034 174.459994 \r\nz\r\n\" style=\"fill:#1f77b4;opacity:0.5;\"/>\r\n   </g>\r\n   <g id=\"patch_17\">\r\n    <path clip-path=\"url(#p3c9c202603)\" d=\"M 201.705398 224.64 \r\nL 211.216761 224.64 \r\nL 211.216761 191.377825 \r\nL 201.705398 191.377825 \r\nz\r\n\" style=\"fill:#1f77b4;opacity:0.5;\"/>\r\n   </g>\r\n   <g id=\"patch_18\">\r\n    <path clip-path=\"url(#p3c9c202603)\" d=\"M 211.216761 224.64 \r\nL 220.728125 224.64 \r\nL 220.728125 197.858214 \r\nL 211.216761 197.858214 \r\nz\r\n\" style=\"fill:#1f77b4;opacity:0.5;\"/>\r\n   </g>\r\n   <g id=\"patch_19\">\r\n    <path clip-path=\"url(#p3c9c202603)\" d=\"M 220.728125 224.64 \r\nL 230.239489 224.64 \r\nL 230.239489 203.363678 \r\nL 220.728125 203.363678 \r\nz\r\n\" style=\"fill:#1f77b4;opacity:0.5;\"/>\r\n   </g>\r\n   <g id=\"patch_20\">\r\n    <path clip-path=\"url(#p3c9c202603)\" d=\"M 230.239489 224.64 \r\nL 239.750852 224.64 \r\nL 239.750852 201.987312 \r\nL 230.239489 201.987312 \r\nz\r\n\" style=\"fill:#1f77b4;opacity:0.5;\"/>\r\n   </g>\r\n   <g id=\"patch_21\">\r\n    <path clip-path=\"url(#p3c9c202603)\" d=\"M 239.750852 224.64 \r\nL 249.262216 224.64 \r\nL 249.262216 194.732717 \r\nL 239.750852 194.732717 \r\nz\r\n\" style=\"fill:#1f77b4;opacity:0.5;\"/>\r\n   </g>\r\n   <g id=\"patch_22\">\r\n    <path clip-path=\"url(#p3c9c202603)\" d=\"M 249.262216 224.64 \r\nL 258.77358 224.64 \r\nL 258.77358 205.170158 \r\nL 249.262216 205.170158 \r\nz\r\n\" style=\"fill:#1f77b4;opacity:0.5;\"/>\r\n   </g>\r\n   <g id=\"patch_23\">\r\n    <path clip-path=\"url(#p3c9c202603)\" d=\"M 258.77358 224.64 \r\nL 268.284943 224.64 \r\nL 268.284943 211.220433 \r\nL 258.77358 211.220433 \r\nz\r\n\" style=\"fill:#1f77b4;opacity:0.5;\"/>\r\n   </g>\r\n   <g id=\"patch_24\">\r\n    <path clip-path=\"url(#p3c9c202603)\" d=\"M 268.284943 224.64 \r\nL 277.796307 224.64 \r\nL 277.796307 215.521576 \r\nL 268.284943 215.521576 \r\nz\r\n\" style=\"fill:#1f77b4;opacity:0.5;\"/>\r\n   </g>\r\n   <g id=\"patch_25\">\r\n    <path clip-path=\"url(#p3c9c202603)\" d=\"M 277.796307 224.64 \r\nL 287.30767 224.64 \r\nL 287.30767 219.593325 \r\nL 277.796307 219.593325 \r\nz\r\n\" style=\"fill:#1f77b4;opacity:0.5;\"/>\r\n   </g>\r\n   <g id=\"patch_26\">\r\n    <path clip-path=\"url(#p3c9c202603)\" d=\"M 287.30767 224.64 \r\nL 296.819034 224.64 \r\nL 296.819034 222.489428 \r\nL 287.30767 222.489428 \r\nz\r\n\" style=\"fill:#1f77b4;opacity:0.5;\"/>\r\n   </g>\r\n   <g id=\"patch_27\">\r\n    <path clip-path=\"url(#p3c9c202603)\" d=\"M 296.819034 224.64 \r\nL 306.330398 224.64 \r\nL 306.330398 216.209759 \r\nL 296.819034 216.209759 \r\nz\r\n\" style=\"fill:#1f77b4;opacity:0.5;\"/>\r\n   </g>\r\n   <g id=\"patch_28\">\r\n    <path clip-path=\"url(#p3c9c202603)\" d=\"M 306.330398 224.64 \r\nL 315.841761 224.64 \r\nL 315.841761 222.116663 \r\nL 306.330398 222.116663 \r\nz\r\n\" style=\"fill:#1f77b4;opacity:0.5;\"/>\r\n   </g>\r\n   <g id=\"patch_29\">\r\n    <path clip-path=\"url(#p3c9c202603)\" d=\"M 315.841761 224.64 \r\nL 325.353125 224.64 \r\nL 325.353125 222.948217 \r\nL 315.841761 222.948217 \r\nz\r\n\" style=\"fill:#1f77b4;opacity:0.5;\"/>\r\n   </g>\r\n   <g id=\"patch_30\">\r\n    <path clip-path=\"url(#p3c9c202603)\" d=\"M 325.353125 224.64 \r\nL 334.864489 224.64 \r\nL 334.864489 223.03424 \r\nL 325.353125 223.03424 \r\nz\r\n\" style=\"fill:#1f77b4;opacity:0.5;\"/>\r\n   </g>\r\n   <g id=\"patch_31\">\r\n    <path clip-path=\"url(#p3c9c202603)\" d=\"M 334.864489 224.64 \r\nL 344.375852 224.64 \r\nL 344.375852 220.482228 \r\nL 334.864489 220.482228 \r\nz\r\n\" style=\"fill:#1f77b4;opacity:0.5;\"/>\r\n   </g>\r\n   <g id=\"patch_32\">\r\n    <path clip-path=\"url(#p3c9c202603)\" d=\"M 344.375852 224.64 \r\nL 353.887216 224.64 \r\nL 353.887216 218.790445 \r\nL 344.375852 218.790445 \r\nz\r\n\" style=\"fill:#1f77b4;opacity:0.5;\"/>\r\n   </g>\r\n   <g id=\"patch_33\">\r\n    <path clip-path=\"url(#p3c9c202603)\" d=\"M 353.887216 224.64 \r\nL 363.39858 224.64 \r\nL 363.39858 223.923143 \r\nL 353.887216 223.923143 \r\nz\r\n\" style=\"fill:#1f77b4;opacity:0.5;\"/>\r\n   </g>\r\n   <g id=\"patch_34\">\r\n    <path clip-path=\"url(#p3c9c202603)\" d=\"M 363.39858 224.64 \r\nL 372.909943 224.64 \r\nL 372.909943 224.582651 \r\nL 363.39858 224.582651 \r\nz\r\n\" style=\"fill:#1f77b4;opacity:0.5;\"/>\r\n   </g>\r\n   <g id=\"matplotlib.axis_1\">\r\n    <g id=\"xtick_1\">\r\n     <g id=\"line2d_1\">\r\n      <defs>\r\n       <path d=\"M 0 0 \r\nL 0 3.5 \r\n\" id=\"m5ef35256da\" style=\"stroke:#000000;stroke-width:0.8;\"/>\r\n      </defs>\r\n      <g>\r\n       <use style=\"stroke:#000000;stroke-width:0.8;\" x=\"67.934521\" xlink:href=\"#m5ef35256da\" y=\"224.64\"/>\r\n      </g>\r\n     </g>\r\n     <g id=\"text_1\">\r\n      <!-- 0 -->\r\n      <g transform=\"translate(64.753271 239.238437)scale(0.1 -0.1)\">\r\n       <defs>\r\n        <path d=\"M 31.78125 66.40625 \r\nQ 24.171875 66.40625 20.328125 58.90625 \r\nQ 16.5 51.421875 16.5 36.375 \r\nQ 16.5 21.390625 20.328125 13.890625 \r\nQ 24.171875 6.390625 31.78125 6.390625 \r\nQ 39.453125 6.390625 43.28125 13.890625 \r\nQ 47.125 21.390625 47.125 36.375 \r\nQ 47.125 51.421875 43.28125 58.90625 \r\nQ 39.453125 66.40625 31.78125 66.40625 \r\nz\r\nM 31.78125 74.21875 \r\nQ 44.046875 74.21875 50.515625 64.515625 \r\nQ 56.984375 54.828125 56.984375 36.375 \r\nQ 56.984375 17.96875 50.515625 8.265625 \r\nQ 44.046875 -1.421875 31.78125 -1.421875 \r\nQ 19.53125 -1.421875 13.0625 8.265625 \r\nQ 6.59375 17.96875 6.59375 36.375 \r\nQ 6.59375 54.828125 13.0625 64.515625 \r\nQ 19.53125 74.21875 31.78125 74.21875 \r\nz\r\n\" id=\"DejaVuSans-48\"/>\r\n       </defs>\r\n       <use xlink:href=\"#DejaVuSans-48\"/>\r\n      </g>\r\n     </g>\r\n    </g>\r\n    <g id=\"xtick_2\">\r\n     <g id=\"line2d_2\">\r\n      <g>\r\n       <use style=\"stroke:#000000;stroke-width:0.8;\" x=\"129.113141\" xlink:href=\"#m5ef35256da\" y=\"224.64\"/>\r\n      </g>\r\n     </g>\r\n     <g id=\"text_2\">\r\n      <!-- 200 -->\r\n      <g transform=\"translate(119.569391 239.238437)scale(0.1 -0.1)\">\r\n       <defs>\r\n        <path d=\"M 19.1875 8.296875 \r\nL 53.609375 8.296875 \r\nL 53.609375 0 \r\nL 7.328125 0 \r\nL 7.328125 8.296875 \r\nQ 12.9375 14.109375 22.625 23.890625 \r\nQ 32.328125 33.6875 34.8125 36.53125 \r\nQ 39.546875 41.84375 41.421875 45.53125 \r\nQ 43.3125 49.21875 43.3125 52.78125 \r\nQ 43.3125 58.59375 39.234375 62.25 \r\nQ 35.15625 65.921875 28.609375 65.921875 \r\nQ 23.96875 65.921875 18.8125 64.3125 \r\nQ 13.671875 62.703125 7.8125 59.421875 \r\nL 7.8125 69.390625 \r\nQ 13.765625 71.78125 18.9375 73 \r\nQ 24.125 74.21875 28.421875 74.21875 \r\nQ 39.75 74.21875 46.484375 68.546875 \r\nQ 53.21875 62.890625 53.21875 53.421875 \r\nQ 53.21875 48.921875 51.53125 44.890625 \r\nQ 49.859375 40.875 45.40625 35.40625 \r\nQ 44.1875 33.984375 37.640625 27.21875 \r\nQ 31.109375 20.453125 19.1875 8.296875 \r\nz\r\n\" id=\"DejaVuSans-50\"/>\r\n       </defs>\r\n       <use xlink:href=\"#DejaVuSans-50\"/>\r\n       <use x=\"63.623047\" xlink:href=\"#DejaVuSans-48\"/>\r\n       <use x=\"127.246094\" xlink:href=\"#DejaVuSans-48\"/>\r\n      </g>\r\n     </g>\r\n    </g>\r\n    <g id=\"xtick_3\">\r\n     <g id=\"line2d_3\">\r\n      <g>\r\n       <use style=\"stroke:#000000;stroke-width:0.8;\" x=\"190.291761\" xlink:href=\"#m5ef35256da\" y=\"224.64\"/>\r\n      </g>\r\n     </g>\r\n     <g id=\"text_3\">\r\n      <!-- 400 -->\r\n      <g transform=\"translate(180.748011 239.238437)scale(0.1 -0.1)\">\r\n       <defs>\r\n        <path d=\"M 37.796875 64.3125 \r\nL 12.890625 25.390625 \r\nL 37.796875 25.390625 \r\nz\r\nM 35.203125 72.90625 \r\nL 47.609375 72.90625 \r\nL 47.609375 25.390625 \r\nL 58.015625 25.390625 \r\nL 58.015625 17.1875 \r\nL 47.609375 17.1875 \r\nL 47.609375 0 \r\nL 37.796875 0 \r\nL 37.796875 17.1875 \r\nL 4.890625 17.1875 \r\nL 4.890625 26.703125 \r\nz\r\n\" id=\"DejaVuSans-52\"/>\r\n       </defs>\r\n       <use xlink:href=\"#DejaVuSans-52\"/>\r\n       <use x=\"63.623047\" xlink:href=\"#DejaVuSans-48\"/>\r\n       <use x=\"127.246094\" xlink:href=\"#DejaVuSans-48\"/>\r\n      </g>\r\n     </g>\r\n    </g>\r\n    <g id=\"xtick_4\">\r\n     <g id=\"line2d_4\">\r\n      <g>\r\n       <use style=\"stroke:#000000;stroke-width:0.8;\" x=\"251.470382\" xlink:href=\"#m5ef35256da\" y=\"224.64\"/>\r\n      </g>\r\n     </g>\r\n     <g id=\"text_4\">\r\n      <!-- 600 -->\r\n      <g transform=\"translate(241.926632 239.238437)scale(0.1 -0.1)\">\r\n       <defs>\r\n        <path d=\"M 33.015625 40.375 \r\nQ 26.375 40.375 22.484375 35.828125 \r\nQ 18.609375 31.296875 18.609375 23.390625 \r\nQ 18.609375 15.53125 22.484375 10.953125 \r\nQ 26.375 6.390625 33.015625 6.390625 \r\nQ 39.65625 6.390625 43.53125 10.953125 \r\nQ 47.40625 15.53125 47.40625 23.390625 \r\nQ 47.40625 31.296875 43.53125 35.828125 \r\nQ 39.65625 40.375 33.015625 40.375 \r\nz\r\nM 52.59375 71.296875 \r\nL 52.59375 62.3125 \r\nQ 48.875 64.0625 45.09375 64.984375 \r\nQ 41.3125 65.921875 37.59375 65.921875 \r\nQ 27.828125 65.921875 22.671875 59.328125 \r\nQ 17.53125 52.734375 16.796875 39.40625 \r\nQ 19.671875 43.65625 24.015625 45.921875 \r\nQ 28.375 48.1875 33.59375 48.1875 \r\nQ 44.578125 48.1875 50.953125 41.515625 \r\nQ 57.328125 34.859375 57.328125 23.390625 \r\nQ 57.328125 12.15625 50.6875 5.359375 \r\nQ 44.046875 -1.421875 33.015625 -1.421875 \r\nQ 20.359375 -1.421875 13.671875 8.265625 \r\nQ 6.984375 17.96875 6.984375 36.375 \r\nQ 6.984375 53.65625 15.1875 63.9375 \r\nQ 23.390625 74.21875 37.203125 74.21875 \r\nQ 40.921875 74.21875 44.703125 73.484375 \r\nQ 48.484375 72.75 52.59375 71.296875 \r\nz\r\n\" id=\"DejaVuSans-54\"/>\r\n       </defs>\r\n       <use xlink:href=\"#DejaVuSans-54\"/>\r\n       <use x=\"63.623047\" xlink:href=\"#DejaVuSans-48\"/>\r\n       <use x=\"127.246094\" xlink:href=\"#DejaVuSans-48\"/>\r\n      </g>\r\n     </g>\r\n    </g>\r\n    <g id=\"xtick_5\">\r\n     <g id=\"line2d_5\">\r\n      <g>\r\n       <use style=\"stroke:#000000;stroke-width:0.8;\" x=\"312.649002\" xlink:href=\"#m5ef35256da\" y=\"224.64\"/>\r\n      </g>\r\n     </g>\r\n     <g id=\"text_5\">\r\n      <!-- 800 -->\r\n      <g transform=\"translate(303.105252 239.238437)scale(0.1 -0.1)\">\r\n       <defs>\r\n        <path d=\"M 31.78125 34.625 \r\nQ 24.75 34.625 20.71875 30.859375 \r\nQ 16.703125 27.09375 16.703125 20.515625 \r\nQ 16.703125 13.921875 20.71875 10.15625 \r\nQ 24.75 6.390625 31.78125 6.390625 \r\nQ 38.8125 6.390625 42.859375 10.171875 \r\nQ 46.921875 13.96875 46.921875 20.515625 \r\nQ 46.921875 27.09375 42.890625 30.859375 \r\nQ 38.875 34.625 31.78125 34.625 \r\nz\r\nM 21.921875 38.8125 \r\nQ 15.578125 40.375 12.03125 44.71875 \r\nQ 8.5 49.078125 8.5 55.328125 \r\nQ 8.5 64.0625 14.71875 69.140625 \r\nQ 20.953125 74.21875 31.78125 74.21875 \r\nQ 42.671875 74.21875 48.875 69.140625 \r\nQ 55.078125 64.0625 55.078125 55.328125 \r\nQ 55.078125 49.078125 51.53125 44.71875 \r\nQ 48 40.375 41.703125 38.8125 \r\nQ 48.828125 37.15625 52.796875 32.3125 \r\nQ 56.78125 27.484375 56.78125 20.515625 \r\nQ 56.78125 9.90625 50.3125 4.234375 \r\nQ 43.84375 -1.421875 31.78125 -1.421875 \r\nQ 19.734375 -1.421875 13.25 4.234375 \r\nQ 6.78125 9.90625 6.78125 20.515625 \r\nQ 6.78125 27.484375 10.78125 32.3125 \r\nQ 14.796875 37.15625 21.921875 38.8125 \r\nz\r\nM 18.3125 54.390625 \r\nQ 18.3125 48.734375 21.84375 45.5625 \r\nQ 25.390625 42.390625 31.78125 42.390625 \r\nQ 38.140625 42.390625 41.71875 45.5625 \r\nQ 45.3125 48.734375 45.3125 54.390625 \r\nQ 45.3125 60.0625 41.71875 63.234375 \r\nQ 38.140625 66.40625 31.78125 66.40625 \r\nQ 25.390625 66.40625 21.84375 63.234375 \r\nQ 18.3125 60.0625 18.3125 54.390625 \r\nz\r\n\" id=\"DejaVuSans-56\"/>\r\n       </defs>\r\n       <use xlink:href=\"#DejaVuSans-56\"/>\r\n       <use x=\"63.623047\" xlink:href=\"#DejaVuSans-48\"/>\r\n       <use x=\"127.246094\" xlink:href=\"#DejaVuSans-48\"/>\r\n      </g>\r\n     </g>\r\n    </g>\r\n    <g id=\"xtick_6\">\r\n     <g id=\"line2d_6\">\r\n      <g>\r\n       <use style=\"stroke:#000000;stroke-width:0.8;\" x=\"373.827622\" xlink:href=\"#m5ef35256da\" y=\"224.64\"/>\r\n      </g>\r\n     </g>\r\n     <g id=\"text_6\">\r\n      <!-- 1000 -->\r\n      <g transform=\"translate(361.102622 239.238437)scale(0.1 -0.1)\">\r\n       <defs>\r\n        <path d=\"M 12.40625 8.296875 \r\nL 28.515625 8.296875 \r\nL 28.515625 63.921875 \r\nL 10.984375 60.40625 \r\nL 10.984375 69.390625 \r\nL 28.421875 72.90625 \r\nL 38.28125 72.90625 \r\nL 38.28125 8.296875 \r\nL 54.390625 8.296875 \r\nL 54.390625 0 \r\nL 12.40625 0 \r\nz\r\n\" id=\"DejaVuSans-49\"/>\r\n       </defs>\r\n       <use xlink:href=\"#DejaVuSans-49\"/>\r\n       <use x=\"63.623047\" xlink:href=\"#DejaVuSans-48\"/>\r\n       <use x=\"127.246094\" xlink:href=\"#DejaVuSans-48\"/>\r\n       <use x=\"190.869141\" xlink:href=\"#DejaVuSans-48\"/>\r\n      </g>\r\n     </g>\r\n    </g>\r\n   </g>\r\n   <g id=\"matplotlib.axis_2\">\r\n    <g id=\"ytick_1\">\r\n     <g id=\"line2d_7\">\r\n      <defs>\r\n       <path d=\"M 0 0 \r\nL -3.5 0 \r\n\" id=\"m4221428bf8\" style=\"stroke:#000000;stroke-width:0.8;\"/>\r\n      </defs>\r\n      <g>\r\n       <use style=\"stroke:#000000;stroke-width:0.8;\" x=\"53.328125\" xlink:href=\"#m4221428bf8\" y=\"224.64\"/>\r\n      </g>\r\n     </g>\r\n     <g id=\"text_7\">\r\n      <!-- 0 -->\r\n      <g transform=\"translate(39.965625 228.439219)scale(0.1 -0.1)\">\r\n       <use xlink:href=\"#DejaVuSans-48\"/>\r\n      </g>\r\n     </g>\r\n    </g>\r\n    <g id=\"ytick_2\">\r\n     <g id=\"line2d_8\">\r\n      <g>\r\n       <use style=\"stroke:#000000;stroke-width:0.8;\" x=\"53.328125\" xlink:href=\"#m4221428bf8\" y=\"195.965711\"/>\r\n      </g>\r\n     </g>\r\n     <g id=\"text_8\">\r\n      <!-- 1000 -->\r\n      <g transform=\"translate(20.878125 199.76493)scale(0.1 -0.1)\">\r\n       <use xlink:href=\"#DejaVuSans-49\"/>\r\n       <use x=\"63.623047\" xlink:href=\"#DejaVuSans-48\"/>\r\n       <use x=\"127.246094\" xlink:href=\"#DejaVuSans-48\"/>\r\n       <use x=\"190.869141\" xlink:href=\"#DejaVuSans-48\"/>\r\n      </g>\r\n     </g>\r\n    </g>\r\n    <g id=\"ytick_3\">\r\n     <g id=\"line2d_9\">\r\n      <g>\r\n       <use style=\"stroke:#000000;stroke-width:0.8;\" x=\"53.328125\" xlink:href=\"#m4221428bf8\" y=\"167.291422\"/>\r\n      </g>\r\n     </g>\r\n     <g id=\"text_9\">\r\n      <!-- 2000 -->\r\n      <g transform=\"translate(20.878125 171.090641)scale(0.1 -0.1)\">\r\n       <use xlink:href=\"#DejaVuSans-50\"/>\r\n       <use x=\"63.623047\" xlink:href=\"#DejaVuSans-48\"/>\r\n       <use x=\"127.246094\" xlink:href=\"#DejaVuSans-48\"/>\r\n       <use x=\"190.869141\" xlink:href=\"#DejaVuSans-48\"/>\r\n      </g>\r\n     </g>\r\n    </g>\r\n    <g id=\"ytick_4\">\r\n     <g id=\"line2d_10\">\r\n      <g>\r\n       <use style=\"stroke:#000000;stroke-width:0.8;\" x=\"53.328125\" xlink:href=\"#m4221428bf8\" y=\"138.617133\"/>\r\n      </g>\r\n     </g>\r\n     <g id=\"text_10\">\r\n      <!-- 3000 -->\r\n      <g transform=\"translate(20.878125 142.416352)scale(0.1 -0.1)\">\r\n       <defs>\r\n        <path d=\"M 40.578125 39.3125 \r\nQ 47.65625 37.796875 51.625 33 \r\nQ 55.609375 28.21875 55.609375 21.1875 \r\nQ 55.609375 10.40625 48.1875 4.484375 \r\nQ 40.765625 -1.421875 27.09375 -1.421875 \r\nQ 22.515625 -1.421875 17.65625 -0.515625 \r\nQ 12.796875 0.390625 7.625 2.203125 \r\nL 7.625 11.71875 \r\nQ 11.71875 9.328125 16.59375 8.109375 \r\nQ 21.484375 6.890625 26.8125 6.890625 \r\nQ 36.078125 6.890625 40.9375 10.546875 \r\nQ 45.796875 14.203125 45.796875 21.1875 \r\nQ 45.796875 27.640625 41.28125 31.265625 \r\nQ 36.765625 34.90625 28.71875 34.90625 \r\nL 20.21875 34.90625 \r\nL 20.21875 43.015625 \r\nL 29.109375 43.015625 \r\nQ 36.375 43.015625 40.234375 45.921875 \r\nQ 44.09375 48.828125 44.09375 54.296875 \r\nQ 44.09375 59.90625 40.109375 62.90625 \r\nQ 36.140625 65.921875 28.71875 65.921875 \r\nQ 24.65625 65.921875 20.015625 65.03125 \r\nQ 15.375 64.15625 9.8125 62.3125 \r\nL 9.8125 71.09375 \r\nQ 15.4375 72.65625 20.34375 73.4375 \r\nQ 25.25 74.21875 29.59375 74.21875 \r\nQ 40.828125 74.21875 47.359375 69.109375 \r\nQ 53.90625 64.015625 53.90625 55.328125 \r\nQ 53.90625 49.265625 50.4375 45.09375 \r\nQ 46.96875 40.921875 40.578125 39.3125 \r\nz\r\n\" id=\"DejaVuSans-51\"/>\r\n       </defs>\r\n       <use xlink:href=\"#DejaVuSans-51\"/>\r\n       <use x=\"63.623047\" xlink:href=\"#DejaVuSans-48\"/>\r\n       <use x=\"127.246094\" xlink:href=\"#DejaVuSans-48\"/>\r\n       <use x=\"190.869141\" xlink:href=\"#DejaVuSans-48\"/>\r\n      </g>\r\n     </g>\r\n    </g>\r\n    <g id=\"ytick_5\">\r\n     <g id=\"line2d_11\">\r\n      <g>\r\n       <use style=\"stroke:#000000;stroke-width:0.8;\" x=\"53.328125\" xlink:href=\"#m4221428bf8\" y=\"109.942844\"/>\r\n      </g>\r\n     </g>\r\n     <g id=\"text_11\">\r\n      <!-- 4000 -->\r\n      <g transform=\"translate(20.878125 113.742063)scale(0.1 -0.1)\">\r\n       <use xlink:href=\"#DejaVuSans-52\"/>\r\n       <use x=\"63.623047\" xlink:href=\"#DejaVuSans-48\"/>\r\n       <use x=\"127.246094\" xlink:href=\"#DejaVuSans-48\"/>\r\n       <use x=\"190.869141\" xlink:href=\"#DejaVuSans-48\"/>\r\n      </g>\r\n     </g>\r\n    </g>\r\n    <g id=\"ytick_6\">\r\n     <g id=\"line2d_12\">\r\n      <g>\r\n       <use style=\"stroke:#000000;stroke-width:0.8;\" x=\"53.328125\" xlink:href=\"#m4221428bf8\" y=\"81.268556\"/>\r\n      </g>\r\n     </g>\r\n     <g id=\"text_12\">\r\n      <!-- 5000 -->\r\n      <g transform=\"translate(20.878125 85.067774)scale(0.1 -0.1)\">\r\n       <defs>\r\n        <path d=\"M 10.796875 72.90625 \r\nL 49.515625 72.90625 \r\nL 49.515625 64.59375 \r\nL 19.828125 64.59375 \r\nL 19.828125 46.734375 \r\nQ 21.96875 47.46875 24.109375 47.828125 \r\nQ 26.265625 48.1875 28.421875 48.1875 \r\nQ 40.625 48.1875 47.75 41.5 \r\nQ 54.890625 34.8125 54.890625 23.390625 \r\nQ 54.890625 11.625 47.5625 5.09375 \r\nQ 40.234375 -1.421875 26.90625 -1.421875 \r\nQ 22.3125 -1.421875 17.546875 -0.640625 \r\nQ 12.796875 0.140625 7.71875 1.703125 \r\nL 7.71875 11.625 \r\nQ 12.109375 9.234375 16.796875 8.0625 \r\nQ 21.484375 6.890625 26.703125 6.890625 \r\nQ 35.15625 6.890625 40.078125 11.328125 \r\nQ 45.015625 15.765625 45.015625 23.390625 \r\nQ 45.015625 31 40.078125 35.4375 \r\nQ 35.15625 39.890625 26.703125 39.890625 \r\nQ 22.75 39.890625 18.8125 39.015625 \r\nQ 14.890625 38.140625 10.796875 36.28125 \r\nz\r\n\" id=\"DejaVuSans-53\"/>\r\n       </defs>\r\n       <use xlink:href=\"#DejaVuSans-53\"/>\r\n       <use x=\"63.623047\" xlink:href=\"#DejaVuSans-48\"/>\r\n       <use x=\"127.246094\" xlink:href=\"#DejaVuSans-48\"/>\r\n       <use x=\"190.869141\" xlink:href=\"#DejaVuSans-48\"/>\r\n      </g>\r\n     </g>\r\n    </g>\r\n    <g id=\"ytick_7\">\r\n     <g id=\"line2d_13\">\r\n      <g>\r\n       <use style=\"stroke:#000000;stroke-width:0.8;\" x=\"53.328125\" xlink:href=\"#m4221428bf8\" y=\"52.594267\"/>\r\n      </g>\r\n     </g>\r\n     <g id=\"text_13\">\r\n      <!-- 6000 -->\r\n      <g transform=\"translate(20.878125 56.393485)scale(0.1 -0.1)\">\r\n       <use xlink:href=\"#DejaVuSans-54\"/>\r\n       <use x=\"63.623047\" xlink:href=\"#DejaVuSans-48\"/>\r\n       <use x=\"127.246094\" xlink:href=\"#DejaVuSans-48\"/>\r\n       <use x=\"190.869141\" xlink:href=\"#DejaVuSans-48\"/>\r\n      </g>\r\n     </g>\r\n    </g>\r\n    <g id=\"ytick_8\">\r\n     <g id=\"line2d_14\">\r\n      <g>\r\n       <use style=\"stroke:#000000;stroke-width:0.8;\" x=\"53.328125\" xlink:href=\"#m4221428bf8\" y=\"23.919978\"/>\r\n      </g>\r\n     </g>\r\n     <g id=\"text_14\">\r\n      <!-- 7000 -->\r\n      <g transform=\"translate(20.878125 27.719197)scale(0.1 -0.1)\">\r\n       <defs>\r\n        <path d=\"M 8.203125 72.90625 \r\nL 55.078125 72.90625 \r\nL 55.078125 68.703125 \r\nL 28.609375 0 \r\nL 18.3125 0 \r\nL 43.21875 64.59375 \r\nL 8.203125 64.59375 \r\nz\r\n\" id=\"DejaVuSans-55\"/>\r\n       </defs>\r\n       <use xlink:href=\"#DejaVuSans-55\"/>\r\n       <use x=\"63.623047\" xlink:href=\"#DejaVuSans-48\"/>\r\n       <use x=\"127.246094\" xlink:href=\"#DejaVuSans-48\"/>\r\n       <use x=\"190.869141\" xlink:href=\"#DejaVuSans-48\"/>\r\n      </g>\r\n     </g>\r\n    </g>\r\n    <g id=\"text_15\">\r\n     <!-- Frequency -->\r\n     <g transform=\"translate(14.798438 141.749687)rotate(-90)scale(0.1 -0.1)\">\r\n      <defs>\r\n       <path d=\"M 9.8125 72.90625 \r\nL 51.703125 72.90625 \r\nL 51.703125 64.59375 \r\nL 19.671875 64.59375 \r\nL 19.671875 43.109375 \r\nL 48.578125 43.109375 \r\nL 48.578125 34.8125 \r\nL 19.671875 34.8125 \r\nL 19.671875 0 \r\nL 9.8125 0 \r\nz\r\n\" id=\"DejaVuSans-70\"/>\r\n       <path d=\"M 41.109375 46.296875 \r\nQ 39.59375 47.171875 37.8125 47.578125 \r\nQ 36.03125 48 33.890625 48 \r\nQ 26.265625 48 22.1875 43.046875 \r\nQ 18.109375 38.09375 18.109375 28.8125 \r\nL 18.109375 0 \r\nL 9.078125 0 \r\nL 9.078125 54.6875 \r\nL 18.109375 54.6875 \r\nL 18.109375 46.1875 \r\nQ 20.953125 51.171875 25.484375 53.578125 \r\nQ 30.03125 56 36.53125 56 \r\nQ 37.453125 56 38.578125 55.875 \r\nQ 39.703125 55.765625 41.0625 55.515625 \r\nz\r\n\" id=\"DejaVuSans-114\"/>\r\n       <path d=\"M 56.203125 29.59375 \r\nL 56.203125 25.203125 \r\nL 14.890625 25.203125 \r\nQ 15.484375 15.921875 20.484375 11.0625 \r\nQ 25.484375 6.203125 34.421875 6.203125 \r\nQ 39.59375 6.203125 44.453125 7.46875 \r\nQ 49.3125 8.734375 54.109375 11.28125 \r\nL 54.109375 2.78125 \r\nQ 49.265625 0.734375 44.1875 -0.34375 \r\nQ 39.109375 -1.421875 33.890625 -1.421875 \r\nQ 20.796875 -1.421875 13.15625 6.1875 \r\nQ 5.515625 13.8125 5.515625 26.8125 \r\nQ 5.515625 40.234375 12.765625 48.109375 \r\nQ 20.015625 56 32.328125 56 \r\nQ 43.359375 56 49.78125 48.890625 \r\nQ 56.203125 41.796875 56.203125 29.59375 \r\nz\r\nM 47.21875 32.234375 \r\nQ 47.125 39.59375 43.09375 43.984375 \r\nQ 39.0625 48.390625 32.421875 48.390625 \r\nQ 24.90625 48.390625 20.390625 44.140625 \r\nQ 15.875 39.890625 15.1875 32.171875 \r\nz\r\n\" id=\"DejaVuSans-101\"/>\r\n       <path d=\"M 14.796875 27.296875 \r\nQ 14.796875 17.390625 18.875 11.75 \r\nQ 22.953125 6.109375 30.078125 6.109375 \r\nQ 37.203125 6.109375 41.296875 11.75 \r\nQ 45.40625 17.390625 45.40625 27.296875 \r\nQ 45.40625 37.203125 41.296875 42.84375 \r\nQ 37.203125 48.484375 30.078125 48.484375 \r\nQ 22.953125 48.484375 18.875 42.84375 \r\nQ 14.796875 37.203125 14.796875 27.296875 \r\nz\r\nM 45.40625 8.203125 \r\nQ 42.578125 3.328125 38.25 0.953125 \r\nQ 33.9375 -1.421875 27.875 -1.421875 \r\nQ 17.96875 -1.421875 11.734375 6.484375 \r\nQ 5.515625 14.40625 5.515625 27.296875 \r\nQ 5.515625 40.1875 11.734375 48.09375 \r\nQ 17.96875 56 27.875 56 \r\nQ 33.9375 56 38.25 53.625 \r\nQ 42.578125 51.265625 45.40625 46.390625 \r\nL 45.40625 54.6875 \r\nL 54.390625 54.6875 \r\nL 54.390625 -20.796875 \r\nL 45.40625 -20.796875 \r\nz\r\n\" id=\"DejaVuSans-113\"/>\r\n       <path d=\"M 8.5 21.578125 \r\nL 8.5 54.6875 \r\nL 17.484375 54.6875 \r\nL 17.484375 21.921875 \r\nQ 17.484375 14.15625 20.5 10.265625 \r\nQ 23.53125 6.390625 29.59375 6.390625 \r\nQ 36.859375 6.390625 41.078125 11.03125 \r\nQ 45.3125 15.671875 45.3125 23.6875 \r\nL 45.3125 54.6875 \r\nL 54.296875 54.6875 \r\nL 54.296875 0 \r\nL 45.3125 0 \r\nL 45.3125 8.40625 \r\nQ 42.046875 3.421875 37.71875 1 \r\nQ 33.40625 -1.421875 27.6875 -1.421875 \r\nQ 18.265625 -1.421875 13.375 4.4375 \r\nQ 8.5 10.296875 8.5 21.578125 \r\nz\r\nM 31.109375 56 \r\nz\r\n\" id=\"DejaVuSans-117\"/>\r\n       <path d=\"M 54.890625 33.015625 \r\nL 54.890625 0 \r\nL 45.90625 0 \r\nL 45.90625 32.71875 \r\nQ 45.90625 40.484375 42.875 44.328125 \r\nQ 39.84375 48.1875 33.796875 48.1875 \r\nQ 26.515625 48.1875 22.3125 43.546875 \r\nQ 18.109375 38.921875 18.109375 30.90625 \r\nL 18.109375 0 \r\nL 9.078125 0 \r\nL 9.078125 54.6875 \r\nL 18.109375 54.6875 \r\nL 18.109375 46.1875 \r\nQ 21.34375 51.125 25.703125 53.5625 \r\nQ 30.078125 56 35.796875 56 \r\nQ 45.21875 56 50.046875 50.171875 \r\nQ 54.890625 44.34375 54.890625 33.015625 \r\nz\r\n\" id=\"DejaVuSans-110\"/>\r\n       <path d=\"M 48.78125 52.59375 \r\nL 48.78125 44.1875 \r\nQ 44.96875 46.296875 41.140625 47.34375 \r\nQ 37.3125 48.390625 33.40625 48.390625 \r\nQ 24.65625 48.390625 19.8125 42.84375 \r\nQ 14.984375 37.3125 14.984375 27.296875 \r\nQ 14.984375 17.28125 19.8125 11.734375 \r\nQ 24.65625 6.203125 33.40625 6.203125 \r\nQ 37.3125 6.203125 41.140625 7.25 \r\nQ 44.96875 8.296875 48.78125 10.40625 \r\nL 48.78125 2.09375 \r\nQ 45.015625 0.34375 40.984375 -0.53125 \r\nQ 36.96875 -1.421875 32.421875 -1.421875 \r\nQ 20.0625 -1.421875 12.78125 6.34375 \r\nQ 5.515625 14.109375 5.515625 27.296875 \r\nQ 5.515625 40.671875 12.859375 48.328125 \r\nQ 20.21875 56 33.015625 56 \r\nQ 37.15625 56 41.109375 55.140625 \r\nQ 45.0625 54.296875 48.78125 52.59375 \r\nz\r\n\" id=\"DejaVuSans-99\"/>\r\n       <path d=\"M 32.171875 -5.078125 \r\nQ 28.375 -14.84375 24.75 -17.8125 \r\nQ 21.140625 -20.796875 15.09375 -20.796875 \r\nL 7.90625 -20.796875 \r\nL 7.90625 -13.28125 \r\nL 13.1875 -13.28125 \r\nQ 16.890625 -13.28125 18.9375 -11.515625 \r\nQ 21 -9.765625 23.484375 -3.21875 \r\nL 25.09375 0.875 \r\nL 2.984375 54.6875 \r\nL 12.5 54.6875 \r\nL 29.59375 11.921875 \r\nL 46.6875 54.6875 \r\nL 56.203125 54.6875 \r\nz\r\n\" id=\"DejaVuSans-121\"/>\r\n      </defs>\r\n      <use xlink:href=\"#DejaVuSans-70\"/>\r\n      <use x=\"50.269531\" xlink:href=\"#DejaVuSans-114\"/>\r\n      <use x=\"89.132812\" xlink:href=\"#DejaVuSans-101\"/>\r\n      <use x=\"150.65625\" xlink:href=\"#DejaVuSans-113\"/>\r\n      <use x=\"214.132812\" xlink:href=\"#DejaVuSans-117\"/>\r\n      <use x=\"277.511719\" xlink:href=\"#DejaVuSans-101\"/>\r\n      <use x=\"339.035156\" xlink:href=\"#DejaVuSans-110\"/>\r\n      <use x=\"402.414062\" xlink:href=\"#DejaVuSans-99\"/>\r\n      <use x=\"457.394531\" xlink:href=\"#DejaVuSans-121\"/>\r\n     </g>\r\n    </g>\r\n   </g>\r\n   <g id=\"patch_35\">\r\n    <path d=\"M 53.328125 224.64 \r\nL 53.328125 7.2 \r\n\" style=\"fill:none;stroke:#000000;stroke-linecap:square;stroke-linejoin:miter;stroke-width:0.8;\"/>\r\n   </g>\r\n   <g id=\"patch_36\">\r\n    <path d=\"M 388.128125 224.64 \r\nL 388.128125 7.2 \r\n\" style=\"fill:none;stroke:#000000;stroke-linecap:square;stroke-linejoin:miter;stroke-width:0.8;\"/>\r\n   </g>\r\n   <g id=\"patch_37\">\r\n    <path d=\"M 53.328125 224.64 \r\nL 388.128125 224.64 \r\n\" style=\"fill:none;stroke:#000000;stroke-linecap:square;stroke-linejoin:miter;stroke-width:0.8;\"/>\r\n   </g>\r\n   <g id=\"patch_38\">\r\n    <path d=\"M 53.328125 7.2 \r\nL 388.128125 7.2 \r\n\" style=\"fill:none;stroke:#000000;stroke-linecap:square;stroke-linejoin:miter;stroke-width:0.8;\"/>\r\n   </g>\r\n  </g>\r\n </g>\r\n <defs>\r\n  <clipPath id=\"p3c9c202603\">\r\n   <rect height=\"217.44\" width=\"334.8\" x=\"53.328125\" y=\"7.2\"/>\r\n  </clipPath>\r\n </defs>\r\n</svg>\r\n"
     },
     "metadata": {
      "needs_background": "light"
     }
    }
   ],
   "metadata": {}
  },
  {
   "cell_type": "code",
   "execution_count": null,
   "source": [],
   "outputs": [],
   "metadata": {}
  }
 ]
}