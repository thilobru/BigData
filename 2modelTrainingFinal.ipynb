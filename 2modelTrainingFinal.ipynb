{
 "cells": [
  {
   "cell_type": "markdown",
   "source": [
    "# Loading data for NER"
   ],
   "metadata": {}
  },
  {
   "cell_type": "code",
   "execution_count": 1,
   "source": [
    "import pandas as pd\r\n",
    "import numpy as np\r\n",
    "\r\n",
    "#load from folder data\r\n",
    "# trainingdata300.csv loads the data file where the sentences are not longer than 300 words\r\n",
    "data = pd.read_csv('data/trainingdata300.csv')\r\n",
    "\r\n",
    "#fill missing values with 'forward fill' method\r\n",
    "data = data.fillna(method=\"ffill\")"
   ],
   "outputs": [],
   "metadata": {}
  },
  {
   "cell_type": "code",
   "execution_count": 2,
   "source": [
    "data.tail(10)"
   ],
   "outputs": [
    {
     "output_type": "execute_result",
     "data": {
      "text/plain": [
       "         satzId         Wort Attribut\n",
       "4945007   55339        start        O\n",
       "4945008   55339         Load        O\n",
       "4945009   55339       amount        O\n",
       "4945010   55339      setting        O\n",
       "4945011   55339       SAFETY        O\n",
       "4945012   55339          AND        O\n",
       "4945013   55339  MAINTENANCE        O\n",
       "4945014   55339     Lockable        O\n",
       "4945015   55339      control        O\n",
       "4945016   55339        panel        O"
      ],
      "text/html": [
       "<div>\n",
       "<style scoped>\n",
       "    .dataframe tbody tr th:only-of-type {\n",
       "        vertical-align: middle;\n",
       "    }\n",
       "\n",
       "    .dataframe tbody tr th {\n",
       "        vertical-align: top;\n",
       "    }\n",
       "\n",
       "    .dataframe thead th {\n",
       "        text-align: right;\n",
       "    }\n",
       "</style>\n",
       "<table border=\"1\" class=\"dataframe\">\n",
       "  <thead>\n",
       "    <tr style=\"text-align: right;\">\n",
       "      <th></th>\n",
       "      <th>satzId</th>\n",
       "      <th>Wort</th>\n",
       "      <th>Attribut</th>\n",
       "    </tr>\n",
       "  </thead>\n",
       "  <tbody>\n",
       "    <tr>\n",
       "      <th>4945007</th>\n",
       "      <td>55339</td>\n",
       "      <td>start</td>\n",
       "      <td>O</td>\n",
       "    </tr>\n",
       "    <tr>\n",
       "      <th>4945008</th>\n",
       "      <td>55339</td>\n",
       "      <td>Load</td>\n",
       "      <td>O</td>\n",
       "    </tr>\n",
       "    <tr>\n",
       "      <th>4945009</th>\n",
       "      <td>55339</td>\n",
       "      <td>amount</td>\n",
       "      <td>O</td>\n",
       "    </tr>\n",
       "    <tr>\n",
       "      <th>4945010</th>\n",
       "      <td>55339</td>\n",
       "      <td>setting</td>\n",
       "      <td>O</td>\n",
       "    </tr>\n",
       "    <tr>\n",
       "      <th>4945011</th>\n",
       "      <td>55339</td>\n",
       "      <td>SAFETY</td>\n",
       "      <td>O</td>\n",
       "    </tr>\n",
       "    <tr>\n",
       "      <th>4945012</th>\n",
       "      <td>55339</td>\n",
       "      <td>AND</td>\n",
       "      <td>O</td>\n",
       "    </tr>\n",
       "    <tr>\n",
       "      <th>4945013</th>\n",
       "      <td>55339</td>\n",
       "      <td>MAINTENANCE</td>\n",
       "      <td>O</td>\n",
       "    </tr>\n",
       "    <tr>\n",
       "      <th>4945014</th>\n",
       "      <td>55339</td>\n",
       "      <td>Lockable</td>\n",
       "      <td>O</td>\n",
       "    </tr>\n",
       "    <tr>\n",
       "      <th>4945015</th>\n",
       "      <td>55339</td>\n",
       "      <td>control</td>\n",
       "      <td>O</td>\n",
       "    </tr>\n",
       "    <tr>\n",
       "      <th>4945016</th>\n",
       "      <td>55339</td>\n",
       "      <td>panel</td>\n",
       "      <td>O</td>\n",
       "    </tr>\n",
       "  </tbody>\n",
       "</table>\n",
       "</div>"
      ]
     },
     "metadata": {},
     "execution_count": 2
    }
   ],
   "metadata": {}
  },
  {
   "cell_type": "markdown",
   "source": [
    "# Building dictionarys for embeddings"
   ],
   "metadata": {}
  },
  {
   "cell_type": "code",
   "execution_count": 3,
   "source": [
    "# build a list with all in the file occuring words \r\n",
    "words = list(set(data[\"Wort\"].values))\r\n",
    "n_words = len(words); n_words"
   ],
   "outputs": [
    {
     "output_type": "execute_result",
     "data": {
      "text/plain": [
       "82108"
      ]
     },
     "metadata": {},
     "execution_count": 3
    }
   ],
   "metadata": {}
  },
  {
   "cell_type": "code",
   "execution_count": 4,
   "source": [
    "# build a list with all in the file occuring tags/attributes\r\n",
    "tags = list(set(data[\"Attribut\"].values))\r\n",
    "n_tags = len(tags); n_tags"
   ],
   "outputs": [
    {
     "output_type": "execute_result",
     "data": {
      "text/plain": [
       "7"
      ]
     },
     "metadata": {},
     "execution_count": 4
    }
   ],
   "metadata": {}
  },
  {
   "cell_type": "code",
   "execution_count": 5,
   "source": [
    "# function to retrieve a sentence from the data set. \r\n",
    "# This is done by grouping by the satzId\r\n",
    "\r\n",
    "class SentenceGetter(object):    \r\n",
    "    def __init__(self, data):\r\n",
    "        #self.n_sent = -1\r\n",
    "        self.data = data\r\n",
    "        self.empty = False\r\n",
    "        agg_func = lambda s: [(w, t) for w, t in zip(s[\"Wort\"].values.tolist(),\r\n",
    "                                                s[\"Attribut\"].values.tolist())]\r\n",
    "        self.grouped = self.data.groupby(\"satzId\").apply(agg_func)\r\n",
    "        self.sentences = [s for s in self.grouped]\r\n",
    "    #method to get the next sentence. (This method will not be used by us)\r\n",
    "    # def get_next(self):\r\n",
    "    #     try:\r\n",
    "    #         self.n_sent += 1\r\n",
    "    #         s = self.grouped[self.n_sent]\r\n",
    "    #         return s\r\n",
    "    #     except:\r\n",
    "    #         return None"
   ],
   "outputs": [],
   "metadata": {}
  },
  {
   "cell_type": "code",
   "execution_count": 6,
   "source": [
    "# initialize the sentenceGetter\r\n",
    "getter = SentenceGetter(data)\r\n",
    "# array of the sentences\r\n",
    "sentences = getter.sentences"
   ],
   "outputs": [],
   "metadata": {}
  },
  {
   "cell_type": "code",
   "execution_count": 7,
   "source": [
    "# every time this method is is called we will get the next sentence\r\n",
    "#sent = getter.get_next()\r\n",
    "#print(sent)"
   ],
   "outputs": [],
   "metadata": {}
  },
  {
   "cell_type": "code",
   "execution_count": 8,
   "source": [
    "# create dictionary for mapping words into indexes. If word is \"UNK\" (unknown) the index is 1. If word is \"PAD\" (padding) the index is 0\r\n",
    "word2idx = {w: i + 2 for i, w in enumerate(words)}\r\n",
    "word2idx[\"UNK\"] = 1\r\n",
    "word2idx[\"PAD\"] = 0\r\n",
    "# dictionary to get the words from a index\r\n",
    "idx2word = {i: w for w, i in word2idx.items()}\r\n",
    "\r\n",
    "# create dictionary for mapping tags/attributes into indexes. If tag is \"PAD\" (padding) the index is 0\r\n",
    "tag2idx = {t: i + 1 for i, t in enumerate(tags)}\r\n",
    "tag2idx[\"PAD\"] = 0\r\n",
    "# dictionary to get the tag from a index\r\n",
    "idx2tag = {i: w for w, i in tag2idx.items()}"
   ],
   "outputs": [],
   "metadata": {}
  },
  {
   "cell_type": "code",
   "execution_count": 9,
   "source": [
    "# Examples\r\n",
    "print(word2idx[\"Broan\"])\r\n",
    "print(tag2idx[\"B-Brand\"])"
   ],
   "outputs": [
    {
     "output_type": "stream",
     "name": "stdout",
     "text": [
      "69639\n",
      "3\n"
     ]
    }
   ],
   "metadata": {}
  },
  {
   "cell_type": "markdown",
   "source": [
    "# Building final structures for the model"
   ],
   "metadata": {}
  },
  {
   "cell_type": "code",
   "execution_count": 10,
   "source": [
    "from keras.preprocessing.sequence import pad_sequences\r\n",
    "\r\n",
    "# prepare the tokens for padding. cut sentences after 75 words and cut words after 10 characters.\r\n",
    "max_len = 75\r\n",
    "max_len_char = 10\r\n",
    "\r\n",
    "# map the words of all sentences into indexes. The Result is a list of sentences. Every sentence is a list of words represented as indexes.\r\n",
    "X_word = [[word2idx[w[0]] for w in s] for s in sentences]\r\n",
    "\r\n",
    "# pad or cut the sequences to a maximum of 75 words.\r\n",
    "X_word = pad_sequences(maxlen=max_len, sequences=X_word, value=word2idx[\"PAD\"], padding='post', truncating='post')"
   ],
   "outputs": [],
   "metadata": {}
  },
  {
   "cell_type": "code",
   "execution_count": 11,
   "source": [
    "# preparations for character embedding\r\n",
    "\r\n",
    "# build a set with every occuring character\r\n",
    "chars = set([w_i for w in words for w_i in w])\r\n",
    "n_chars = len(chars)\r\n",
    "print(n_chars)\r\n",
    "\r\n",
    "# create dictionary for mapping characters into indexes. If char is \"UNK\" (unknown) the index is 1. If char is \"PAD\" (padding) the index is 0\r\n",
    "char2idx = {c: i + 2 for i, c in enumerate(chars)}\r\n",
    "char2idx[\"UNK\"] = 1\r\n",
    "char2idx[\"PAD\"] = 0"
   ],
   "outputs": [
    {
     "output_type": "stream",
     "name": "stdout",
     "text": [
      "1838\n"
     ]
    }
   ],
   "metadata": {}
  },
  {
   "cell_type": "code",
   "execution_count": 12,
   "source": [
    "# map the characters of all words in all sentences into indexes. The Result is a list of sentences. \r\n",
    "# Every sentence is a list of words. And every word is a list of characters represented as indexes.\r\n",
    "# The sequences are padded or cut at a maximum of 10 characters per word (in the third for loop)\r\n",
    "\r\n",
    "X_char = []\r\n",
    "for sentence in sentences:\r\n",
    "    sent_seq = []\r\n",
    "    for i in range(max_len):\r\n",
    "        word_seq = []\r\n",
    "        for j in range(max_len_char):\r\n",
    "            try:\r\n",
    "                word_seq.append(char2idx.get(sentence[i][0][j]))\r\n",
    "            except:\r\n",
    "                word_seq.append(char2idx.get(\"PAD\"))\r\n",
    "        sent_seq.append(word_seq)\r\n",
    "    X_char.append(np.array(sent_seq))"
   ],
   "outputs": [],
   "metadata": {}
  },
  {
   "cell_type": "code",
   "execution_count": 13,
   "source": [
    "# map the tags/attributes of all sentences into indexes. The Result is a list of sentences. Every sentence is a list of tags represented as indexes.\r\n",
    "# y is the variable we want to learn/train\r\n",
    "y = [[tag2idx[w[1]] for w in s] for s in sentences]\r\n",
    "\r\n",
    "# pad or cut the sequences to a maximum of 75 words.\r\n",
    "y = pad_sequences(maxlen=max_len, sequences=y, value=tag2idx[\"PAD\"], padding='post', truncating='post')"
   ],
   "outputs": [],
   "metadata": {}
  },
  {
   "cell_type": "code",
   "execution_count": 14,
   "source": [
    "from sklearn.model_selection import train_test_split\r\n",
    "\r\n",
    "# splitting dataset into training and test. traingsize = 0.9, testsize = 0.1\r\n",
    "X_word_tr, X_word_te, y_tr, y_te = train_test_split(X_word, y, test_size=0.1, random_state=2018)\r\n",
    "X_char_tr, X_char_te, _, _ = train_test_split(X_char, y, test_size=0.1, random_state=2018)"
   ],
   "outputs": [],
   "metadata": {}
  },
  {
   "cell_type": "markdown",
   "source": [
    "# Building the model architecture"
   ],
   "metadata": {}
  },
  {
   "cell_type": "code",
   "execution_count": 15,
   "source": [
    "#imports needed for the model\r\n",
    "from keras.models import Model, Input\r\n",
    "from keras.layers import LSTM, Embedding, Dense, TimeDistributed, Dropout, Conv1D\r\n",
    "from keras.layers import Bidirectional, concatenate, SpatialDropout1D, GlobalMaxPooling1D"
   ],
   "outputs": [],
   "metadata": {}
  },
  {
   "cell_type": "code",
   "execution_count": 16,
   "source": [
    "# input and embedding for words\r\n",
    "word_in = Input(shape=(max_len,))\r\n",
    "emb_word = Embedding(input_dim=n_words + 2, output_dim=20,\r\n",
    "                     input_length=max_len, mask_zero=True)(word_in)\r\n",
    "\r\n",
    "# input and embeddings for characters\r\n",
    "char_in = Input(shape=(max_len, max_len_char,))\r\n",
    "emb_char = TimeDistributed(Embedding(input_dim=n_chars + 2, output_dim=10,\r\n",
    "                           input_length=max_len_char, mask_zero=True))(char_in)\r\n",
    "# character LSTM to get word encodings by characters\r\n",
    "char_enc = TimeDistributed(LSTM(units=20, return_sequences=False,\r\n",
    "                                recurrent_dropout=0.5))(emb_char)\r\n",
    "\r\n",
    "# main LSTM\r\n",
    "x = concatenate([emb_word, char_enc]) # combining word and character layers\r\n",
    "x = SpatialDropout1D(0.3)(x)\r\n",
    "main_lstm = Bidirectional(LSTM(units=50, return_sequences=True,\r\n",
    "                               recurrent_dropout=0.6))(x)\r\n",
    "out = TimeDistributed(Dense(n_tags + 1, activation=\"sigmoid\"))(main_lstm)\r\n",
    "\r\n",
    "model = Model([word_in, char_in], out)"
   ],
   "outputs": [],
   "metadata": {}
  },
  {
   "cell_type": "code",
   "execution_count": 17,
   "source": [
    "# compiling the model with the above layers, \r\n",
    "# using standard adam optimizer and sparse categorical crossentropy optimizing accuracy \r\n",
    "model.compile(optimizer=\"adam\", loss=\"sparse_categorical_crossentropy\", metrics=[\"acc\"])"
   ],
   "outputs": [],
   "metadata": {}
  },
  {
   "cell_type": "code",
   "execution_count": 18,
   "source": [
    "#printing layer information and summary\r\n",
    "model.summary()"
   ],
   "outputs": [
    {
     "output_type": "stream",
     "name": "stdout",
     "text": [
      "Model: \"model\"\n",
      "__________________________________________________________________________________________________\n",
      "Layer (type)                    Output Shape         Param #     Connected to                     \n",
      "==================================================================================================\n",
      "input_2 (InputLayer)            [(None, 75, 10)]     0                                            \n",
      "__________________________________________________________________________________________________\n",
      "input_1 (InputLayer)            [(None, 75)]         0                                            \n",
      "__________________________________________________________________________________________________\n",
      "time_distributed (TimeDistribut (None, 75, 10, 10)   18400       input_2[0][0]                    \n",
      "__________________________________________________________________________________________________\n",
      "embedding (Embedding)           (None, 75, 20)       1642200     input_1[0][0]                    \n",
      "__________________________________________________________________________________________________\n",
      "time_distributed_1 (TimeDistrib (None, 75, 20)       2480        time_distributed[0][0]           \n",
      "__________________________________________________________________________________________________\n",
      "concatenate (Concatenate)       (None, 75, 40)       0           embedding[0][0]                  \n",
      "                                                                 time_distributed_1[0][0]         \n",
      "__________________________________________________________________________________________________\n",
      "spatial_dropout1d (SpatialDropo (None, 75, 40)       0           concatenate[0][0]                \n",
      "__________________________________________________________________________________________________\n",
      "bidirectional (Bidirectional)   (None, 75, 100)      36400       spatial_dropout1d[0][0]          \n",
      "__________________________________________________________________________________________________\n",
      "time_distributed_2 (TimeDistrib (None, 75, 8)        808         bidirectional[0][0]              \n",
      "==================================================================================================\n",
      "Total params: 1,700,288\n",
      "Trainable params: 1,700,288\n",
      "Non-trainable params: 0\n",
      "__________________________________________________________________________________________________\n"
     ]
    }
   ],
   "metadata": {}
  },
  {
   "cell_type": "markdown",
   "source": [
    "# Training the model"
   ],
   "metadata": {}
  },
  {
   "cell_type": "code",
   "execution_count": 26,
   "source": [
    "# hier vielleicht anderes Training einfügen?\r\n",
    "history = model.fit([X_word_tr,\r\n",
    "                     np.array(X_char_tr).reshape((len(X_char_tr), max_len, max_len_char))],\r\n",
    "                    np.array(y_tr).reshape(len(y_tr), max_len, 1),\r\n",
    "                    batch_size=32, epochs=10, validation_split=0.1, verbose=1)"
   ],
   "outputs": [
    {
     "output_type": "stream",
     "name": "stdout",
     "text": [
      "Epoch 1/10\n",
      "351/986 [=========>....................] - ETA: 1:54 - loss: 0.5843 - acc: 0.9158"
     ]
    }
   ],
   "metadata": {}
  },
  {
   "cell_type": "code",
   "execution_count": 19,
   "source": [
    "# training step\r\n",
    "# with early stopping to let val_loss decide when training is done\r\n",
    "from keras.callbacks import EarlyStopping\r\n",
    "early_stop = EarlyStopping(\r\n",
    "    monitor='val_loss',\r\n",
    "    # default: 0.0001 -> wenn höher, stoppt es eher, bei 0.00001:\r\n",
    "    min_delta=0.0005,\r\n",
    "    patience=5,\r\n",
    "    verbose=1,\r\n",
    "    mode='min',\r\n",
    "    restore_best_weights=True)\r\n",
    "# fitting the model with:\r\n",
    "# 1. List of sentences containing list of words\r\n",
    "# 2. List of sentences containing list of words containing list of characters\r\n",
    "# 3. attributes we are trying to learn/tag\r\n",
    "history = model.fit([X_word_tr,\r\n",
    "                    np.array(X_char_tr).reshape((len(X_char_tr), max_len, max_len_char))],\r\n",
    "                    np.array(y_tr).reshape(len(y_tr), max_len, 1),\r\n",
    "                    batch_size=64,\r\n",
    "                    epochs=50,\r\n",
    "                    validation_split=0.1,\r\n",
    "                    verbose=1,\r\n",
    "                    callbacks=[early_stop])\r\n"
   ],
   "outputs": [
    {
     "output_type": "stream",
     "name": "stdout",
     "text": [
      "Epoch 1/50\n",
      "493/493 [==============================] - 215s 208ms/step - loss: 0.4859 - acc: 0.9230 - val_loss: 0.0718 - val_acc: 0.9725\n",
      "Epoch 2/50\n",
      "493/493 [==============================] - 90s 182ms/step - loss: 0.0597 - acc: 0.9772 - val_loss: 0.0329 - val_acc: 0.9880\n",
      "Epoch 3/50\n",
      "493/493 [==============================] - 94s 190ms/step - loss: 0.0320 - acc: 0.9881 - val_loss: 0.0270 - val_acc: 0.9895\n",
      "Epoch 4/50\n",
      "493/493 [==============================] - 95s 193ms/step - loss: 0.0243 - acc: 0.9906 - val_loss: 0.0234 - val_acc: 0.9907\n",
      "Epoch 5/50\n",
      "493/493 [==============================] - 110s 224ms/step - loss: 0.0199 - acc: 0.9921 - val_loss: 0.0212 - val_acc: 0.9913\n",
      "Epoch 6/50\n",
      "493/493 [==============================] - 104s 211ms/step - loss: 0.0176 - acc: 0.9928 - val_loss: 0.0200 - val_acc: 0.9919\n",
      "Epoch 7/50\n",
      "493/493 [==============================] - 113s 229ms/step - loss: 0.0151 - acc: 0.9938 - val_loss: 0.0191 - val_acc: 0.9925\n",
      "Epoch 8/50\n",
      "493/493 [==============================] - 128s 259ms/step - loss: 0.0133 - acc: 0.9945 - val_loss: 0.0182 - val_acc: 0.9927\n",
      "Epoch 9/50\n",
      "493/493 [==============================] - 120s 243ms/step - loss: 0.0119 - acc: 0.9950 - val_loss: 0.0182 - val_acc: 0.9927\n",
      "Epoch 10/50\n",
      "493/493 [==============================] - 125s 253ms/step - loss: 0.0110 - acc: 0.9953 - val_loss: 0.0178 - val_acc: 0.9932\n",
      "Epoch 11/50\n",
      "493/493 [==============================] - 95s 193ms/step - loss: 0.0097 - acc: 0.9959 - val_loss: 0.0174 - val_acc: 0.9934\n",
      "Epoch 12/50\n",
      "493/493 [==============================] - 124s 252ms/step - loss: 0.0087 - acc: 0.9963 - val_loss: 0.0174 - val_acc: 0.9933\n",
      "Epoch 13/50\n",
      "493/493 [==============================] - 106s 215ms/step - loss: 0.0080 - acc: 0.9966 - val_loss: 0.0171 - val_acc: 0.9937\n",
      "Epoch 14/50\n",
      "493/493 [==============================] - 89s 181ms/step - loss: 0.0076 - acc: 0.9968 - val_loss: 0.0172 - val_acc: 0.9937\n",
      "Epoch 15/50\n",
      "493/493 [==============================] - 103s 209ms/step - loss: 0.0073 - acc: 0.9968 - val_loss: 0.0170 - val_acc: 0.9938\n",
      "Epoch 16/50\n",
      "493/493 [==============================] - 92s 186ms/step - loss: 0.0065 - acc: 0.9972 - val_loss: 0.0172 - val_acc: 0.9940\n",
      "Restoring model weights from the end of the best epoch.\n",
      "Epoch 00016: early stopping\n"
     ]
    }
   ],
   "metadata": {}
  },
  {
   "cell_type": "code",
   "execution_count": 20,
   "source": [
    "# save history as dataframe\r\n",
    "hist = pd.DataFrame(history.history)"
   ],
   "outputs": [],
   "metadata": {}
  },
  {
   "cell_type": "code",
   "execution_count": 21,
   "source": [
    "#plotting accuracy and validation accuracy\r\n",
    "\r\n",
    "\r\n",
    "# hist statt history.history?\r\n",
    "\r\n",
    "\r\n",
    "import matplotlib.pyplot as plt\r\n",
    "plt.style.use(\"ggplot\")\r\n",
    "plt.figure(figsize=(6, 6))\r\n",
    "plt.plot(history.history['acc'])\r\n",
    "plt.plot(history.history['val_acc'])\r\n",
    "plt.title('model accuracy')\r\n",
    "plt.ylabel('accuracy')\r\n",
    "plt.xlabel('epoch')\r\n",
    "plt.legend(['train', 'test'], loc='upper left')\r\n",
    "plt.show()\r\n",
    "\r\n",
    "plt.figure(figsize=(6, 6))\r\n",
    "plt.plot(history.history['loss'])\r\n",
    "plt.plot(history.history['val_loss'])\r\n",
    "plt.title('model loss')\r\n",
    "plt.ylabel('loss')\r\n",
    "plt.xlabel('epoch')\r\n",
    "plt.legend(['train', 'test'], loc='upper left')\r\n",
    "plt.show()"
   ],
   "outputs": [
    {
     "output_type": "display_data",
     "data": {
      "text/plain": [
       "<Figure size 432x432 with 1 Axes>"
      ],
      "image/png": "[encoded data removed]"
     },
     "metadata": {}
    },
    {
     "output_type": "display_data",
     "data": {
      "text/plain": [
       "<Figure size 432x432 with 1 Axes>"
      ],
      "image/png": "[encoded data removed]"
     },
     "metadata": {}
    }
   ],
   "metadata": {}
  },
  {
   "cell_type": "markdown",
   "source": [
    "# Testing the model on unseen data"
   ],
   "metadata": {}
  },
  {
   "cell_type": "code",
   "execution_count": 22,
   "source": [
    "# predicting the test data with the trained model\r\n",
    "y_pred = model.predict([X_word_te,\r\n",
    "                        np.array(X_char_te).reshape((len(X_char_te),\r\n",
    "                                                     max_len, max_len_char))])"
   ],
   "outputs": [],
   "metadata": {}
  },
  {
   "cell_type": "code",
   "execution_count": 23,
   "source": [
    "# using the 12th sentence of the test data as an example\r\n",
    "i = 12\r\n",
    "p = np.argmax(y_pred[i], axis=-1)\r\n",
    "print(\"{:15}||{:5}||{}\".format(\"Word\", \"True\", \"Pred\"))\r\n",
    "print(30 * \"=\")\r\n",
    "for w, t, pred in zip(X_word_te[i], y_te[i], p):\r\n",
    "    if w != 0:\r\n",
    "        print(\"{:15}: {:5} {}\".format(idx2word[w], idx2tag[t], idx2tag[pred]))"
   ],
   "outputs": [
    {
     "output_type": "stream",
     "name": "stdout",
     "text": [
      "Word           ||True ||Pred\n",
      "==============================\n",
      "Viking         : B-Brand B-Brand\n",
      "VWH536121BW    : B-Modelnumber B-Modelnumber\n",
      "Viking         : B-Brand B-Brand\n",
      "VWH536121BW    : B-Modelnumber B-Modelnumber\n",
      "Overview       : O     O\n",
      "The            : O     O\n",
      "36             : O     O\n",
      "\"              : O     O\n",
      "Professional   : O     O\n",
      "5              : O     O\n",
      "Series         : O     O\n",
      "High           : O     O\n",
      "Wall           : O     O\n",
      "Mount          : O     O\n",
      "Hood           : O     O\n",
      "from           : O     O\n",
      "Viking         : B-Brand B-Brand\n",
      "is             : O     O\n",
      "the            : O     O\n",
      "perfect        : O     O\n",
      "companion      : O     O\n",
      "for            : O     O\n",
      "Viking         : B-Brand B-Brand\n",
      "ranges         : O     O\n",
      "and            : O     O\n",
      "cooktops       : O     O\n",
      ".              : O     O\n",
      "The            : O     O\n",
      "dishwasher     : O     O\n",
      "-              : O     O\n",
      "safe           : O     O\n",
      "stainless      : O     O\n",
      "steel          : O     O\n",
      "baffle         : O     O\n",
      "filters        : O     O\n",
      "make           : O     O\n",
      "cleaning       : O     O\n",
      "a              : O     O\n",
      "breeze         : O     O\n",
      ".              : O     O\n",
      "The            : O     O\n",
      "bright         : O     O\n",
      "LED            : O     O\n",
      "lights         : O     O\n",
      "illuminate     : O     O\n",
      "the            : O     O\n",
      "cooking        : O     O\n",
      "surface        : O     O\n",
      "below          : O     O\n",
      ".              : O     O\n",
      "Available      : O     O\n",
      "at             : O     O\n",
      "AppliancesConnection: O     O\n",
      "Features       : O     O\n",
      ":              : O     O\n",
      "Virtually      : O     O\n",
      "Seamless       : O     O\n",
      "Design         : O     O\n",
      "Blend          : O     O\n",
      "in             : O     O\n",
      "and            : O     O\n",
      "stand          : O     O\n",
      "out            : O     O\n",
      "with           : O     O\n",
      "a              : O     O\n",
      "smooth         : O     O\n",
      ",              : O     O\n",
      "clean          : O     O\n",
      "look           : O     O\n",
      "and            : O     O\n",
      "a              : O     O\n",
      "virtually      : O     O\n",
      "seamless       : O     O\n",
      "design         : O     O\n",
      ".              : O     O\n"
     ]
    }
   ],
   "metadata": {}
  },
  {
   "cell_type": "markdown",
   "source": [
    "## Calculating metrics for confusion matrix"
   ],
   "metadata": {}
  },
  {
   "cell_type": "code",
   "execution_count": 24,
   "source": [
    "tn, tp_brand, tp_modelnumber, fp, fn_brand, fn_modelnumber = 0,0,0,0,0,0\r\n",
    "\r\n",
    "#for x in range(0, 3891):\r\n",
    "for x in range(len(X_word_te)):\r\n",
    "    p = np.argmax(y_pred[x], axis=-1)\r\n",
    "    #print(\"{:15}||{:5}||{}\".format(\"Word\", \"True\", \"Pred\"))\r\n",
    "    #print(30 * \"=\")\r\n",
    "    for w, t, pred in zip(X_word_te[x], y_te[x], p):\r\n",
    "        if w != 0:\r\n",
    "            #print(\"{:15}: {:5} {}\".format(idx2word[w], idx2tag[t], idx2tag[pred]))\r\n",
    "            if(idx2tag[t] == idx2tag[pred]):\r\n",
    "                if(idx2tag[t]=='O'):\r\n",
    "                    #print('TN')\r\n",
    "                    tn += 1\r\n",
    "                elif('Brand' in idx2tag[t]):\r\n",
    "                    #print('TP-Brand')\r\n",
    "                    tp_brand += 1\r\n",
    "                elif('Modelnumber' in idx2tag[t]):\r\n",
    "                    #print('TP-Modelnumber')\r\n",
    "                    tp_modelnumber += 1\r\n",
    "            else:\r\n",
    "                if(idx2tag[t]=='O'):\r\n",
    "                    #print('FP')\r\n",
    "                    fp += 1\r\n",
    "                elif('Brand' in idx2tag[t]):\r\n",
    "                    #print('FN-Brand')\r\n",
    "                    fn_brand += 1\r\n",
    "                elif('Modelnumber' in idx2tag[t]):\r\n",
    "                    #print('FN-Modelnumber')\r\n",
    "                    fn_modelnumber += 1\r\n",
    "\r\n",
    "print('TN:', tn, '\\nTP-Brand', tp_brand, '\\nTP-Modelnumber', tp_modelnumber, '\\nFP', fp, '\\nFN-Brand', fn_brand, '\\nFN-Modelnumber', fn_modelnumber)\r\n",
    "\r\n",
    "recall_brand = tp_brand / (fn_brand+tp_brand)\r\n",
    "precision_brand = tp_brand / (tp_brand+fp)\r\n",
    "print('\\nRecall Brand:', recall_brand, '\\nPrecision Brand:', precision_brand)\r\n",
    "\r\n",
    "recall_modelnumber = tp_modelnumber / (fn_modelnumber+tp_modelnumber)\r\n",
    "precision_modelnumber = tp_modelnumber / (tp_modelnumber+fp)\r\n",
    "print('\\nRecall Modelnumber', recall_modelnumber, '\\nPrecision Modelnumber', precision_modelnumber)"
   ],
   "outputs": [
    {
     "output_type": "stream",
     "name": "stdout",
     "text": [
      "TN: 218219 \n",
      "TP-Brand 7589 \n",
      "TP-Modelnumber 6786 \n",
      "FP 754 \n",
      "FN-Brand 168 \n",
      "FN-Modelnumber 654\n",
      "\n",
      "Recall Brand: 0.9783421425808947 \n",
      "Precision Brand: 0.9096248351911782\n",
      "\n",
      "Recall Modelnumber 0.9120967741935484 \n",
      "Precision Modelnumber 0.9\n"
     ]
    }
   ],
   "metadata": {}
  }
 ],
 "metadata": {
  "orig_nbformat": 4,
  "language_info": {
   "name": "python",
   "version": "3.9.6",
   "mimetype": "text/x-python",
   "codemirror_mode": {
    "name": "ipython",
    "version": 3
   },
   "pygments_lexer": "ipython3",
   "nbconvert_exporter": "python",
   "file_extension": ".py"
  },
  "kernelspec": {
   "name": "python3",
   "display_name": "Python 3.9.6 64-bit"
  },
  "interpreter": {
   "hash": "3898892d7e34557bb8499aff9aa0ccd3bf7bab375649613f01d0952879e4c360"
  }
 },
 "nbformat": 4,
 "nbformat_minor": 2
}