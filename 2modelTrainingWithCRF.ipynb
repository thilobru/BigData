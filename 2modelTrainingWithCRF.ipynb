{
 "cells": [
  {
   "cell_type": "code",
   "execution_count": 17,
   "source": [
    "import tensorflow as tf\r\n",
    "try:\r\n",
    "    # Disable all GPUS\r\n",
    "    tf.config.set_visible_devices([], 'GPU')\r\n",
    "    visible_devices = tf.config.get_visible_devices()\r\n",
    "    for device in visible_devices:\r\n",
    "        assert device.device_type != 'GPU'\r\n",
    "except:\r\n",
    "    # Invalid device or cannot modify virtual devices once initialized.\r\n",
    "    pass"
   ],
   "outputs": [],
   "metadata": {}
  },
  {
   "cell_type": "code",
   "execution_count": 18,
   "source": [
    "#prepare the data\r\n",
    "import pandas as pd\r\n",
    "import numpy as np\r\n",
    "\r\n",
    "data = pd.read_csv('data/trainingdata300.csv')\r\n",
    "data = data.fillna(method=\"ffill\")\r\n",
    "data.tail(10)"
   ],
   "outputs": [
    {
     "output_type": "execute_result",
     "data": {
      "text/plain": [
       "         satzId         Wort Attribut\n",
       "4928474   55339        start        O\n",
       "4928475   55339         Load        O\n",
       "4928476   55339       amount        O\n",
       "4928477   55339      setting        O\n",
       "4928478   55339       SAFETY        O\n",
       "4928479   55339          AND        O\n",
       "4928480   55339  MAINTENANCE        O\n",
       "4928481   55339     Lockable        O\n",
       "4928482   55339      control        O\n",
       "4928483   55339        panel        O"
      ],
      "text/html": [
       "<div>\n",
       "<style scoped>\n",
       "    .dataframe tbody tr th:only-of-type {\n",
       "        vertical-align: middle;\n",
       "    }\n",
       "\n",
       "    .dataframe tbody tr th {\n",
       "        vertical-align: top;\n",
       "    }\n",
       "\n",
       "    .dataframe thead th {\n",
       "        text-align: right;\n",
       "    }\n",
       "</style>\n",
       "<table border=\"1\" class=\"dataframe\">\n",
       "  <thead>\n",
       "    <tr style=\"text-align: right;\">\n",
       "      <th></th>\n",
       "      <th>satzId</th>\n",
       "      <th>Wort</th>\n",
       "      <th>Attribut</th>\n",
       "    </tr>\n",
       "  </thead>\n",
       "  <tbody>\n",
       "    <tr>\n",
       "      <th>4928474</th>\n",
       "      <td>55339</td>\n",
       "      <td>start</td>\n",
       "      <td>O</td>\n",
       "    </tr>\n",
       "    <tr>\n",
       "      <th>4928475</th>\n",
       "      <td>55339</td>\n",
       "      <td>Load</td>\n",
       "      <td>O</td>\n",
       "    </tr>\n",
       "    <tr>\n",
       "      <th>4928476</th>\n",
       "      <td>55339</td>\n",
       "      <td>amount</td>\n",
       "      <td>O</td>\n",
       "    </tr>\n",
       "    <tr>\n",
       "      <th>4928477</th>\n",
       "      <td>55339</td>\n",
       "      <td>setting</td>\n",
       "      <td>O</td>\n",
       "    </tr>\n",
       "    <tr>\n",
       "      <th>4928478</th>\n",
       "      <td>55339</td>\n",
       "      <td>SAFETY</td>\n",
       "      <td>O</td>\n",
       "    </tr>\n",
       "    <tr>\n",
       "      <th>4928479</th>\n",
       "      <td>55339</td>\n",
       "      <td>AND</td>\n",
       "      <td>O</td>\n",
       "    </tr>\n",
       "    <tr>\n",
       "      <th>4928480</th>\n",
       "      <td>55339</td>\n",
       "      <td>MAINTENANCE</td>\n",
       "      <td>O</td>\n",
       "    </tr>\n",
       "    <tr>\n",
       "      <th>4928481</th>\n",
       "      <td>55339</td>\n",
       "      <td>Lockable</td>\n",
       "      <td>O</td>\n",
       "    </tr>\n",
       "    <tr>\n",
       "      <th>4928482</th>\n",
       "      <td>55339</td>\n",
       "      <td>control</td>\n",
       "      <td>O</td>\n",
       "    </tr>\n",
       "    <tr>\n",
       "      <th>4928483</th>\n",
       "      <td>55339</td>\n",
       "      <td>panel</td>\n",
       "      <td>O</td>\n",
       "    </tr>\n",
       "  </tbody>\n",
       "</table>\n",
       "</div>"
      ]
     },
     "metadata": {},
     "execution_count": 18
    }
   ],
   "metadata": {}
  },
  {
   "cell_type": "code",
   "execution_count": 19,
   "source": [
    "words = list(set(data[\"Wort\"].values))\r\n",
    "n_words = len(words); n_words"
   ],
   "outputs": [
    {
     "output_type": "execute_result",
     "data": {
      "text/plain": [
       "103347"
      ]
     },
     "metadata": {},
     "execution_count": 19
    }
   ],
   "metadata": {}
  },
  {
   "cell_type": "code",
   "execution_count": 20,
   "source": [
    "tags = list(set(data[\"Attribut\"].values))\r\n",
    "n_tags = len(tags); n_tags"
   ],
   "outputs": [
    {
     "output_type": "execute_result",
     "data": {
      "text/plain": [
       "7"
      ]
     },
     "metadata": {},
     "execution_count": 20
    }
   ],
   "metadata": {}
  },
  {
   "cell_type": "code",
   "execution_count": 21,
   "source": [
    "class SentenceGetter(object):\r\n",
    "    \r\n",
    "    def __init__(self, data):\r\n",
    "        self.n_sent = 1\r\n",
    "        self.data = data\r\n",
    "        self.empty = False\r\n",
    "        agg_func = lambda s: [(w, t) for w, t in zip(s[\"Wort\"].values.tolist(),\r\n",
    "                                                           s[\"Attribut\"].values.tolist())]\r\n",
    "        self.grouped = self.data.groupby(\"satzId\").apply(agg_func)\r\n",
    "        self.sentences = [s for s in self.grouped]\r\n",
    "    \r\n",
    "    #ToDo: get_next funktioniert nicht richtig, da manche satzIds nicht vorhanden sind\r\n",
    "    def get_next(self):\r\n",
    "        try:\r\n",
    "            s = self.grouped[self.n_sent]\r\n",
    "            self.n_sent += 1\r\n",
    "            return s\r\n",
    "        except:\r\n",
    "            return None\r\n"
   ],
   "outputs": [],
   "metadata": {}
  },
  {
   "cell_type": "code",
   "execution_count": 22,
   "source": [
    "getter = SentenceGetter(data)"
   ],
   "outputs": [],
   "metadata": {}
  },
  {
   "cell_type": "code",
   "execution_count": null,
   "source": [
    "sent = getter.get_next()\r\n",
    "print(sent)"
   ],
   "outputs": [
    {
     "output_type": "stream",
     "name": "stdout",
     "text": [
      "None\n"
     ]
    }
   ],
   "metadata": {}
  },
  {
   "cell_type": "code",
   "execution_count": null,
   "source": [
    "sentences = getter.sentences"
   ],
   "outputs": [],
   "metadata": {}
  },
  {
   "cell_type": "code",
   "execution_count": null,
   "source": [
    "# prepare the tokens\r\n",
    "\r\n",
    "max_len = 75\r\n",
    "max_len_char = 10"
   ],
   "outputs": [],
   "metadata": {}
  },
  {
   "cell_type": "code",
   "execution_count": 16,
   "source": [
    "word2idx = {w: i + 2 for i, w in enumerate(words)}\r\n",
    "word2idx[\"UNK\"] = 1\r\n",
    "word2idx[\"PAD\"] = 0\r\n",
    "idx2word = {i: w for w, i in word2idx.items()}\r\n",
    "tag2idx = {t: i + 1 for i, t in enumerate(tags)}\r\n",
    "tag2idx[\"PAD\"] = 0\r\n",
    "idx2tag = {i: w for w, i in tag2idx.items()}"
   ],
   "outputs": [
    {
     "output_type": "error",
     "ename": "NameError",
     "evalue": "name 'tags' is not defined",
     "traceback": [
      "\u001b[1;31m---------------------------------------------------------------------------\u001b[0m",
      "\u001b[1;31mNameError\u001b[0m                                 Traceback (most recent call last)",
      "\u001b[1;32m<ipython-input-16-17b0afec2381>\u001b[0m in \u001b[0;36m<module>\u001b[1;34m\u001b[0m\n\u001b[0;32m      3\u001b[0m \u001b[0mword2idx\u001b[0m\u001b[1;33m[\u001b[0m\u001b[1;34m\"PAD\"\u001b[0m\u001b[1;33m]\u001b[0m \u001b[1;33m=\u001b[0m \u001b[1;36m0\u001b[0m\u001b[1;33m\u001b[0m\u001b[1;33m\u001b[0m\u001b[0m\n\u001b[0;32m      4\u001b[0m \u001b[0midx2word\u001b[0m \u001b[1;33m=\u001b[0m \u001b[1;33m{\u001b[0m\u001b[0mi\u001b[0m\u001b[1;33m:\u001b[0m \u001b[0mw\u001b[0m \u001b[1;32mfor\u001b[0m \u001b[0mw\u001b[0m\u001b[1;33m,\u001b[0m \u001b[0mi\u001b[0m \u001b[1;32min\u001b[0m \u001b[0mword2idx\u001b[0m\u001b[1;33m.\u001b[0m\u001b[0mitems\u001b[0m\u001b[1;33m(\u001b[0m\u001b[1;33m)\u001b[0m\u001b[1;33m}\u001b[0m\u001b[1;33m\u001b[0m\u001b[1;33m\u001b[0m\u001b[0m\n\u001b[1;32m----> 5\u001b[1;33m \u001b[0mtag2idx\u001b[0m \u001b[1;33m=\u001b[0m \u001b[1;33m{\u001b[0m\u001b[0mt\u001b[0m\u001b[1;33m:\u001b[0m \u001b[0mi\u001b[0m \u001b[1;33m+\u001b[0m \u001b[1;36m1\u001b[0m \u001b[1;32mfor\u001b[0m \u001b[0mi\u001b[0m\u001b[1;33m,\u001b[0m \u001b[0mt\u001b[0m \u001b[1;32min\u001b[0m \u001b[0menumerate\u001b[0m\u001b[1;33m(\u001b[0m\u001b[0mtags\u001b[0m\u001b[1;33m)\u001b[0m\u001b[1;33m}\u001b[0m\u001b[1;33m\u001b[0m\u001b[1;33m\u001b[0m\u001b[0m\n\u001b[0m\u001b[0;32m      6\u001b[0m \u001b[0mtag2idx\u001b[0m\u001b[1;33m[\u001b[0m\u001b[1;34m\"PAD\"\u001b[0m\u001b[1;33m]\u001b[0m \u001b[1;33m=\u001b[0m \u001b[1;36m0\u001b[0m\u001b[1;33m\u001b[0m\u001b[1;33m\u001b[0m\u001b[0m\n\u001b[0;32m      7\u001b[0m \u001b[0midx2tag\u001b[0m \u001b[1;33m=\u001b[0m \u001b[1;33m{\u001b[0m\u001b[0mi\u001b[0m\u001b[1;33m:\u001b[0m \u001b[0mw\u001b[0m \u001b[1;32mfor\u001b[0m \u001b[0mw\u001b[0m\u001b[1;33m,\u001b[0m \u001b[0mi\u001b[0m \u001b[1;32min\u001b[0m \u001b[0mtag2idx\u001b[0m\u001b[1;33m.\u001b[0m\u001b[0mitems\u001b[0m\u001b[1;33m(\u001b[0m\u001b[1;33m)\u001b[0m\u001b[1;33m}\u001b[0m\u001b[1;33m\u001b[0m\u001b[1;33m\u001b[0m\u001b[0m\n",
      "\u001b[1;31mNameError\u001b[0m: name 'tags' is not defined"
     ]
    }
   ],
   "metadata": {}
  },
  {
   "cell_type": "code",
   "execution_count": 13,
   "source": [
    "#Beispiele\r\n",
    "print(word2idx[\"Broan\"])\r\n",
    "print(tag2idx[\"B-Brand\"])"
   ],
   "outputs": [
    {
     "output_type": "stream",
     "name": "stdout",
     "text": [
      "17502\n",
      "4\n"
     ]
    }
   ],
   "metadata": {}
  },
  {
   "cell_type": "code",
   "execution_count": 14,
   "source": [
    "from keras.preprocessing.sequence import pad_sequences\r\n",
    "X_word = [[word2idx[w[0]] for w in s] for s in sentences]"
   ],
   "outputs": [],
   "metadata": {}
  },
  {
   "cell_type": "code",
   "execution_count": 15,
   "source": [
    "X_word = pad_sequences(maxlen=max_len, sequences=X_word, value=word2idx[\"PAD\"], padding='post', truncating='post')"
   ],
   "outputs": [],
   "metadata": {}
  },
  {
   "cell_type": "code",
   "execution_count": 16,
   "source": [
    "chars = set([w_i for w in words for w_i in w])\r\n",
    "n_chars = len(chars)\r\n",
    "print(n_chars)"
   ],
   "outputs": [
    {
     "output_type": "stream",
     "name": "stdout",
     "text": [
      "1838\n"
     ]
    }
   ],
   "metadata": {}
  },
  {
   "cell_type": "code",
   "execution_count": 17,
   "source": [
    "char2idx = {c: i + 2 for i, c in enumerate(chars)}\r\n",
    "char2idx[\"UNK\"] = 1\r\n",
    "char2idx[\"PAD\"] = 0"
   ],
   "outputs": [],
   "metadata": {}
  },
  {
   "cell_type": "code",
   "execution_count": 18,
   "source": [
    "X_char = []\r\n",
    "for sentence in sentences:\r\n",
    "    sent_seq = []\r\n",
    "    for i in range(max_len):\r\n",
    "        word_seq = []\r\n",
    "        for j in range(max_len_char):\r\n",
    "            try:\r\n",
    "                word_seq.append(char2idx.get(sentence[i][0][j]))\r\n",
    "            except:\r\n",
    "                word_seq.append(char2idx.get(\"PAD\"))\r\n",
    "        sent_seq.append(word_seq)\r\n",
    "    X_char.append(np.array(sent_seq))\r\n"
   ],
   "outputs": [],
   "metadata": {}
  },
  {
   "cell_type": "code",
   "execution_count": 19,
   "source": [
    "y = [[tag2idx[w[1]] for w in s] for s in sentences]"
   ],
   "outputs": [],
   "metadata": {}
  },
  {
   "cell_type": "code",
   "execution_count": 20,
   "source": [
    "y = pad_sequences(maxlen=max_len, sequences=y, value=tag2idx[\"PAD\"], padding='post', truncating='post')"
   ],
   "outputs": [],
   "metadata": {}
  },
  {
   "cell_type": "code",
   "execution_count": 21,
   "source": [
    "from sklearn.model_selection import train_test_split"
   ],
   "outputs": [],
   "metadata": {}
  },
  {
   "cell_type": "code",
   "execution_count": 22,
   "source": [
    "X_word_tr, X_word_te, y_tr, y_te = train_test_split(X_word, y, test_size=0.1, random_state=2021)\r\n",
    "X_char_tr, X_char_te, _, _ = train_test_split(X_char, y, test_size=0.1, random_state=2021)"
   ],
   "outputs": [],
   "metadata": {}
  },
  {
   "cell_type": "code",
   "execution_count": 23,
   "source": [
    "from keras.models import Model, Input\r\n",
    "from keras.layers import LSTM, Embedding, Dense, TimeDistributed, Dropout, Conv1D\r\n",
    "from keras.layers import Bidirectional, concatenate, SpatialDropout1D, GlobalMaxPooling1D"
   ],
   "outputs": [],
   "metadata": {}
  },
  {
   "cell_type": "code",
   "execution_count": 24,
   "source": [
    "# input and embedding for words\r\n",
    "word_in = Input(shape=(max_len,))\r\n",
    "emb_word = Embedding(input_dim=n_words + 2, output_dim=20,\r\n",
    "                     input_length=max_len, mask_zero=True)(word_in)\r\n",
    "\r\n",
    "# input and embeddings for characters\r\n",
    "char_in = Input(shape=(max_len, max_len_char,))\r\n",
    "emb_char = TimeDistributed(Embedding(input_dim=n_chars + 2, output_dim=10,\r\n",
    "                           input_length=max_len_char, mask_zero=True))(char_in)\r\n",
    "# character LSTM to get word encodings by characters\r\n",
    "char_enc = TimeDistributed(LSTM(units=20, return_sequences=False,\r\n",
    "                                recurrent_dropout=0.5))(emb_char)\r\n",
    "\r\n",
    "# main LSTM\r\n",
    "x = concatenate([emb_word, char_enc])\r\n",
    "x = SpatialDropout1D(0.3)(x)\r\n",
    "main_lstm = Bidirectional(LSTM(units=50, return_sequences=True,\r\n",
    "                               recurrent_dropout=0.6))(x)\r\n",
    "out = TimeDistributed(Dense(n_tags + 1, activation=\"sigmoid\"))(main_lstm)\r\n",
    "\r\n",
    "model = Model([word_in, char_in], out)"
   ],
   "outputs": [],
   "metadata": {}
  },
  {
   "cell_type": "code",
   "execution_count": 25,
   "source": [
    "model.compile(optimizer=\"adam\", loss=\"sparse_categorical_crossentropy\", metrics=[\"acc\"])"
   ],
   "outputs": [],
   "metadata": {}
  },
  {
   "cell_type": "code",
   "execution_count": 26,
   "source": [
    "model.summary()"
   ],
   "outputs": [
    {
     "output_type": "stream",
     "name": "stdout",
     "text": [
      "Model: \"model\"\n",
      "__________________________________________________________________________________________________\n",
      "Layer (type)                    Output Shape         Param #     Connected to                     \n",
      "==================================================================================================\n",
      "input_2 (InputLayer)            [(None, 75, 10)]     0                                            \n",
      "__________________________________________________________________________________________________\n",
      "input_1 (InputLayer)            [(None, 75)]         0                                            \n",
      "__________________________________________________________________________________________________\n",
      "time_distributed (TimeDistribut (None, 75, 10, 10)   18400       input_2[0][0]                    \n",
      "__________________________________________________________________________________________________\n",
      "embedding (Embedding)           (None, 75, 20)       2066980     input_1[0][0]                    \n",
      "__________________________________________________________________________________________________\n",
      "time_distributed_1 (TimeDistrib (None, 75, 20)       2480        time_distributed[0][0]           \n",
      "__________________________________________________________________________________________________\n",
      "concatenate (Concatenate)       (None, 75, 40)       0           embedding[0][0]                  \n",
      "                                                                 time_distributed_1[0][0]         \n",
      "__________________________________________________________________________________________________\n",
      "spatial_dropout1d (SpatialDropo (None, 75, 40)       0           concatenate[0][0]                \n",
      "__________________________________________________________________________________________________\n",
      "bidirectional (Bidirectional)   (None, 75, 100)      36400       spatial_dropout1d[0][0]          \n",
      "__________________________________________________________________________________________________\n",
      "time_distributed_2 (TimeDistrib (None, 75, 8)        808         bidirectional[0][0]              \n",
      "==================================================================================================\n",
      "Total params: 2,125,068\n",
      "Trainable params: 2,125,068\n",
      "Non-trainable params: 0\n",
      "__________________________________________________________________________________________________\n"
     ]
    }
   ],
   "metadata": {}
  },
  {
   "cell_type": "code",
   "execution_count": 27,
   "source": [
    "history = model.fit([X_word_tr,\r\n",
    "                     np.array(X_char_tr).reshape((len(X_char_tr), max_len, max_len_char))],\r\n",
    "                    np.array(y_tr).reshape(len(y_tr), max_len, 1),\r\n",
    "                    batch_size=64, epochs=10, validation_split=0.1, verbose=1)"
   ],
   "outputs": [
    {
     "output_type": "stream",
     "name": "stdout",
     "text": [
      "Epoch 1/10\n",
      "494/494 [==============================] - 100s 142ms/step - loss: 0.4336 - acc: 0.9414 - val_loss: 0.0856 - val_acc: 0.9544\n",
      "Epoch 2/10\n",
      "494/494 [==============================] - 68s 138ms/step - loss: 0.0757 - acc: 0.9568 - val_loss: 0.0396 - val_acc: 0.9831\n",
      "Epoch 3/10\n",
      "494/494 [==============================] - 68s 137ms/step - loss: 0.0357 - acc: 0.9855 - val_loss: 0.0294 - val_acc: 0.9878\n",
      "Epoch 4/10\n",
      "494/494 [==============================] - 66s 134ms/step - loss: 0.0247 - acc: 0.9901 - val_loss: 0.0257 - val_acc: 0.9891\n",
      "Epoch 5/10\n",
      "494/494 [==============================] - 66s 133ms/step - loss: 0.0198 - acc: 0.9919 - val_loss: 0.0249 - val_acc: 0.9889\n",
      "Epoch 6/10\n",
      "494/494 [==============================] - 66s 134ms/step - loss: 0.0170 - acc: 0.9928 - val_loss: 0.0246 - val_acc: 0.9889\n",
      "Epoch 7/10\n",
      "494/494 [==============================] - 65s 132ms/step - loss: 0.0148 - acc: 0.9938 - val_loss: 0.0219 - val_acc: 0.9906\n",
      "Epoch 8/10\n",
      "494/494 [==============================] - 66s 134ms/step - loss: 0.0131 - acc: 0.9944 - val_loss: 0.0211 - val_acc: 0.9910\n",
      "Epoch 9/10\n",
      "494/494 [==============================] - 66s 133ms/step - loss: 0.0117 - acc: 0.9949 - val_loss: 0.0214 - val_acc: 0.9907\n",
      "Epoch 10/10\n",
      "494/494 [==============================] - 66s 133ms/step - loss: 0.0106 - acc: 0.9954 - val_loss: 0.0206 - val_acc: 0.9913\n"
     ]
    }
   ],
   "metadata": {}
  },
  {
   "cell_type": "code",
   "execution_count": 28,
   "source": [
    "hist = pd.DataFrame(history.history)"
   ],
   "outputs": [],
   "metadata": {}
  },
  {
   "cell_type": "code",
   "execution_count": 29,
   "source": [
    "import matplotlib.pyplot as plt\r\n",
    "plt.style.use(\"ggplot\")\r\n",
    "plt.figure(figsize=(12,12))\r\n",
    "plt.plot(hist[\"acc\"])\r\n",
    "plt.plot(hist[\"val_acc\"])\r\n",
    "plt.show()"
   ],
   "outputs": [
    {
     "output_type": "display_data",
     "data": {
      "text/plain": [
       "<Figure size 864x864 with 1 Axes>"
      ],
      "image/png": "[encoded data removed]"
     },
     "metadata": {}
    }
   ],
   "metadata": {}
  },
  {
   "cell_type": "code",
   "execution_count": 30,
   "source": [
    "y_pred = model.predict([X_word_te,\r\n",
    "                        np.array(X_char_te).reshape((len(X_char_te),\r\n",
    "                                                     max_len, max_len_char))])\r\n"
   ],
   "outputs": [],
   "metadata": {}
  },
  {
   "cell_type": "code",
   "execution_count": 59,
   "source": [
    "i = 2016\r\n",
    "p = np.argmax(y_pred[i], axis=-1)\r\n",
    "print(\"{:15}||{:5}||{}\".format(\"Word\", \"True\", \"Pred\"))\r\n",
    "print(30 * \"=\")\r\n",
    "for w, t, pred in zip(X_word_te[i], y_te[i], p):\r\n",
    "    if w != 0:\r\n",
    "        print(\"{:15}: {:5} {}\".format(idx2word[w], idx2tag[t], idx2tag[pred]))\r\n"
   ],
   "outputs": [
    {
     "output_type": "stream",
     "name": "stdout",
     "text": [
      "Word           ||True ||Pred\n",
      "==============================\n",
      "tefal          : B-Brand B-Brand\n",
      "blender        : O     O\n",
      "jug            : O     O\n",
      "BL2A11         : B-Modelnumber O\n",
      "(              : O     O\n",
      "chopper        : O     O\n",
      ")              : O     O\n",
      "tefal          : B-Brand B-Brand\n",
      "blender        : O     O\n",
      "accessories    : O     O\n",
      "small          : O     O\n",
      "jug            : O     O\n",
      "(              : O     O\n",
      "chopper        : O     O\n",
      ")              : O     O\n",
      "100            : O     O\n",
      "%              : O     O\n",
      "original       : O     O\n",
      "for            : O     O\n",
      "model          : O     O\n",
      "BL2A11         : B-Modelnumber O\n"
     ]
    }
   ],
   "metadata": {}
  },
  {
   "cell_type": "code",
   "execution_count": null,
   "source": [],
   "outputs": [],
   "metadata": {}
  }
 ],
 "metadata": {
  "orig_nbformat": 4,
  "language_info": {
   "name": "python",
   "version": "3.9.0",
   "mimetype": "text/x-python",
   "codemirror_mode": {
    "name": "ipython",
    "version": 3
   },
   "pygments_lexer": "ipython3",
   "nbconvert_exporter": "python",
   "file_extension": ".py"
  },
  "kernelspec": {
   "name": "python3",
   "display_name": "Python 3.9.0 64-bit"
  },
  "interpreter": {
   "hash": "3898892d7e34557bb8499aff9aa0ccd3bf7bab375649613f01d0952879e4c360"
  }
 },
 "nbformat": 4,
 "nbformat_minor": 2
}