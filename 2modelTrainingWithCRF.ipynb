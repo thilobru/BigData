{
 "cells": [
  {
   "cell_type": "code",
   "execution_count": 3,
   "source": [
    "import tensorflow as tf\r\n",
    "try:\r\n",
    "    # Disable all GPUS\r\n",
    "    tf.config.set_visible_devices([], 'GPU')\r\n",
    "    visible_devices = tf.config.get_visible_devices()\r\n",
    "    for device in visible_devices:\r\n",
    "        assert device.device_type != 'GPU'\r\n",
    "except:\r\n",
    "    # Invalid device or cannot modify virtual devices once initialized.\r\n",
    "    pass"
   ],
   "outputs": [],
   "metadata": {}
  },
  {
   "cell_type": "code",
   "execution_count": 4,
   "source": [
    "#prepare the data\r\n",
    "import pandas as pd\r\n",
    "import numpy as np\r\n",
    "\r\n",
    "data = pd.read_csv('data/trainingdata300.csv')\r\n",
    "data = data.fillna(method=\"ffill\")\r\n",
    "data.tail(10)"
   ],
   "outputs": [
    {
     "output_type": "execute_result",
     "data": {
      "text/plain": [
       "        satzId       Wort Attribut\n",
       "767258   55338          -        O\n",
       "767259   55338       duty        O\n",
       "767260   55338  stainless        O\n",
       "767261   55338      steel        O\n",
       "767262   55338      metal        O\n",
       "767263   55338      knobs        O\n",
       "767264   55338       Full        O\n",
       "767265   55338  stainless        O\n",
       "767266   55338      steel        O\n",
       "767267   55338      frame        O"
      ],
      "text/html": [
       "<div>\n",
       "<style scoped>\n",
       "    .dataframe tbody tr th:only-of-type {\n",
       "        vertical-align: middle;\n",
       "    }\n",
       "\n",
       "    .dataframe tbody tr th {\n",
       "        vertical-align: top;\n",
       "    }\n",
       "\n",
       "    .dataframe thead th {\n",
       "        text-align: right;\n",
       "    }\n",
       "</style>\n",
       "<table border=\"1\" class=\"dataframe\">\n",
       "  <thead>\n",
       "    <tr style=\"text-align: right;\">\n",
       "      <th></th>\n",
       "      <th>satzId</th>\n",
       "      <th>Wort</th>\n",
       "      <th>Attribut</th>\n",
       "    </tr>\n",
       "  </thead>\n",
       "  <tbody>\n",
       "    <tr>\n",
       "      <th>767258</th>\n",
       "      <td>55338</td>\n",
       "      <td>-</td>\n",
       "      <td>O</td>\n",
       "    </tr>\n",
       "    <tr>\n",
       "      <th>767259</th>\n",
       "      <td>55338</td>\n",
       "      <td>duty</td>\n",
       "      <td>O</td>\n",
       "    </tr>\n",
       "    <tr>\n",
       "      <th>767260</th>\n",
       "      <td>55338</td>\n",
       "      <td>stainless</td>\n",
       "      <td>O</td>\n",
       "    </tr>\n",
       "    <tr>\n",
       "      <th>767261</th>\n",
       "      <td>55338</td>\n",
       "      <td>steel</td>\n",
       "      <td>O</td>\n",
       "    </tr>\n",
       "    <tr>\n",
       "      <th>767262</th>\n",
       "      <td>55338</td>\n",
       "      <td>metal</td>\n",
       "      <td>O</td>\n",
       "    </tr>\n",
       "    <tr>\n",
       "      <th>767263</th>\n",
       "      <td>55338</td>\n",
       "      <td>knobs</td>\n",
       "      <td>O</td>\n",
       "    </tr>\n",
       "    <tr>\n",
       "      <th>767264</th>\n",
       "      <td>55338</td>\n",
       "      <td>Full</td>\n",
       "      <td>O</td>\n",
       "    </tr>\n",
       "    <tr>\n",
       "      <th>767265</th>\n",
       "      <td>55338</td>\n",
       "      <td>stainless</td>\n",
       "      <td>O</td>\n",
       "    </tr>\n",
       "    <tr>\n",
       "      <th>767266</th>\n",
       "      <td>55338</td>\n",
       "      <td>steel</td>\n",
       "      <td>O</td>\n",
       "    </tr>\n",
       "    <tr>\n",
       "      <th>767267</th>\n",
       "      <td>55338</td>\n",
       "      <td>frame</td>\n",
       "      <td>O</td>\n",
       "    </tr>\n",
       "  </tbody>\n",
       "</table>\n",
       "</div>"
      ]
     },
     "metadata": {},
     "execution_count": 4
    }
   ],
   "metadata": {}
  },
  {
   "cell_type": "code",
   "execution_count": 5,
   "source": [
    "words = list(set(data[\"Wort\"].values))\r\n",
    "n_words = len(words); n_words"
   ],
   "outputs": [
    {
     "output_type": "execute_result",
     "data": {
      "text/plain": [
       "37271"
      ]
     },
     "metadata": {},
     "execution_count": 5
    }
   ],
   "metadata": {}
  },
  {
   "cell_type": "code",
   "execution_count": 6,
   "source": [
    "tags = list(set(data[\"Attribut\"].values))\r\n",
    "n_tags = len(tags); n_tags"
   ],
   "outputs": [
    {
     "output_type": "execute_result",
     "data": {
      "text/plain": [
       "7"
      ]
     },
     "metadata": {},
     "execution_count": 6
    }
   ],
   "metadata": {}
  },
  {
   "cell_type": "code",
   "execution_count": 7,
   "source": [
    "class SentenceGetter(object):\r\n",
    "    \r\n",
    "    def __init__(self, data):\r\n",
    "        self.n_sent = 1\r\n",
    "        self.data = data\r\n",
    "        self.empty = False\r\n",
    "        agg_func = lambda s: [(w, t) for w, t in zip(s[\"Wort\"].values.tolist(),\r\n",
    "                                                           s[\"Attribut\"].values.tolist())]\r\n",
    "        self.grouped = self.data.groupby(\"satzId\").apply(agg_func)\r\n",
    "        self.sentences = [s for s in self.grouped]\r\n",
    "    \r\n",
    "    #ToDo: get_next funktioniert nicht richtig, da manche satzIds nicht vorhanden sind\r\n",
    "    def get_next(self):\r\n",
    "        try:\r\n",
    "            s = self.grouped[self.n_sent]\r\n",
    "            self.n_sent += 1\r\n",
    "            return s\r\n",
    "        except:\r\n",
    "            return None\r\n"
   ],
   "outputs": [],
   "metadata": {}
  },
  {
   "cell_type": "code",
   "execution_count": 8,
   "source": [
    "getter = SentenceGetter(data)"
   ],
   "outputs": [],
   "metadata": {}
  },
  {
   "cell_type": "code",
   "execution_count": 9,
   "source": [
    "sent = getter.get_next()\r\n",
    "print(sent)"
   ],
   "outputs": [
    {
     "output_type": "stream",
     "name": "stdout",
     "text": [
      "None\n"
     ]
    }
   ],
   "metadata": {}
  },
  {
   "cell_type": "code",
   "execution_count": 10,
   "source": [
    "sentences = getter.sentences"
   ],
   "outputs": [],
   "metadata": {}
  },
  {
   "cell_type": "code",
   "execution_count": 11,
   "source": [
    "# prepare the tokens\r\n",
    "\r\n",
    "max_len = 300\r\n",
    "max_len_char = 20"
   ],
   "outputs": [],
   "metadata": {}
  },
  {
   "cell_type": "code",
   "execution_count": 12,
   "source": [
    "word2idx = {w: i + 2 for i, w in enumerate(words)}\r\n",
    "word2idx[\"UNK\"] = 1\r\n",
    "word2idx[\"PAD\"] = 0\r\n",
    "idx2word = {i: w for w, i in word2idx.items()}\r\n",
    "tag2idx = {t: i + 1 for i, t in enumerate(tags)}\r\n",
    "tag2idx[\"PAD\"] = 0\r\n",
    "idx2tag = {i: w for w, i in tag2idx.items()}"
   ],
   "outputs": [],
   "metadata": {}
  },
  {
   "cell_type": "code",
   "execution_count": 13,
   "source": [
    "#Beispiele\r\n",
    "print(word2idx[\"Broan\"])\r\n",
    "print(tag2idx[\"B-Brand\"])"
   ],
   "outputs": [
    {
     "output_type": "stream",
     "name": "stdout",
     "text": [
      "34630\n",
      "4\n"
     ]
    }
   ],
   "metadata": {}
  },
  {
   "cell_type": "code",
   "execution_count": 14,
   "source": [
    "from keras.preprocessing.sequence import pad_sequences\r\n",
    "X_word = [[word2idx[w[0]] for w in s] for s in sentences]"
   ],
   "outputs": [],
   "metadata": {}
  },
  {
   "cell_type": "code",
   "execution_count": 15,
   "source": [
    "X_word = pad_sequences(maxlen=max_len, sequences=X_word, value=word2idx[\"PAD\"], padding='post', truncating='post')"
   ],
   "outputs": [],
   "metadata": {}
  },
  {
   "cell_type": "code",
   "execution_count": 16,
   "source": [
    "chars = set([w_i for w in words for w_i in w])\r\n",
    "n_chars = len(chars)\r\n",
    "print(n_chars)"
   ],
   "outputs": [
    {
     "output_type": "stream",
     "name": "stdout",
     "text": [
      "1265\n"
     ]
    }
   ],
   "metadata": {}
  },
  {
   "cell_type": "code",
   "execution_count": 17,
   "source": [
    "char2idx = {c: i + 2 for i, c in enumerate(chars)}\r\n",
    "char2idx[\"UNK\"] = 1\r\n",
    "char2idx[\"PAD\"] = 0"
   ],
   "outputs": [],
   "metadata": {}
  },
  {
   "cell_type": "code",
   "execution_count": 18,
   "source": [
    "X_char = []\r\n",
    "for sentence in sentences:\r\n",
    "    sent_seq = []\r\n",
    "    for i in range(max_len):\r\n",
    "        word_seq = []\r\n",
    "        for j in range(max_len_char):\r\n",
    "            try:\r\n",
    "                word_seq.append(char2idx.get(sentence[i][0][j]))\r\n",
    "            except:\r\n",
    "                word_seq.append(char2idx.get(\"PAD\"))\r\n",
    "        sent_seq.append(word_seq)\r\n",
    "    X_char.append(np.array(sent_seq))\r\n"
   ],
   "outputs": [],
   "metadata": {}
  },
  {
   "cell_type": "code",
   "execution_count": 19,
   "source": [
    "y = [[tag2idx[w[1]] for w in s] for s in sentences]"
   ],
   "outputs": [],
   "metadata": {}
  },
  {
   "cell_type": "code",
   "execution_count": 20,
   "source": [
    "y = pad_sequences(maxlen=max_len, sequences=y, value=tag2idx[\"PAD\"], padding='post', truncating='post')"
   ],
   "outputs": [],
   "metadata": {}
  },
  {
   "cell_type": "code",
   "execution_count": 21,
   "source": [
    "from sklearn.model_selection import train_test_split\r\n",
    "X_word_tr, X_word_te, y_tr, y_te = train_test_split(\r\n",
    "    X_word, y, test_size=0.1, random_state=2021)\r\n",
    "X_char_tr, X_char_te, _, _ = train_test_split(\r\n",
    "    X_char, y, test_size=0.1, random_state=2021)\r\n"
   ],
   "outputs": [],
   "metadata": {}
  },
  {
   "cell_type": "code",
   "execution_count": 22,
   "source": [
    "from keras.models import Model, Input\r\n",
    "from keras.layers import LSTM, Embedding, Dense, TimeDistributed, Dropout, Conv1D\r\n",
    "from keras.layers import Bidirectional, concatenate, SpatialDropout1D, GlobalMaxPooling1D\r\n",
    "# braucht änderung in C:\\Users\\thilo\\AppData\\Local\\Programs\\Python\\Python39\\Lib\\site-packages\\keras_contrib\\layers\\crf.py\r\n",
    "# import tensorflow as tf\r\n",
    "# und k.slice durch tf.slice ersetzen\r\n",
    "# https://github.com/keras-team/keras-contrib/issues/547\r\n",
    "# from keras_contrib.layers import CRF"
   ],
   "outputs": [],
   "metadata": {}
  },
  {
   "cell_type": "code",
   "execution_count": 23,
   "source": [
    "# input and embedding for words\r\n",
    "word_in = Input(shape=(max_len,))\r\n",
    "emb_word = Embedding(input_dim=n_words + 2, output_dim=20,\r\n",
    "                     input_length=max_len, mask_zero=True)(word_in)\r\n",
    "# input and embeddings for characters\r\n",
    "char_in = Input(shape=(max_len, max_len_char,))\r\n",
    "emb_char = TimeDistributed(Embedding(input_dim=n_chars + 2, output_dim=10,\r\n",
    "                           input_length=max_len_char, mask_zero=True))(char_in)\r\n",
    "# character LSTM to get word encodings by characters\r\n",
    "char_enc = TimeDistributed(LSTM(units=20, return_sequences=False,\r\n",
    "                                recurrent_dropout=0.5))(emb_char)\r\n",
    "# main LSTM\r\n",
    "x = concatenate([emb_word, char_enc])\r\n",
    "x = SpatialDropout1D(0.3)(x)\r\n",
    "main_lstm = Bidirectional(LSTM(units=50, return_sequences=True,\r\n",
    "                               recurrent_dropout=0.1))(x)\r\n",
    "time = TimeDistributed(Dense(n_tags + 1, activation=\"sigmoid\"))(main_lstm)\r\n",
    "# time = TimeDistributed(Dense(50, activation=\"relu\"))(main_lstm)\r\n",
    "#crf = CRF(n_tags)\r\n",
    "#out = crf(time)\r\n",
    "\r\n",
    "model = Model([word_in, char_in], time)"
   ],
   "outputs": [],
   "metadata": {}
  },
  {
   "cell_type": "code",
   "execution_count": 24,
   "source": [
    "# from tensorflow.keras.utils import plot_model \r\n",
    "# plot_model(model, show_layer_names = False, rankdir='TB', show_shapes=False, dpi=1000)"
   ],
   "outputs": [],
   "metadata": {}
  },
  {
   "cell_type": "code",
   "execution_count": 25,
   "source": [
    "\r\n",
    "model.compile(optimizer=\"adam\", loss=\"sparse_categorical_crossentropy\", metrics=[\"acc\"])\r\n",
    "# model.compile(optimizer=\"rmsprop\", loss=\"sparse_categorical_crossentropy\", metrics=[\"acc\"])\r\n",
    "# model.compile(optimizer=\"adam\", loss=crf_loss, metrics=[crf_accuracy])\r\n",
    "# model.compile(optimizer=\"rmsprop\", loss=crf.loss_function, metrics=[crf.accuracy])\r\n",
    "# model.summary()"
   ],
   "outputs": [],
   "metadata": {}
  },
  {
   "cell_type": "code",
   "execution_count": 31,
   "source": [
    "from keras.callbacks import EarlyStopping\r\n",
    "early_stop = EarlyStopping(\r\n",
    "    monitor='val_loss',\r\n",
    "    min_delta=0.0005, #default: 0.0001 -> wenn höher, stoppt es eher, bei 0.00001:\r\n",
    "    patience=5,\r\n",
    "    verbose=1, \r\n",
    "    mode='min',\r\n",
    "    restore_best_weights=True)\r\n",
    "history = model.fit([X_word_tr,\r\n",
    "                    np.array(X_char_tr).reshape((len(X_char_tr), max_len, max_len_char))],\r\n",
    "                    np.array(y_tr).reshape(len(y_tr), max_len, 1),\r\n",
    "                    batch_size=64, \r\n",
    "                    epochs=50, \r\n",
    "                    validation_split=0.1, \r\n",
    "                    verbose=1,\r\n",
    "                    callbacks=[early_stop])"
   ],
   "outputs": [
    {
     "output_type": "stream",
     "name": "stdout",
     "text": [
      "Epoch 1/50\n",
      "219/219 [==============================] - 68s 178ms/step - loss: 0.3888 - acc: 0.8955 - val_loss: 0.1036 - val_acc: 0.9280\n",
      "Epoch 2/50\n",
      "219/219 [==============================] - 37s 168ms/step - loss: 0.0942 - acc: 0.9263 - val_loss: 0.0592 - val_acc: 0.9340\n",
      "Epoch 3/50\n",
      "219/219 [==============================] - 38s 173ms/step - loss: 0.0553 - acc: 0.9424 - val_loss: 0.0312 - val_acc: 0.9753\n",
      "Epoch 4/50\n",
      "219/219 [==============================] - 37s 170ms/step - loss: 0.0278 - acc: 0.9805 - val_loss: 0.0230 - val_acc: 0.9844\n",
      "Epoch 5/50\n",
      "219/219 [==============================] - 38s 173ms/step - loss: 0.0198 - acc: 0.9874 - val_loss: 0.0194 - val_acc: 0.9871\n",
      "Epoch 6/50\n",
      "219/219 [==============================] - 37s 169ms/step - loss: 0.0155 - acc: 0.9902 - val_loss: 0.0175 - val_acc: 0.9882\n",
      "Epoch 7/50\n",
      "219/219 [==============================] - 37s 168ms/step - loss: 0.0126 - acc: 0.9920 - val_loss: 0.0164 - val_acc: 0.9885\n",
      "Epoch 8/50\n",
      "219/219 [==============================] - 36s 165ms/step - loss: 0.0112 - acc: 0.9926 - val_loss: 0.0156 - val_acc: 0.9893\n",
      "Epoch 9/50\n",
      "219/219 [==============================] - 36s 164ms/step - loss: 0.0097 - acc: 0.9935 - val_loss: 0.0150 - val_acc: 0.9897\n",
      "Epoch 10/50\n",
      "219/219 [==============================] - 36s 165ms/step - loss: 0.0086 - acc: 0.9943 - val_loss: 0.0145 - val_acc: 0.9901\n",
      "Epoch 11/50\n",
      "219/219 [==============================] - 37s 169ms/step - loss: 0.0076 - acc: 0.9949 - val_loss: 0.0142 - val_acc: 0.9907\n",
      "Epoch 12/50\n",
      "219/219 [==============================] - 37s 169ms/step - loss: 0.0069 - acc: 0.9953 - val_loss: 0.0143 - val_acc: 0.9906\n",
      "Epoch 13/50\n",
      "219/219 [==============================] - 37s 171ms/step - loss: 0.0064 - acc: 0.9957 - val_loss: 0.0142 - val_acc: 0.9907\n",
      "Epoch 14/50\n",
      "219/219 [==============================] - 37s 171ms/step - loss: 0.0055 - acc: 0.9963 - val_loss: 0.0143 - val_acc: 0.9907\n",
      "Epoch 15/50\n",
      "219/219 [==============================] - 37s 169ms/step - loss: 0.0051 - acc: 0.9965 - val_loss: 0.0140 - val_acc: 0.9913\n",
      "Epoch 16/50\n",
      "219/219 [==============================] - 37s 169ms/step - loss: 0.0047 - acc: 0.9968 - val_loss: 0.0142 - val_acc: 0.9912\n",
      "Restoring model weights from the end of the best epoch.\n",
      "Epoch 00016: early stopping\n"
     ]
    }
   ],
   "metadata": {}
  },
  {
   "cell_type": "code",
   "execution_count": null,
   "source": [
    "hist = pd.DataFrame(history.history)"
   ],
   "outputs": [],
   "metadata": {}
  },
  {
   "cell_type": "code",
   "execution_count": null,
   "source": [
    "import matplotlib.pyplot as plt\r\n",
    "plt.style.use(\"ggplot\")\r\n",
    "plt.figure(figsize=(6,6))\r\n",
    "plt.plot(history.history['acc'])\r\n",
    "plt.plot(history.history['val_acc'])\r\n",
    "plt.title('model accuracy')\r\n",
    "plt.ylabel('accuracy')\r\n",
    "plt.xlabel('epoch')\r\n",
    "plt.legend(['train', 'test'], loc='upper left')\r\n",
    "plt.show()\r\n",
    "\r\n",
    "plt.figure(figsize=(6, 6))\r\n",
    "plt.plot(history.history['loss'])\r\n",
    "plt.plot(history.history['val_loss'])\r\n",
    "plt.title('model loss')\r\n",
    "plt.ylabel('loss')\r\n",
    "plt.xlabel('epoch')\r\n",
    "plt.legend(['train', 'test'], loc='upper left')\r\n",
    "plt.show()\r\n"
   ],
   "outputs": [
    {
     "output_type": "display_data",
     "data": {
      "text/plain": [
       "<Figure size 432x432 with 1 Axes>"
      ],
      "image/png": "[encoded data removed]"
     },
     "metadata": {}
    },
    {
     "output_type": "display_data",
     "data": {
      "text/plain": [
       "<Figure size 432x432 with 1 Axes>"
      ],
      "image/png": "[encoded data removed]"
     },
     "metadata": {}
    }
   ],
   "metadata": {}
  },
  {
   "cell_type": "code",
   "execution_count": null,
   "source": [
    "y_pred = model.predict([X_word_te,\r\n",
    "                        np.array(X_char_te).reshape((len(X_char_te),\r\n",
    "                                                     max_len, max_len_char))])\r\n"
   ],
   "outputs": [],
   "metadata": {}
  },
  {
   "cell_type": "code",
   "execution_count": null,
   "source": [
    "i = 1000\r\n",
    "p = np.argmax(y_pred[i], axis=-1)\r\n",
    "print(\"{:15}||{:5}||{}\".format(\"Word\", \"True\", \"Pred\"))\r\n",
    "print(30 * \"=\")\r\n",
    "for w, t, pred in zip(X_word_te[i], y_te[i], p):\r\n",
    "    if w != 0 and (idx2tag[t] == 'O' or idx2tag[pred] == 'O'):\r\n",
    "        print(\"{:15}: {:5} {}\".format(idx2word[w], idx2tag[t], idx2tag[pred]))"
   ],
   "outputs": [
    {
     "output_type": "error",
     "ename": "IndexError",
     "evalue": "index 2011 is out of bounds for axis 0 with size 1725",
     "traceback": [
      "\u001b[1;31m---------------------------------------------------------------------------\u001b[0m",
      "\u001b[1;31mIndexError\u001b[0m                                Traceback (most recent call last)",
      "\u001b[1;32m<ipython-input-30-fae452b770ce>\u001b[0m in \u001b[0;36m<module>\u001b[1;34m\u001b[0m\n\u001b[0;32m      1\u001b[0m \u001b[0mi\u001b[0m \u001b[1;33m=\u001b[0m \u001b[1;36m2011\u001b[0m\u001b[1;33m\u001b[0m\u001b[1;33m\u001b[0m\u001b[0m\n\u001b[1;32m----> 2\u001b[1;33m \u001b[0mp\u001b[0m \u001b[1;33m=\u001b[0m \u001b[0mnp\u001b[0m\u001b[1;33m.\u001b[0m\u001b[0margmax\u001b[0m\u001b[1;33m(\u001b[0m\u001b[0my_pred\u001b[0m\u001b[1;33m[\u001b[0m\u001b[0mi\u001b[0m\u001b[1;33m]\u001b[0m\u001b[1;33m,\u001b[0m \u001b[0maxis\u001b[0m\u001b[1;33m=\u001b[0m\u001b[1;33m-\u001b[0m\u001b[1;36m1\u001b[0m\u001b[1;33m)\u001b[0m\u001b[1;33m\u001b[0m\u001b[1;33m\u001b[0m\u001b[0m\n\u001b[0m\u001b[0;32m      3\u001b[0m \u001b[0mprint\u001b[0m\u001b[1;33m(\u001b[0m\u001b[1;34m\"{:15}||{:5}||{}\"\u001b[0m\u001b[1;33m.\u001b[0m\u001b[0mformat\u001b[0m\u001b[1;33m(\u001b[0m\u001b[1;34m\"Word\"\u001b[0m\u001b[1;33m,\u001b[0m \u001b[1;34m\"True\"\u001b[0m\u001b[1;33m,\u001b[0m \u001b[1;34m\"Pred\"\u001b[0m\u001b[1;33m)\u001b[0m\u001b[1;33m)\u001b[0m\u001b[1;33m\u001b[0m\u001b[1;33m\u001b[0m\u001b[0m\n\u001b[0;32m      4\u001b[0m \u001b[0mprint\u001b[0m\u001b[1;33m(\u001b[0m\u001b[1;36m30\u001b[0m \u001b[1;33m*\u001b[0m \u001b[1;34m\"=\"\u001b[0m\u001b[1;33m)\u001b[0m\u001b[1;33m\u001b[0m\u001b[1;33m\u001b[0m\u001b[0m\n\u001b[0;32m      5\u001b[0m \u001b[1;32mfor\u001b[0m \u001b[0mw\u001b[0m\u001b[1;33m,\u001b[0m \u001b[0mt\u001b[0m\u001b[1;33m,\u001b[0m \u001b[0mpred\u001b[0m \u001b[1;32min\u001b[0m \u001b[0mzip\u001b[0m\u001b[1;33m(\u001b[0m\u001b[0mX_word_te\u001b[0m\u001b[1;33m[\u001b[0m\u001b[0mi\u001b[0m\u001b[1;33m]\u001b[0m\u001b[1;33m,\u001b[0m \u001b[0my_te\u001b[0m\u001b[1;33m[\u001b[0m\u001b[0mi\u001b[0m\u001b[1;33m]\u001b[0m\u001b[1;33m,\u001b[0m \u001b[0mp\u001b[0m\u001b[1;33m)\u001b[0m\u001b[1;33m:\u001b[0m\u001b[1;33m\u001b[0m\u001b[1;33m\u001b[0m\u001b[0m\n",
      "\u001b[1;31mIndexError\u001b[0m: index 2011 is out of bounds for axis 0 with size 1725"
     ]
    }
   ],
   "metadata": {}
  },
  {
   "cell_type": "code",
   "execution_count": null,
   "source": [
    "cClass = 0\r\n",
    "wClass = 0\r\n",
    "cO = 0\r\n",
    "results = []\r\n",
    "for i in range(len(X_word_te)):\r\n",
    "    p = np.argmax(y_pred[i], axis=-1)\r\n",
    "    predDict = {'B-Brand': '',\r\n",
    "                'I-Brand': '',\r\n",
    "                'E-Brand': '',\r\n",
    "                'B-Modelnumber': '',\r\n",
    "                'I-Modelnumber': '',\r\n",
    "                'E-Modelnumber': ''}\r\n",
    "    for w, t, pred in zip(X_word_te[i], y_te[i], p):\r\n",
    "        if w != 0:\r\n",
    "            if idx2tag[t] == idx2tag[pred] and idx2tag[t] != 'O' and idx2tag[pred != '0']:\r\n",
    "                cClass += 1\r\n",
    "                predDict.update({idx2tag[pred]: idx2word[w]})\r\n",
    "            elif idx2tag[t] == 'O' and idx2tag[pred] == 'O':\r\n",
    "                cO += 1\r\n",
    "            else: wClass += 1\r\n",
    "            #print(\"{:15}: {:5} {}\".format(idx2word[w], idx2tag[t], idx2tag[pred]))\r\n",
    "    results.append(predDict)\r\n",
    "print(cClass, wClass, cO)\r\n",
    "for result in results:\r\n",
    "    print(result.values())"
   ],
   "outputs": [
    {
     "output_type": "error",
     "ename": "NameError",
     "evalue": "name 'X_word_te' is not defined",
     "traceback": [
      "\u001b[1;31m---------------------------------------------------------------------------\u001b[0m",
      "\u001b[1;31mNameError\u001b[0m                                 Traceback (most recent call last)",
      "\u001b[1;32m<ipython-input-2-b657e5c50d12>\u001b[0m in \u001b[0;36m<module>\u001b[1;34m\u001b[0m\n\u001b[0;32m      3\u001b[0m \u001b[0mcO\u001b[0m \u001b[1;33m=\u001b[0m \u001b[1;36m0\u001b[0m\u001b[1;33m\u001b[0m\u001b[1;33m\u001b[0m\u001b[0m\n\u001b[0;32m      4\u001b[0m \u001b[0mresults\u001b[0m \u001b[1;33m=\u001b[0m \u001b[1;33m[\u001b[0m\u001b[1;33m]\u001b[0m\u001b[1;33m\u001b[0m\u001b[1;33m\u001b[0m\u001b[0m\n\u001b[1;32m----> 5\u001b[1;33m \u001b[1;32mfor\u001b[0m \u001b[0mi\u001b[0m \u001b[1;32min\u001b[0m \u001b[0mrange\u001b[0m\u001b[1;33m(\u001b[0m\u001b[0mlen\u001b[0m\u001b[1;33m(\u001b[0m\u001b[0mX_word_te\u001b[0m\u001b[1;33m)\u001b[0m\u001b[1;33m)\u001b[0m\u001b[1;33m:\u001b[0m\u001b[1;33m\u001b[0m\u001b[1;33m\u001b[0m\u001b[0m\n\u001b[0m\u001b[0;32m      6\u001b[0m     \u001b[0mp\u001b[0m \u001b[1;33m=\u001b[0m \u001b[0mnp\u001b[0m\u001b[1;33m.\u001b[0m\u001b[0margmax\u001b[0m\u001b[1;33m(\u001b[0m\u001b[0my_pred\u001b[0m\u001b[1;33m[\u001b[0m\u001b[0mi\u001b[0m\u001b[1;33m]\u001b[0m\u001b[1;33m,\u001b[0m \u001b[0maxis\u001b[0m\u001b[1;33m=\u001b[0m\u001b[1;33m-\u001b[0m\u001b[1;36m1\u001b[0m\u001b[1;33m)\u001b[0m\u001b[1;33m\u001b[0m\u001b[1;33m\u001b[0m\u001b[0m\n\u001b[0;32m      7\u001b[0m     predDict = {'B-Brand': '',\n",
      "\u001b[1;31mNameError\u001b[0m: name 'X_word_te' is not defined"
     ]
    }
   ],
   "metadata": {}
  }
 ],
 "metadata": {
  "orig_nbformat": 4,
  "language_info": {
   "name": "python",
   "version": "3.9.0",
   "mimetype": "text/x-python",
   "codemirror_mode": {
    "name": "ipython",
    "version": 3
   },
   "pygments_lexer": "ipython3",
   "nbconvert_exporter": "python",
   "file_extension": ".py"
  },
  "kernelspec": {
   "name": "python3",
   "display_name": "Python 3.9.0 64-bit"
  },
  "interpreter": {
   "hash": "3898892d7e34557bb8499aff9aa0ccd3bf7bab375649613f01d0952879e4c360"
  }
 },
 "nbformat": 4,
 "nbformat_minor": 2
}