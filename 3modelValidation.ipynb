{
 "metadata": {
  "language_info": {
   "codemirror_mode": {
    "name": "ipython",
    "version": 3
   },
   "file_extension": ".py",
   "mimetype": "text/x-python",
   "name": "python",
   "nbconvert_exporter": "python",
   "pygments_lexer": "ipython3",
   "version": "3.9.0"
  },
  "orig_nbformat": 4,
  "kernelspec": {
   "name": "python3",
   "display_name": "Python 3.9.0 64-bit"
  },
  "interpreter": {
   "hash": "3898892d7e34557bb8499aff9aa0ccd3bf7bab375649613f01d0952879e4c360"
  }
 },
 "nbformat": 4,
 "nbformat_minor": 2,
 "cells": [
  {
   "cell_type": "code",
   "execution_count": 1,
   "source": [
    "from tensorflow.keras.models import load_model\r\n",
    "import pandas as pd\r\n",
    "import numpy as np\r\n",
    "import dict_map as dm\r\n",
    "\r\n",
    "filepath = './models/l300e50wWeights'\r\n",
    "# Load the model\r\n",
    "model = load_model(filepath, compile = True)"
   ],
   "outputs": [
    {
     "output_type": "stream",
     "name": "stdout",
     "text": [
      "WARNING:tensorflow:Layer lstm will not use cuDNN kernels since it doesn't meet the criteria. It will use a generic GPU kernel as fallback when running on GPU.\n",
      "WARNING:tensorflow:Layer lstm will not use cuDNN kernels since it doesn't meet the criteria. It will use a generic GPU kernel as fallback when running on GPU.\n",
      "WARNING:tensorflow:Layer lstm will not use cuDNN kernels since it doesn't meet the criteria. It will use a generic GPU kernel as fallback when running on GPU.\n",
      "WARNING:tensorflow:Layer lstm_1 will not use cuDNN kernels since it doesn't meet the criteria. It will use a generic GPU kernel as fallback when running on GPU.\n"
     ]
    }
   ],
   "metadata": {}
  },
  {
   "cell_type": "code",
   "execution_count": 2,
   "source": [
    "df = pd.read_csv('data/trainingdata300.csv',escapechar=\"\\\\\",sep=\",\",error_bad_lines=False,warn_bad_lines=False)\r\n",
    "# df = df.head(1000)\r\n",
    "token2idx, idx2token = dm.get_dict_map(df, 'token')\r\n",
    "tag2idx, idx2tag = dm.get_dict_map(df, 'tag')\r\n",
    "\r\n",
    "df['Word_idx'] = df['Wort'].map(token2idx)\r\n",
    "df['Tag_idx'] = df['Attribut'].map(tag2idx)\r\n",
    "\r\n",
    "df_group = df.groupby(by = ['satzId'], as_index=False)['Wort', 'Attribut', 'Word_idx', 'Tag_idx'].agg(lambda x: list(x))\r\n",
    "#df_group\r\n",
    "import pad_train_test as ptt\r\n",
    "train_tokens, val_tokens, test_tokens, train_tags, val_tags, test_tags = ptt.get_pad_train_test_val(df_group, df, tag2idx)"
   ],
   "outputs": [
    {
     "output_type": "stream",
     "name": "stderr",
     "text": [
      "<ipython-input-2-ffa0064ed6ee>:9: FutureWarning: Indexing with multiple keys (implicitly converted to a tuple of keys) will be deprecated, use a list instead.\n",
      "  df_group = df.groupby(by = ['satzId'], as_index=False)['Wort', 'Attribut', 'Word_idx', 'Tag_idx'].agg(lambda x: list(x))\n"
     ]
    },
    {
     "output_type": "stream",
     "name": "stdout",
     "text": [
      "train_tokens length: 26331 \n",
      "train_tags length: 26331 \n",
      "test_tokens length: 3902 \n",
      "test_tags: 3902 \n",
      "val_tokens: 8778 \n",
      "val_tags: 8778\n"
     ]
    }
   ],
   "metadata": {}
  },
  {
   "cell_type": "code",
   "execution_count": null,
   "source": [
    "df_zu_testzwecken = pd.DataFrame(data=[0,1,2,3,4,5,6,7], columns=['IDX'])\r\n",
    "df_zu_testzwecken['Tag'] = df_zu_testzwecken['IDX'].map(idx2tag)\r\n",
    "print(df_zu_testzwecken)"
   ],
   "outputs": [],
   "metadata": {}
  },
  {
   "cell_type": "code",
   "execution_count": 3,
   "source": [
    "# Evaluate the model on the test data using `evaluate`\r\n",
    "print(\"Evaluate on test data\")\r\n",
    "results = model.evaluate(test_tokens, np.array(test_tags), batch_size=512)\r\n",
    "print(\"test loss, test acc:\", results)\r\n",
    "\r\n",
    "# Generate predictions (probabilities -- the output of the last layer)\r\n",
    "# on new data using `predict`\r\n",
    "print(\"Generate predictions for 3 samples\")\r\n",
    "predictions = model.predict(test_tokens[:3])\r\n",
    "print(\"predictions shape:\", predictions.shape)"
   ],
   "outputs": [
    {
     "output_type": "stream",
     "name": "stdout",
     "text": [
      "Evaluate on test data\n",
      "8/8 [==============================] - 27s 3s/step - loss: 7.0791 - accuracy: 0.0028\n",
      "test loss, test acc: [7.079083442687988, 0.0028267554007470608]\n",
      "Generate predictions for 3 samples\n",
      "predictions shape: (3, 300, 8)\n"
     ]
    }
   ],
   "metadata": {}
  },
  {
   "cell_type": "code",
   "execution_count": null,
   "source": [
    "predictions"
   ],
   "outputs": [],
   "metadata": {}
  },
  {
   "cell_type": "code",
   "execution_count": 5,
   "source": [
    "classes = np.argmax(predictions, axis = 1)"
   ],
   "outputs": [],
   "metadata": {}
  },
  {
   "cell_type": "code",
   "execution_count": 6,
   "source": [
    "# print(predictions)\r\n",
    "print(classes)"
   ],
   "outputs": [
    {
     "output_type": "stream",
     "name": "stdout",
     "text": [
      "[[  0   0 103   0   0   0   0   0]\n",
      " [  0   0 192   0   0   0   0   0]\n",
      " [  0   0 186   0   0   0   0   0]]\n"
     ]
    }
   ],
   "metadata": {}
  },
  {
   "cell_type": "code",
   "execution_count": 13,
   "source": [
    "df.groupby('Attribut').count()"
   ],
   "outputs": [
    {
     "output_type": "execute_result",
     "data": {
      "text/plain": [
       "                satzId     Wort  Word_idx  Tag_idx\n",
       "Attribut                                          \n",
       "B-Brand          67464    67464     67464    67464\n",
       "B-Modelnumber    33296    33115     33296    33296\n",
       "E-Brand           4521     4521      4521     4521\n",
       "E-Modelnumber     7143     7143      7143     7143\n",
       "I-Brand           1068     1068      1068     1068\n",
       "I-Modelnumber     7123     7123      7123     7123\n",
       "O              4807866  4807703   4807866  4807866"
      ],
      "text/html": [
       "<div>\n",
       "<style scoped>\n",
       "    .dataframe tbody tr th:only-of-type {\n",
       "        vertical-align: middle;\n",
       "    }\n",
       "\n",
       "    .dataframe tbody tr th {\n",
       "        vertical-align: top;\n",
       "    }\n",
       "\n",
       "    .dataframe thead th {\n",
       "        text-align: right;\n",
       "    }\n",
       "</style>\n",
       "<table border=\"1\" class=\"dataframe\">\n",
       "  <thead>\n",
       "    <tr style=\"text-align: right;\">\n",
       "      <th></th>\n",
       "      <th>satzId</th>\n",
       "      <th>Wort</th>\n",
       "      <th>Word_idx</th>\n",
       "      <th>Tag_idx</th>\n",
       "    </tr>\n",
       "    <tr>\n",
       "      <th>Attribut</th>\n",
       "      <th></th>\n",
       "      <th></th>\n",
       "      <th></th>\n",
       "      <th></th>\n",
       "    </tr>\n",
       "  </thead>\n",
       "  <tbody>\n",
       "    <tr>\n",
       "      <th>B-Brand</th>\n",
       "      <td>67464</td>\n",
       "      <td>67464</td>\n",
       "      <td>67464</td>\n",
       "      <td>67464</td>\n",
       "    </tr>\n",
       "    <tr>\n",
       "      <th>B-Modelnumber</th>\n",
       "      <td>33296</td>\n",
       "      <td>33115</td>\n",
       "      <td>33296</td>\n",
       "      <td>33296</td>\n",
       "    </tr>\n",
       "    <tr>\n",
       "      <th>E-Brand</th>\n",
       "      <td>4521</td>\n",
       "      <td>4521</td>\n",
       "      <td>4521</td>\n",
       "      <td>4521</td>\n",
       "    </tr>\n",
       "    <tr>\n",
       "      <th>E-Modelnumber</th>\n",
       "      <td>7143</td>\n",
       "      <td>7143</td>\n",
       "      <td>7143</td>\n",
       "      <td>7143</td>\n",
       "    </tr>\n",
       "    <tr>\n",
       "      <th>I-Brand</th>\n",
       "      <td>1068</td>\n",
       "      <td>1068</td>\n",
       "      <td>1068</td>\n",
       "      <td>1068</td>\n",
       "    </tr>\n",
       "    <tr>\n",
       "      <th>I-Modelnumber</th>\n",
       "      <td>7123</td>\n",
       "      <td>7123</td>\n",
       "      <td>7123</td>\n",
       "      <td>7123</td>\n",
       "    </tr>\n",
       "    <tr>\n",
       "      <th>O</th>\n",
       "      <td>4807866</td>\n",
       "      <td>4807703</td>\n",
       "      <td>4807866</td>\n",
       "      <td>4807866</td>\n",
       "    </tr>\n",
       "  </tbody>\n",
       "</table>\n",
       "</div>"
      ]
     },
     "metadata": {},
     "execution_count": 13
    }
   ],
   "metadata": {}
  },
  {
   "cell_type": "code",
   "execution_count": 7,
   "source": [
    "df.isna().sum()"
   ],
   "outputs": [
    {
     "output_type": "execute_result",
     "data": {
      "text/plain": [
       "satzId        0\n",
       "Wort        344\n",
       "Attribut      3\n",
       "Word_idx      0\n",
       "Tag_idx       0\n",
       "dtype: int64"
      ]
     },
     "metadata": {},
     "execution_count": 7
    }
   ],
   "metadata": {}
  },
  {
   "cell_type": "code",
   "execution_count": null,
   "source": [],
   "outputs": [],
   "metadata": {}
  }
 ]
}