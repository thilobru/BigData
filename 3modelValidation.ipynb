{
 "metadata": {
  "language_info": {
   "codemirror_mode": {
    "name": "ipython",
    "version": 3
   },
   "file_extension": ".py",
   "mimetype": "text/x-python",
   "name": "python",
   "nbconvert_exporter": "python",
   "pygments_lexer": "ipython3",
   "version": "3.9.0"
  },
  "orig_nbformat": 4,
  "kernelspec": {
   "name": "python3",
   "display_name": "Python 3.9.0 64-bit"
  },
  "interpreter": {
   "hash": "3898892d7e34557bb8499aff9aa0ccd3bf7bab375649613f01d0952879e4c360"
  }
 },
 "nbformat": 4,
 "nbformat_minor": 2,
 "cells": [
  {
   "cell_type": "code",
   "execution_count": 8,
   "metadata": {},
   "outputs": [
    {
     "output_type": "stream",
     "name": "stdout",
     "text": [
      "WARNING:tensorflow:Layer lstm will not use cuDNN kernels since it doesn't meet the criteria. It will use a generic GPU kernel as fallback when running on GPU.\n",
      "WARNING:tensorflow:Layer lstm will not use cuDNN kernels since it doesn't meet the criteria. It will use a generic GPU kernel as fallback when running on GPU.\n",
      "WARNING:tensorflow:Layer lstm will not use cuDNN kernels since it doesn't meet the criteria. It will use a generic GPU kernel as fallback when running on GPU.\n",
      "WARNING:tensorflow:Layer lstm_1 will not use cuDNN kernels since it doesn't meet the criteria. It will use a generic GPU kernel as fallback when running on GPU.\n"
     ]
    }
   ],
   "source": [
    "from tensorflow.keras.models import load_model\n",
    "import pandas as pd\n",
    "import numpy as np\n",
    "import dict_map as dm\n",
    "\n",
    "filepath = './models/train300wWeights'\n",
    "# Load the model\n",
    "model = load_model(filepath, compile = True)"
   ]
  },
  {
   "cell_type": "code",
   "execution_count": 9,
   "metadata": {},
   "outputs": [
    {
     "output_type": "stream",
     "name": "stderr",
     "text": [
      "<ipython-input-9-ffa0064ed6ee>:9: FutureWarning: Indexing with multiple keys (implicitly converted to a tuple of keys) will be deprecated, use a list instead.\n",
      "  df_group = df.groupby(by = ['satzId'], as_index=False)['Wort', 'Attribut', 'Word_idx', 'Tag_idx'].agg(lambda x: list(x))\n",
      "train_tokens length: 26331 \n",
      "train_tags length: 26331 \n",
      "test_tokens length: 3902 \n",
      "test_tags: 3902 \n",
      "val_tokens: 8778 \n",
      "val_tags: 8778\n"
     ]
    }
   ],
   "source": [
    "df = pd.read_csv('Daten/trainingdata300.csv',escapechar=\"\\\\\",sep=\",\",error_bad_lines=False,warn_bad_lines=False)\n",
    "# df = df.head(1000)\n",
    "token2idx, idx2token = dm.get_dict_map(df, 'token')\n",
    "tag2idx, idx2tag = dm.get_dict_map(df, 'tag')\n",
    "\n",
    "df['Word_idx'] = df['Wort'].map(token2idx)\n",
    "df['Tag_idx'] = df['Attribut'].map(tag2idx)\n",
    "\n",
    "df_group = df.groupby(by = ['satzId'], as_index=False)['Wort', 'Attribut', 'Word_idx', 'Tag_idx'].agg(lambda x: list(x))\n",
    "#df_group\n",
    "import pad_train_test as ptt\n",
    "train_tokens, val_tokens, test_tokens, train_tags, val_tags, test_tags = ptt.get_pad_train_test_val(df_group, df, tag2idx)"
   ]
  },
  {
   "cell_type": "code",
   "execution_count": 10,
   "metadata": {},
   "outputs": [
    {
     "output_type": "stream",
     "name": "stdout",
     "text": [
      "Evaluate on test data\n",
      "8/8 [==============================] - 8s 862ms/step - loss: 7.0737 - accuracy: 0.0057\n",
      "test loss, test acc: [7.073709011077881, 0.005673158913850784]\n",
      "Generate predictions for 3 samples\n",
      "predictions shape: (3, 300, 8)\n"
     ]
    }
   ],
   "source": [
    "# Evaluate the model on the test data using `evaluate`\n",
    "print(\"Evaluate on test data\")\n",
    "results = model.evaluate(test_tokens, np.array(test_tags), batch_size=512)\n",
    "print(\"test loss, test acc:\", results)\n",
    "\n",
    "# Generate predictions (probabilities -- the output of the last layer)\n",
    "# on new data using `predict`\n",
    "print(\"Generate predictions for 3 samples\")\n",
    "predictions = model.predict(test_tokens[:3])\n",
    "print(\"predictions shape:\", predictions.shape)"
   ]
  },
  {
   "cell_type": "code",
   "execution_count": 4,
   "metadata": {},
   "outputs": [
    {
     "output_type": "execute_result",
     "data": {
      "text/plain": [
       "array([[[0.03265458, 0.05867001, 0.07293681, ..., 0.03679058,\n",
       "         0.19502704, 0.06096945],\n",
       "        [0.00733751, 0.02066729, 0.03435301, ..., 0.00869032,\n",
       "         0.16527705, 0.02474638],\n",
       "        [0.00328501, 0.01201597, 0.02356027, ..., 0.00378194,\n",
       "         0.12559886, 0.01505491],\n",
       "        ...,\n",
       "        [0.00073424, 0.00290163, 0.00664687, ..., 0.00054984,\n",
       "         0.0095855 , 0.00148857],\n",
       "        [0.00077047, 0.00299882, 0.00689066, ..., 0.00057579,\n",
       "         0.00973489, 0.00154147],\n",
       "        [0.00080558, 0.00309201, 0.00711741, ..., 0.0006005 ,\n",
       "         0.0098879 , 0.0015928 ]],\n",
       "\n",
       "       [[0.03229791, 0.05848663, 0.07279234, ..., 0.03642419,\n",
       "         0.19276194, 0.06028431],\n",
       "        [0.00724463, 0.02064633, 0.03444205, ..., 0.00860842,\n",
       "         0.16094261, 0.02436695],\n",
       "        [0.00325559, 0.01207753, 0.02366722, ..., 0.00375996,\n",
       "         0.12165047, 0.01485828],\n",
       "        ...,\n",
       "        [0.00073424, 0.00290163, 0.00664687, ..., 0.00054984,\n",
       "         0.0095855 , 0.00148857],\n",
       "        [0.00077047, 0.00299882, 0.00689066, ..., 0.00057579,\n",
       "         0.00973489, 0.00154147],\n",
       "        [0.00080558, 0.00309201, 0.00711741, ..., 0.0006005 ,\n",
       "         0.0098879 , 0.0015928 ]],\n",
       "\n",
       "       [[0.03276237, 0.05902355, 0.07334085, ..., 0.03688551,\n",
       "         0.1936836 , 0.06088821],\n",
       "        [0.00744542, 0.02102275, 0.03483739, ..., 0.00884253,\n",
       "         0.16504015, 0.02494801],\n",
       "        [0.00327368, 0.01204606, 0.02352316, ..., 0.00376821,\n",
       "         0.12305519, 0.0148783 ],\n",
       "        ...,\n",
       "        [0.00073424, 0.00290163, 0.00664687, ..., 0.00054984,\n",
       "         0.0095855 , 0.00148857],\n",
       "        [0.00077047, 0.00299882, 0.00689066, ..., 0.00057579,\n",
       "         0.00973489, 0.00154147],\n",
       "        [0.00080558, 0.00309201, 0.00711741, ..., 0.0006005 ,\n",
       "         0.0098879 , 0.0015928 ]]], dtype=float32)"
      ]
     },
     "metadata": {},
     "execution_count": 4
    }
   ],
   "source": [
    "predictions"
   ]
  },
  {
   "cell_type": "code",
   "execution_count": 5,
   "metadata": {},
   "outputs": [],
   "source": [
    "classes = np.argmax(predictions, axis = 1)"
   ]
  },
  {
   "cell_type": "code",
   "execution_count": 6,
   "metadata": {},
   "outputs": [
    {
     "output_type": "stream",
     "name": "stdout",
     "text": [
      "[[  0   0   0   0 103   0   0   0]\n [  0   0   0   0 215   0   0   0]\n [  0   0   0   0 208   0   0   0]]\n"
     ]
    }
   ],
   "source": [
    "# print(predictions)\n",
    "print(classes)"
   ]
  },
  {
   "cell_type": "code",
   "execution_count": 13,
   "metadata": {},
   "outputs": [
    {
     "output_type": "execute_result",
     "data": {
      "text/plain": [
       "                satzId     Wort  Word_idx  Tag_idx\n",
       "Attribut                                          \n",
       "B-Brand          67464    67464     67464    67464\n",
       "B-Modelnumber    33296    33115     33296    33296\n",
       "E-Brand           4521     4521      4521     4521\n",
       "E-Modelnumber     7143     7143      7143     7143\n",
       "I-Brand           1068     1068      1068     1068\n",
       "I-Modelnumber     7123     7123      7123     7123\n",
       "O              4807866  4807703   4807866  4807866"
      ],
      "text/html": "<div>\n<style scoped>\n    .dataframe tbody tr th:only-of-type {\n        vertical-align: middle;\n    }\n\n    .dataframe tbody tr th {\n        vertical-align: top;\n    }\n\n    .dataframe thead th {\n        text-align: right;\n    }\n</style>\n<table border=\"1\" class=\"dataframe\">\n  <thead>\n    <tr style=\"text-align: right;\">\n      <th></th>\n      <th>satzId</th>\n      <th>Wort</th>\n      <th>Word_idx</th>\n      <th>Tag_idx</th>\n    </tr>\n    <tr>\n      <th>Attribut</th>\n      <th></th>\n      <th></th>\n      <th></th>\n      <th></th>\n    </tr>\n  </thead>\n  <tbody>\n    <tr>\n      <th>B-Brand</th>\n      <td>67464</td>\n      <td>67464</td>\n      <td>67464</td>\n      <td>67464</td>\n    </tr>\n    <tr>\n      <th>B-Modelnumber</th>\n      <td>33296</td>\n      <td>33115</td>\n      <td>33296</td>\n      <td>33296</td>\n    </tr>\n    <tr>\n      <th>E-Brand</th>\n      <td>4521</td>\n      <td>4521</td>\n      <td>4521</td>\n      <td>4521</td>\n    </tr>\n    <tr>\n      <th>E-Modelnumber</th>\n      <td>7143</td>\n      <td>7143</td>\n      <td>7143</td>\n      <td>7143</td>\n    </tr>\n    <tr>\n      <th>I-Brand</th>\n      <td>1068</td>\n      <td>1068</td>\n      <td>1068</td>\n      <td>1068</td>\n    </tr>\n    <tr>\n      <th>I-Modelnumber</th>\n      <td>7123</td>\n      <td>7123</td>\n      <td>7123</td>\n      <td>7123</td>\n    </tr>\n    <tr>\n      <th>O</th>\n      <td>4807866</td>\n      <td>4807703</td>\n      <td>4807866</td>\n      <td>4807866</td>\n    </tr>\n  </tbody>\n</table>\n</div>"
     },
     "metadata": {},
     "execution_count": 13
    }
   ],
   "source": [
    "df.groupby('Attribut').count()"
   ]
  },
  {
   "cell_type": "code",
   "execution_count": 7,
   "metadata": {},
   "outputs": [
    {
     "output_type": "execute_result",
     "data": {
      "text/plain": [
       "satzId        0\n",
       "Wort        344\n",
       "Attribut      3\n",
       "Word_idx      0\n",
       "Tag_idx       0\n",
       "dtype: int64"
      ]
     },
     "metadata": {},
     "execution_count": 7
    }
   ],
   "source": [
    "df.isna().sum()"
   ]
  },
  {
   "cell_type": "code",
   "execution_count": null,
   "metadata": {},
   "outputs": [],
   "source": []
  }
 ]
}