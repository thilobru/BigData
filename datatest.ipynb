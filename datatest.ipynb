{
 "metadata": {
  "language_info": {
   "codemirror_mode": {
    "name": "ipython",
    "version": 3
   },
   "file_extension": ".py",
   "mimetype": "text/x-python",
   "name": "python",
   "nbconvert_exporter": "python",
   "pygments_lexer": "ipython3",
   "version": "3.9.0"
  },
  "orig_nbformat": 2,
  "kernelspec": {
   "name": "python390jvsc74a57bd03898892d7e34557bb8499aff9aa0ccd3bf7bab375649613f01d0952879e4c360",
   "display_name": "Python 3.9.0 64-bit"
  },
  "metadata": {
   "interpreter": {
    "hash": "3898892d7e34557bb8499aff9aa0ccd3bf7bab375649613f01d0952879e4c360"
   }
  }
 },
 "nbformat": 4,
 "nbformat_minor": 2,
 "cells": [
  {
   "cell_type": "code",
   "execution_count": 1,
   "metadata": {},
   "outputs": [],
   "source": [
    "#$pip install pandas\n",
    "import pandas as pd"
   ]
  },
  {
   "cell_type": "code",
   "execution_count": 35,
   "metadata": {},
   "outputs": [
    {
     "output_type": "execute_result",
     "data": {
      "text/plain": [
       "Index(['id', 'source', 'name', 'productdescription', 'url', 'brand',\n",
       "       'modelnumber'],\n",
       "      dtype='object')"
      ]
     },
     "metadata": {},
     "execution_count": 35
    }
   ],
   "source": [
    "df = pd.read_csv('Daten/KoepckeEigen/electronicFixed.csv',escapechar=\"\\\\\",sep=\",\",error_bad_lines=False,warn_bad_lines=False)\n",
    "df.columns"
   ]
  },
  {
   "cell_type": "code",
   "execution_count": 41,
   "metadata": {},
   "outputs": [
    {
     "output_type": "execute_result",
     "data": {
      "text/plain": [
       "                                     id                   source  \\\n",
       "0      000266f5e7ab2344315290174dfb75f7  appliancesconnection.us   \n",
       "1      000436254daab8809a70f6e2bba0ed3b  appliancesconnection.us   \n",
       "2      00045cf29bdf930df9cde1c23bc2dfe5  appliancesconnection.us   \n",
       "3      0009473c1d9c02569a88ac4dee9dcbbb  appliancesconnection.us   \n",
       "4      00096b652644c936ff9384478afcc429  appliancesconnection.us   \n",
       "...                                 ...                      ...   \n",
       "55336  ff9a33d6d35c5c58ef21dc270ef877e4            spencerstv.us   \n",
       "55337  ffa94a69206e8047a38d78760528ee66            spencerstv.us   \n",
       "55338  ffbd0414a28039f7096cfb2af0d0343c            spencerstv.us   \n",
       "55339  ffe2683b57db952807a1892a2dccfdb8            spencerstv.us   \n",
       "55340  fff12b5d86c3582f353870405fa1057e            spencerstv.us   \n",
       "\n",
       "                                                    name  \\\n",
       "0                                         Broan TEN136WW   \n",
       "1                                    Viking VCBB5363ERWH   \n",
       "2                              Imperial IS1936PS1TWSB8SS   \n",
       "3                                    Hestan KRT485GDNGOR   \n",
       "4                                         Summit CP34WMC   \n",
       "...                                                  ...   \n",
       "55336  LG 24\" Smooth Black Built In Dishwasher -LDFN4...   \n",
       "55337  Whirlpool® 4.3 Cu. Ft. Chrome Shadow Front Loa...   \n",
       "55338  Thermador® Masterpiece® 36\" Electric Cooktop-S...   \n",
       "55339  ASKO Classic 4.1 Cu. Ft. White Front Load Elec...   \n",
       "55340  Samsung 4.5 Cu. Ft. Platinum Front Load Washer...   \n",
       "\n",
       "                                      productdescription  \\\n",
       "0      Broan TEN136WW Overview The Tenya 1 Series Und...   \n",
       "1      Viking VCBB5363ERWH Overview The 36\" Professio...   \n",
       "2      Imperial IS1936PS1TWSB8SS Overview This island...   \n",
       "3      Hestan KRT485GDNGOR Overview The 48\" Built-In ...   \n",
       "4      Summit CP34WMC Overview CP34WMC 19\" MOMCUBE To...   \n",
       "...                                                  ...   \n",
       "55336  Get a Spotless Clean the First Time Exclusive ...   \n",
       "55337  Match your family's routines and your space wi...   \n",
       "55338  Five elements and ten cooking zones provides t...   \n",
       "55339  But caring for our environment not only helps ...   \n",
       "55340  Gently Remove Stains - Steam The power of stea...   \n",
       "\n",
       "                                                     url      brand  \\\n",
       "0      https://www.appliancesconnection.com/broan-ten...      Broan   \n",
       "1      https://www.appliancesconnection.com/viking-vc...     Viking   \n",
       "2      https://www.appliancesconnection.com/imperial-...   IMPERIAL   \n",
       "3      https://www.appliancesconnection.com/hestan-kr...     Hestan   \n",
       "4      https://www.appliancesconnection.com/summit-cp...     Summit   \n",
       "...                                                  ...        ...   \n",
       "55336  https://www.spencerstv.com/product/lg-24-smoot...         LG   \n",
       "55337  https://www.spencerstv.com/product/whirlpool-4...  Whirlpool   \n",
       "55338  https://www.spencerstv.com/product/thermador-m...  THERMADOR   \n",
       "55339  https://www.spencerstv.com/product/asko-classi...       ASKO   \n",
       "55340  https://www.spencerstv.com/product/samsung-45-...    Samsung   \n",
       "\n",
       "            modelnumber  \n",
       "0              TEN136WW  \n",
       "1          VCBB5363ERWH  \n",
       "2      IS1936PS1TWSB8SS  \n",
       "3          KRT485GDNGOR  \n",
       "4               CP34WMC  \n",
       "...                 ...  \n",
       "55336         LDFN4542B  \n",
       "55337         WFW862CHC  \n",
       "55338          CEM366TB  \n",
       "55339            T208HW  \n",
       "55340       WF45R6100AP  \n",
       "\n",
       "[55341 rows x 7 columns]"
      ],
      "text/html": "<div>\n<style scoped>\n    .dataframe tbody tr th:only-of-type {\n        vertical-align: middle;\n    }\n\n    .dataframe tbody tr th {\n        vertical-align: top;\n    }\n\n    .dataframe thead th {\n        text-align: right;\n    }\n</style>\n<table border=\"1\" class=\"dataframe\">\n  <thead>\n    <tr style=\"text-align: right;\">\n      <th></th>\n      <th>id</th>\n      <th>source</th>\n      <th>name</th>\n      <th>productdescription</th>\n      <th>url</th>\n      <th>brand</th>\n      <th>modelnumber</th>\n    </tr>\n  </thead>\n  <tbody>\n    <tr>\n      <th>0</th>\n      <td>000266f5e7ab2344315290174dfb75f7</td>\n      <td>appliancesconnection.us</td>\n      <td>Broan TEN136WW</td>\n      <td>Broan TEN136WW Overview The Tenya 1 Series Und...</td>\n      <td>https://www.appliancesconnection.com/broan-ten...</td>\n      <td>Broan</td>\n      <td>TEN136WW</td>\n    </tr>\n    <tr>\n      <th>1</th>\n      <td>000436254daab8809a70f6e2bba0ed3b</td>\n      <td>appliancesconnection.us</td>\n      <td>Viking VCBB5363ERWH</td>\n      <td>Viking VCBB5363ERWH Overview The 36\" Professio...</td>\n      <td>https://www.appliancesconnection.com/viking-vc...</td>\n      <td>Viking</td>\n      <td>VCBB5363ERWH</td>\n    </tr>\n    <tr>\n      <th>2</th>\n      <td>00045cf29bdf930df9cde1c23bc2dfe5</td>\n      <td>appliancesconnection.us</td>\n      <td>Imperial IS1936PS1TWSB8SS</td>\n      <td>Imperial IS1936PS1TWSB8SS Overview This island...</td>\n      <td>https://www.appliancesconnection.com/imperial-...</td>\n      <td>IMPERIAL</td>\n      <td>IS1936PS1TWSB8SS</td>\n    </tr>\n    <tr>\n      <th>3</th>\n      <td>0009473c1d9c02569a88ac4dee9dcbbb</td>\n      <td>appliancesconnection.us</td>\n      <td>Hestan KRT485GDNGOR</td>\n      <td>Hestan KRT485GDNGOR Overview The 48\" Built-In ...</td>\n      <td>https://www.appliancesconnection.com/hestan-kr...</td>\n      <td>Hestan</td>\n      <td>KRT485GDNGOR</td>\n    </tr>\n    <tr>\n      <th>4</th>\n      <td>00096b652644c936ff9384478afcc429</td>\n      <td>appliancesconnection.us</td>\n      <td>Summit CP34WMC</td>\n      <td>Summit CP34WMC Overview CP34WMC 19\" MOMCUBE To...</td>\n      <td>https://www.appliancesconnection.com/summit-cp...</td>\n      <td>Summit</td>\n      <td>CP34WMC</td>\n    </tr>\n    <tr>\n      <th>...</th>\n      <td>...</td>\n      <td>...</td>\n      <td>...</td>\n      <td>...</td>\n      <td>...</td>\n      <td>...</td>\n      <td>...</td>\n    </tr>\n    <tr>\n      <th>55336</th>\n      <td>ff9a33d6d35c5c58ef21dc270ef877e4</td>\n      <td>spencerstv.us</td>\n      <td>LG 24\" Smooth Black Built In Dishwasher -LDFN4...</td>\n      <td>Get a Spotless Clean the First Time Exclusive ...</td>\n      <td>https://www.spencerstv.com/product/lg-24-smoot...</td>\n      <td>LG</td>\n      <td>LDFN4542B</td>\n    </tr>\n    <tr>\n      <th>55337</th>\n      <td>ffa94a69206e8047a38d78760528ee66</td>\n      <td>spencerstv.us</td>\n      <td>Whirlpool® 4.3 Cu. Ft. Chrome Shadow Front Loa...</td>\n      <td>Match your family's routines and your space wi...</td>\n      <td>https://www.spencerstv.com/product/whirlpool-4...</td>\n      <td>Whirlpool</td>\n      <td>WFW862CHC</td>\n    </tr>\n    <tr>\n      <th>55338</th>\n      <td>ffbd0414a28039f7096cfb2af0d0343c</td>\n      <td>spencerstv.us</td>\n      <td>Thermador® Masterpiece® 36\" Electric Cooktop-S...</td>\n      <td>Five elements and ten cooking zones provides t...</td>\n      <td>https://www.spencerstv.com/product/thermador-m...</td>\n      <td>THERMADOR</td>\n      <td>CEM366TB</td>\n    </tr>\n    <tr>\n      <th>55339</th>\n      <td>ffe2683b57db952807a1892a2dccfdb8</td>\n      <td>spencerstv.us</td>\n      <td>ASKO Classic 4.1 Cu. Ft. White Front Load Elec...</td>\n      <td>But caring for our environment not only helps ...</td>\n      <td>https://www.spencerstv.com/product/asko-classi...</td>\n      <td>ASKO</td>\n      <td>T208HW</td>\n    </tr>\n    <tr>\n      <th>55340</th>\n      <td>fff12b5d86c3582f353870405fa1057e</td>\n      <td>spencerstv.us</td>\n      <td>Samsung 4.5 Cu. Ft. Platinum Front Load Washer...</td>\n      <td>Gently Remove Stains - Steam The power of stea...</td>\n      <td>https://www.spencerstv.com/product/samsung-45-...</td>\n      <td>Samsung</td>\n      <td>WF45R6100AP</td>\n    </tr>\n  </tbody>\n</table>\n<p>55341 rows × 7 columns</p>\n</div>"
     },
     "metadata": {},
     "execution_count": 41
    }
   ],
   "source": [
    "df"
   ]
  },
  {
   "cell_type": "code",
   "execution_count": 42,
   "metadata": {},
   "outputs": [
    {
     "output_type": "execute_result",
     "data": {
      "text/plain": [
       "source\n",
       "appliancesconnection.us    20745\n",
       "productreview.au            2502\n",
       "sharafdg.ae                 5626\n",
       "shopee.my                  24576\n",
       "spencerstv.us               1892\n",
       "dtype: int64"
      ]
     },
     "metadata": {},
     "execution_count": 42
    }
   ],
   "source": [
    "df.groupby(['source']).size()\n"
   ]
  },
  {
   "cell_type": "code",
   "execution_count": 39,
   "metadata": {},
   "outputs": [
    {
     "output_type": "execute_result",
     "data": {
      "text/plain": [
       "4514"
      ]
     },
     "metadata": {},
     "execution_count": 39
    }
   ],
   "source": [
    "df[\"productdescription\"].isna().sum()"
   ]
  },
  {
   "cell_type": "code",
   "execution_count": 33,
   "metadata": {},
   "outputs": [
    {
     "output_type": "execute_result",
     "data": {
      "text/plain": [
       "                                     id                   source  \\\n",
       "17     002d087448df626846824af3ad26506e  appliancesconnection.us   \n",
       "27     004d625c35a120c2e67b1be37a1b1bc6  appliancesconnection.us   \n",
       "47     0088f783c9d8bf7c1dfe4575dbca546d  appliancesconnection.us   \n",
       "51     0093c70185d111b5d77e934454cee159  appliancesconnection.us   \n",
       "68     00b8e4cce00eb680373fc248fb3f3acf  appliancesconnection.us   \n",
       "...                                 ...                      ...   \n",
       "47164  be5e40f0aeee65fae00b305c9e9879f3                shopee.my   \n",
       "47426  c12a59a74b2c42a102d16c547221e24b                shopee.my   \n",
       "49409  d4cd8f0e4afc510646026f7c60b60a79                shopee.my   \n",
       "49611  d719a134cd208ada69d597ca8ca8417e                shopee.my   \n",
       "54759  b08f1a4f495b43d138d0fee7ecac02ae            spencerstv.us   \n",
       "\n",
       "                                                    name productdescription  \\\n",
       "17                                      Whirlpool 963697                NaN   \n",
       "27                                  Fisher Paykel 966242                NaN   \n",
       "47                                            LG 1289269                NaN   \n",
       "51                                     Thermador 1383861                NaN   \n",
       "68                                  Fisher Paykel 955014                NaN   \n",
       "...                                                  ...                ...   \n",
       "47164  Haier 250L (BD-248WL) Upright Freezer Refriger...                NaN   \n",
       "47426  MILUX Classy Cute Mini Rice Cooker MRC-703 @ M...                NaN   \n",
       "49409  TOSHIBA 7KG AIR-VENTED TUMBLE DRYER TD-H80SEM ...                NaN   \n",
       "49611               TOSHIBA 7KG WASHING MACHINE AWJ800AM                NaN   \n",
       "54759  Whirlpool® Front Load Electric Dryer-Chrome Sh...                NaN   \n",
       "\n",
       "                                                     url          brand  \\\n",
       "17     https://www.appliancesconnection.com/whirlpool...      Whirlpool   \n",
       "27     https://www.appliancesconnection.com/fisher-pa...  Fisher Paykel   \n",
       "47     https://www.appliancesconnection.com/lg-128926...             LG   \n",
       "51     https://www.appliancesconnection.com/thermador...      THERMADOR   \n",
       "68     https://www.appliancesconnection.com/fisher-pa...  Fisher Paykel   \n",
       "...                                                  ...            ...   \n",
       "47164      https://shopee.com.my/p-i.82046163.3189247483          Haier   \n",
       "47426      https://shopee.com.my/p-i.29424047.1854291625          Milux   \n",
       "49409     https://shopee.com.my/p-i.254079763.7264410100        Toshiba   \n",
       "49611      https://shopee.com.my/p-i.65409050.5038243486        Toshiba   \n",
       "54759  https://www.spencerstv.com/product/whirlpool-f...      Whirlpool   \n",
       "\n",
       "      modelnumber  \n",
       "17         963697  \n",
       "27         966242  \n",
       "47        1289269  \n",
       "51        1383861  \n",
       "68         955014  \n",
       "...           ...  \n",
       "47164    BD-248WL  \n",
       "47426    MRC-7103  \n",
       "49409   TD-H80SEM  \n",
       "49611    AWJ800AM  \n",
       "54759   WED7500GC  \n",
       "\n",
       "[4514 rows x 7 columns]"
      ],
      "text/html": "<div>\n<style scoped>\n    .dataframe tbody tr th:only-of-type {\n        vertical-align: middle;\n    }\n\n    .dataframe tbody tr th {\n        vertical-align: top;\n    }\n\n    .dataframe thead th {\n        text-align: right;\n    }\n</style>\n<table border=\"1\" class=\"dataframe\">\n  <thead>\n    <tr style=\"text-align: right;\">\n      <th></th>\n      <th>id</th>\n      <th>source</th>\n      <th>name</th>\n      <th>productdescription</th>\n      <th>url</th>\n      <th>brand</th>\n      <th>modelnumber</th>\n    </tr>\n  </thead>\n  <tbody>\n    <tr>\n      <th>17</th>\n      <td>002d087448df626846824af3ad26506e</td>\n      <td>appliancesconnection.us</td>\n      <td>Whirlpool 963697</td>\n      <td>NaN</td>\n      <td>https://www.appliancesconnection.com/whirlpool...</td>\n      <td>Whirlpool</td>\n      <td>963697</td>\n    </tr>\n    <tr>\n      <th>27</th>\n      <td>004d625c35a120c2e67b1be37a1b1bc6</td>\n      <td>appliancesconnection.us</td>\n      <td>Fisher Paykel 966242</td>\n      <td>NaN</td>\n      <td>https://www.appliancesconnection.com/fisher-pa...</td>\n      <td>Fisher Paykel</td>\n      <td>966242</td>\n    </tr>\n    <tr>\n      <th>47</th>\n      <td>0088f783c9d8bf7c1dfe4575dbca546d</td>\n      <td>appliancesconnection.us</td>\n      <td>LG 1289269</td>\n      <td>NaN</td>\n      <td>https://www.appliancesconnection.com/lg-128926...</td>\n      <td>LG</td>\n      <td>1289269</td>\n    </tr>\n    <tr>\n      <th>51</th>\n      <td>0093c70185d111b5d77e934454cee159</td>\n      <td>appliancesconnection.us</td>\n      <td>Thermador 1383861</td>\n      <td>NaN</td>\n      <td>https://www.appliancesconnection.com/thermador...</td>\n      <td>THERMADOR</td>\n      <td>1383861</td>\n    </tr>\n    <tr>\n      <th>68</th>\n      <td>00b8e4cce00eb680373fc248fb3f3acf</td>\n      <td>appliancesconnection.us</td>\n      <td>Fisher Paykel 955014</td>\n      <td>NaN</td>\n      <td>https://www.appliancesconnection.com/fisher-pa...</td>\n      <td>Fisher Paykel</td>\n      <td>955014</td>\n    </tr>\n    <tr>\n      <th>...</th>\n      <td>...</td>\n      <td>...</td>\n      <td>...</td>\n      <td>...</td>\n      <td>...</td>\n      <td>...</td>\n      <td>...</td>\n    </tr>\n    <tr>\n      <th>47164</th>\n      <td>be5e40f0aeee65fae00b305c9e9879f3</td>\n      <td>shopee.my</td>\n      <td>Haier 250L (BD-248WL) Upright Freezer Refriger...</td>\n      <td>NaN</td>\n      <td>https://shopee.com.my/p-i.82046163.3189247483</td>\n      <td>Haier</td>\n      <td>BD-248WL</td>\n    </tr>\n    <tr>\n      <th>47426</th>\n      <td>c12a59a74b2c42a102d16c547221e24b</td>\n      <td>shopee.my</td>\n      <td>MILUX Classy Cute Mini Rice Cooker MRC-703 @ M...</td>\n      <td>NaN</td>\n      <td>https://shopee.com.my/p-i.29424047.1854291625</td>\n      <td>Milux</td>\n      <td>MRC-7103</td>\n    </tr>\n    <tr>\n      <th>49409</th>\n      <td>d4cd8f0e4afc510646026f7c60b60a79</td>\n      <td>shopee.my</td>\n      <td>TOSHIBA 7KG AIR-VENTED TUMBLE DRYER TD-H80SEM ...</td>\n      <td>NaN</td>\n      <td>https://shopee.com.my/p-i.254079763.7264410100</td>\n      <td>Toshiba</td>\n      <td>TD-H80SEM</td>\n    </tr>\n    <tr>\n      <th>49611</th>\n      <td>d719a134cd208ada69d597ca8ca8417e</td>\n      <td>shopee.my</td>\n      <td>TOSHIBA 7KG WASHING MACHINE AWJ800AM</td>\n      <td>NaN</td>\n      <td>https://shopee.com.my/p-i.65409050.5038243486</td>\n      <td>Toshiba</td>\n      <td>AWJ800AM</td>\n    </tr>\n    <tr>\n      <th>54759</th>\n      <td>b08f1a4f495b43d138d0fee7ecac02ae</td>\n      <td>spencerstv.us</td>\n      <td>Whirlpool® Front Load Electric Dryer-Chrome Sh...</td>\n      <td>NaN</td>\n      <td>https://www.spencerstv.com/product/whirlpool-f...</td>\n      <td>Whirlpool</td>\n      <td>WED7500GC</td>\n    </tr>\n  </tbody>\n</table>\n<p>4514 rows × 7 columns</p>\n</div>"
     },
     "metadata": {},
     "execution_count": 33
    }
   ],
   "source": [
    "df[df['productdescription'].isna()]"
   ]
  },
  {
   "cell_type": "code",
   "execution_count": 40,
   "metadata": {},
   "outputs": [
    {
     "output_type": "execute_result",
     "data": {
      "text/plain": [
       "source\n",
       "appliancesconnection.us    1303\n",
       "productreview.au           2477\n",
       "sharafdg.ae                 722\n",
       "shopee.my                    11\n",
       "spencerstv.us                 1\n",
       "dtype: int64"
      ]
     },
     "metadata": {},
     "execution_count": 40
    }
   ],
   "source": [
    "df[df['productdescription'].isna()].groupby(['source']).size()"
   ]
  },
  {
   "cell_type": "code",
   "execution_count": 16,
   "metadata": {},
   "outputs": [
    {
     "output_type": "stream",
     "name": "stdout",
     "text": [
      "1,3,5,7,9,11,13,15,17,19,21,23,25,27,29,31,33,35,37,"
     ]
    }
   ],
   "source": [
    "for i in range(1,39):\n",
    "    if i % 2 == 0:\n",
    "        continue\n",
    "    print(str(i) + ',', end = '')\n",
    "\n"
   ]
  },
  {
   "cell_type": "code",
   "execution_count": null,
   "metadata": {},
   "outputs": [],
   "source": []
  }
 ]
}