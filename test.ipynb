{
 "metadata": {
  "language_info": {
   "codemirror_mode": {
    "name": "ipython",
    "version": 3
   },
   "file_extension": ".py",
   "mimetype": "text/x-python",
   "name": "python",
   "nbconvert_exporter": "python",
   "pygments_lexer": "ipython3",
   "version": "3.9.2"
  },
  "orig_nbformat": 2,
  "kernelspec": {
   "name": "python3",
   "display_name": "Python 3",
   "language": "python"
  },
  "metadata": {
   "interpreter": {
    "hash": "3898892d7e34557bb8499aff9aa0ccd3bf7bab375649613f01d0952879e4c360"
   }
  }
 },
 "nbformat": 4,
 "nbformat_minor": 2,
 "cells": [
  {
   "cell_type": "code",
   "execution_count": 6,
   "metadata": {},
   "outputs": [],
   "source": [
    "#pip install pandas\n",
    "import pandas as pd"
   ]
  },
  {
   "cell_type": "code",
   "execution_count": 15,
   "metadata": {
    "tags": []
   },
   "outputs": [
    {
     "output_type": "execute_result",
     "data": {
      "text/plain": [
       "                                 id                   source  \\\n",
       "0  000266f5e7ab2344315290174dfb75f7  appliancesconnection.us   \n",
       "1  000436254daab8809a70f6e2bba0ed3b  appliancesconnection.us   \n",
       "2  00045cf29bdf930df9cde1c23bc2dfe5  appliancesconnection.us   \n",
       "3  0009473c1d9c02569a88ac4dee9dcbbb  appliancesconnection.us   \n",
       "4  00096b652644c936ff9384478afcc429  appliancesconnection.us   \n",
       "\n",
       "                        name  \\\n",
       "0             Broan TEN136WW   \n",
       "1        Viking VCBB5363ERWH   \n",
       "2  Imperial IS1936PS1TWSB8SS   \n",
       "3        Hestan KRT485GDNGOR   \n",
       "4             Summit CP34WMC   \n",
       "\n",
       "                                  productdescription  \\\n",
       "0  Broan TEN136WW Overview The Tenya 1 Series Und...   \n",
       "1  Viking VCBB5363ERWH Overview The 36\" Professio...   \n",
       "2  Imperial IS1936PS1TWSB8SS Overview This island...   \n",
       "3  Hestan KRT485GDNGOR Overview The 48\" Built-In ...   \n",
       "4  Summit CP34WMC Overview CP34WMC 19\" MOMCUBE To...   \n",
       "\n",
       "                                                 url     brand  \\\n",
       "0  https://www.appliancesconnection.com/broan-ten...     Broan   \n",
       "1  https://www.appliancesconnection.com/viking-vc...    Viking   \n",
       "2  https://www.appliancesconnection.com/imperial-...  IMPERIAL   \n",
       "3  https://www.appliancesconnection.com/hestan-kr...    Hestan   \n",
       "4  https://www.appliancesconnection.com/summit-cp...    Summit   \n",
       "\n",
       "        modelnumber  \n",
       "0          TEN136WW  \n",
       "1      VCBB5363ERWH  \n",
       "2  IS1936PS1TWSB8SS  \n",
       "3      KRT485GDNGOR  \n",
       "4           CP34WMC  "
      ],
      "text/html": "<div>\n<style scoped>\n    .dataframe tbody tr th:only-of-type {\n        vertical-align: middle;\n    }\n\n    .dataframe tbody tr th {\n        vertical-align: top;\n    }\n\n    .dataframe thead th {\n        text-align: right;\n    }\n</style>\n<table border=\"1\" class=\"dataframe\">\n  <thead>\n    <tr style=\"text-align: right;\">\n      <th></th>\n      <th>id</th>\n      <th>source</th>\n      <th>name</th>\n      <th>productdescription</th>\n      <th>url</th>\n      <th>brand</th>\n      <th>modelnumber</th>\n    </tr>\n  </thead>\n  <tbody>\n    <tr>\n      <th>0</th>\n      <td>000266f5e7ab2344315290174dfb75f7</td>\n      <td>appliancesconnection.us</td>\n      <td>Broan TEN136WW</td>\n      <td>Broan TEN136WW Overview The Tenya 1 Series Und...</td>\n      <td>https://www.appliancesconnection.com/broan-ten...</td>\n      <td>Broan</td>\n      <td>TEN136WW</td>\n    </tr>\n    <tr>\n      <th>1</th>\n      <td>000436254daab8809a70f6e2bba0ed3b</td>\n      <td>appliancesconnection.us</td>\n      <td>Viking VCBB5363ERWH</td>\n      <td>Viking VCBB5363ERWH Overview The 36\" Professio...</td>\n      <td>https://www.appliancesconnection.com/viking-vc...</td>\n      <td>Viking</td>\n      <td>VCBB5363ERWH</td>\n    </tr>\n    <tr>\n      <th>2</th>\n      <td>00045cf29bdf930df9cde1c23bc2dfe5</td>\n      <td>appliancesconnection.us</td>\n      <td>Imperial IS1936PS1TWSB8SS</td>\n      <td>Imperial IS1936PS1TWSB8SS Overview This island...</td>\n      <td>https://www.appliancesconnection.com/imperial-...</td>\n      <td>IMPERIAL</td>\n      <td>IS1936PS1TWSB8SS</td>\n    </tr>\n    <tr>\n      <th>3</th>\n      <td>0009473c1d9c02569a88ac4dee9dcbbb</td>\n      <td>appliancesconnection.us</td>\n      <td>Hestan KRT485GDNGOR</td>\n      <td>Hestan KRT485GDNGOR Overview The 48\" Built-In ...</td>\n      <td>https://www.appliancesconnection.com/hestan-kr...</td>\n      <td>Hestan</td>\n      <td>KRT485GDNGOR</td>\n    </tr>\n    <tr>\n      <th>4</th>\n      <td>00096b652644c936ff9384478afcc429</td>\n      <td>appliancesconnection.us</td>\n      <td>Summit CP34WMC</td>\n      <td>Summit CP34WMC Overview CP34WMC 19\" MOMCUBE To...</td>\n      <td>https://www.appliancesconnection.com/summit-cp...</td>\n      <td>Summit</td>\n      <td>CP34WMC</td>\n    </tr>\n  </tbody>\n</table>\n</div>"
     },
     "metadata": {},
     "execution_count": 15
    }
   ],
   "source": [
    "#' \"' zu ' \\\"'\n",
    "#'\" ' zu '\\\" '\n",
    "#'\"\"' zu ' \\\"\"'\n",
    "#'\"/\"' zu '\\\"/'\n",
    "#' \\\",' zu ' \",\"'\n",
    "df = pd.read_csv('Daten/KoepckeEigen/electronicFixed.csv',escapechar=\"\\\\\",sep=\",\",error_bad_lines=False,warn_bad_lines=False)\n",
    "df.head()"
   ]
  },
  {
   "cell_type": "code",
   "execution_count": 13,
   "metadata": {},
   "outputs": [
    {
     "output_type": "error",
     "ename": "OSError",
     "evalue": "[E050] Can't find model 'en_core_web_sm'. It doesn't seem to be a Python package or a valid path to a data directory.",
     "traceback": [
      "\u001b[0;31m---------------------------------------------------------------------------\u001b[0m",
      "\u001b[0;31mOSError\u001b[0m                                   Traceback (most recent call last)",
      "\u001b[0;32m<ipython-input-13-549dca4685d7>\u001b[0m in \u001b[0;36m<module>\u001b[0;34m\u001b[0m\n\u001b[1;32m      1\u001b[0m \u001b[0;32mimport\u001b[0m \u001b[0mspacy\u001b[0m\u001b[0;34m\u001b[0m\u001b[0;34m\u001b[0m\u001b[0m\n\u001b[1;32m      2\u001b[0m \u001b[0;32mfrom\u001b[0m \u001b[0mspacy\u001b[0m \u001b[0;32mimport\u001b[0m \u001b[0mdisplacy\u001b[0m\u001b[0;34m\u001b[0m\u001b[0;34m\u001b[0m\u001b[0m\n\u001b[0;32m----> 3\u001b[0;31m \u001b[0mnlp\u001b[0m \u001b[0;34m=\u001b[0m \u001b[0mspacy\u001b[0m\u001b[0;34m.\u001b[0m\u001b[0mload\u001b[0m\u001b[0;34m(\u001b[0m\u001b[0;34m'en_core_web_sm'\u001b[0m\u001b[0;34m)\u001b[0m\u001b[0;34m\u001b[0m\u001b[0;34m\u001b[0m\u001b[0m\n\u001b[0m\u001b[1;32m      4\u001b[0m text = nlp(\n\u001b[1;32m      5\u001b[0m \u001b[0;34m'Jim bought 300 shares of Acme Corp. in 2006. And producing an annotated block of text that highlights the names of entities: [Jim]Person bought 300 shares of [Acme Corp.]Organization in [2006]Time. In this example, a person name consisting of one token, a two-token company name and a temporal expression have been detected and classified.State-of-the-art NER systems for English produce near-human performance. For example, the best system entering MUC-7 scored 93.39% of F-measure while human annotators scored 97.60% and 96.95%.[1][2]'\u001b[0m\u001b[0;34m\u001b[0m\u001b[0;34m\u001b[0m\u001b[0m\n",
      "\u001b[0;32m~/.local/lib/python3.9/site-packages/spacy/__init__.py\u001b[0m in \u001b[0;36mload\u001b[0;34m(name, disable, exclude, config)\u001b[0m\n\u001b[1;32m     45\u001b[0m     \u001b[0mRETURNS\u001b[0m \u001b[0;34m(\u001b[0m\u001b[0mLanguage\u001b[0m\u001b[0;34m)\u001b[0m\u001b[0;34m:\u001b[0m \u001b[0mThe\u001b[0m \u001b[0mloaded\u001b[0m \u001b[0mnlp\u001b[0m \u001b[0mobject\u001b[0m\u001b[0;34m.\u001b[0m\u001b[0;34m\u001b[0m\u001b[0;34m\u001b[0m\u001b[0m\n\u001b[1;32m     46\u001b[0m     \"\"\"\n\u001b[0;32m---> 47\u001b[0;31m     \u001b[0;32mreturn\u001b[0m \u001b[0mutil\u001b[0m\u001b[0;34m.\u001b[0m\u001b[0mload_model\u001b[0m\u001b[0;34m(\u001b[0m\u001b[0mname\u001b[0m\u001b[0;34m,\u001b[0m \u001b[0mdisable\u001b[0m\u001b[0;34m=\u001b[0m\u001b[0mdisable\u001b[0m\u001b[0;34m,\u001b[0m \u001b[0mexclude\u001b[0m\u001b[0;34m=\u001b[0m\u001b[0mexclude\u001b[0m\u001b[0;34m,\u001b[0m \u001b[0mconfig\u001b[0m\u001b[0;34m=\u001b[0m\u001b[0mconfig\u001b[0m\u001b[0;34m)\u001b[0m\u001b[0;34m\u001b[0m\u001b[0;34m\u001b[0m\u001b[0m\n\u001b[0m\u001b[1;32m     48\u001b[0m \u001b[0;34m\u001b[0m\u001b[0m\n\u001b[1;32m     49\u001b[0m \u001b[0;34m\u001b[0m\u001b[0m\n",
      "\u001b[0;32m~/.local/lib/python3.9/site-packages/spacy/util.py\u001b[0m in \u001b[0;36mload_model\u001b[0;34m(name, vocab, disable, exclude, config)\u001b[0m\n\u001b[1;32m    327\u001b[0m     \u001b[0;32mif\u001b[0m \u001b[0mname\u001b[0m \u001b[0;32min\u001b[0m \u001b[0mOLD_MODEL_SHORTCUTS\u001b[0m\u001b[0;34m:\u001b[0m\u001b[0;34m\u001b[0m\u001b[0;34m\u001b[0m\u001b[0m\n\u001b[1;32m    328\u001b[0m         \u001b[0;32mraise\u001b[0m \u001b[0mIOError\u001b[0m\u001b[0;34m(\u001b[0m\u001b[0mErrors\u001b[0m\u001b[0;34m.\u001b[0m\u001b[0mE941\u001b[0m\u001b[0;34m.\u001b[0m\u001b[0mformat\u001b[0m\u001b[0;34m(\u001b[0m\u001b[0mname\u001b[0m\u001b[0;34m=\u001b[0m\u001b[0mname\u001b[0m\u001b[0;34m,\u001b[0m \u001b[0mfull\u001b[0m\u001b[0;34m=\u001b[0m\u001b[0mOLD_MODEL_SHORTCUTS\u001b[0m\u001b[0;34m[\u001b[0m\u001b[0mname\u001b[0m\u001b[0;34m]\u001b[0m\u001b[0;34m)\u001b[0m\u001b[0;34m)\u001b[0m\u001b[0;34m\u001b[0m\u001b[0;34m\u001b[0m\u001b[0m\n\u001b[0;32m--> 329\u001b[0;31m     \u001b[0;32mraise\u001b[0m \u001b[0mIOError\u001b[0m\u001b[0;34m(\u001b[0m\u001b[0mErrors\u001b[0m\u001b[0;34m.\u001b[0m\u001b[0mE050\u001b[0m\u001b[0;34m.\u001b[0m\u001b[0mformat\u001b[0m\u001b[0;34m(\u001b[0m\u001b[0mname\u001b[0m\u001b[0;34m=\u001b[0m\u001b[0mname\u001b[0m\u001b[0;34m)\u001b[0m\u001b[0;34m)\u001b[0m\u001b[0;34m\u001b[0m\u001b[0;34m\u001b[0m\u001b[0m\n\u001b[0m\u001b[1;32m    330\u001b[0m \u001b[0;34m\u001b[0m\u001b[0m\n\u001b[1;32m    331\u001b[0m \u001b[0;34m\u001b[0m\u001b[0m\n",
      "\u001b[0;31mOSError\u001b[0m: [E050] Can't find model 'en_core_web_sm'. It doesn't seem to be a Python package or a valid path to a data directory."
     ]
    }
   ],
   "source": [
    "import spacy\n",
    "from spacy import displacy\n",
    "nlp = spacy.load('en_core_web_sm')\n",
    "text = nlp(\n",
    "'Jim bought 300 shares of Acme Corp. in 2006. And producing an annotated block of text that highlights the names of entities: [Jim]Person bought 300 shares of [Acme Corp.]Organization in [2006]Time. In this example, a person name consisting of one token, a two-token company name and a temporal expression have been detected and classified.State-of-the-art NER systems for English produce near-human performance. For example, the best system entering MUC-7 scored 93.39% of F-measure while human annotators scored 97.60% and 96.95%.[1][2]'\n",
    ")\n",
    "displacy.render(text, style = 'ent', jupyter=True)"
   ]
  },
  {
   "cell_type": "code",
   "execution_count": null,
   "metadata": {},
   "outputs": [],
   "source": []
  }
 ]
}