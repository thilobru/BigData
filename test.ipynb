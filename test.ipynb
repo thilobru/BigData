{
 "metadata": {
  "language_info": {
   "codemirror_mode": {
    "name": "ipython",
    "version": 3
   },
   "file_extension": ".py",
   "mimetype": "text/x-python",
   "name": "python",
   "nbconvert_exporter": "python",
   "pygments_lexer": "ipython3",
   "version": "3.9.0"
  },
  "orig_nbformat": 2,
  "kernelspec": {
   "name": "python390jvsc74a57bd03898892d7e34557bb8499aff9aa0ccd3bf7bab375649613f01d0952879e4c360",
   "display_name": "Python 3.9.0 64-bit"
  },
  "metadata": {
   "interpreter": {
    "hash": "3898892d7e34557bb8499aff9aa0ccd3bf7bab375649613f01d0952879e4c360"
   }
  }
 },
 "nbformat": 4,
 "nbformat_minor": 2,
 "cells": [
  {
   "cell_type": "code",
   "execution_count": 2,
   "metadata": {},
   "outputs": [],
   "source": [
    "#pip install pandas\n",
    "import pandas as pd\n",
    "import spacy\n",
    "nlp = spacy.load(\"en_core_web_md\")"
   ]
  },
  {
   "cell_type": "code",
   "execution_count": 49,
   "metadata": {},
   "outputs": [
    {
     "output_type": "stream",
     "name": "stdout",
     "text": [
      "['control', 'easily', 'operate', 'range', 'stove', 'reach', 'hot', 'pot', 'pan', 'Sensi', '-', 'Temp', 'Technology', 'enjoy', 'cooking', 'power', 'traditional', 'coil', 'add', 'safety', 'feature', 'meet', 'new', 'UL858', 'Household', 'Electric', 'Ranges', 'Standard', 'Safety', 'lift', '-', 'cooktop', 'quickly', 'clean', 'spill', 'remove', 'crumb', 'subtop', 'oven', 'rack', 'feature', 'durable', 'construction', 'help', 'accommodate', 'size', 'type', 'cookware', 'standard', 'clean', 'oven', 'smooth', 'surface', 'make', 'clean', 'hand', 'easy', '-', 'piece', 'durable', 'handle', 'strong', 'long', '-', 'last', 'Chrome', 'drop', 'bowl', 'contain', 'spill', 'remove', 'easy', 'cleaning']\n    satzId    Wort Attribut\n65       0  Chrome    Brand\n   satzId    Wort     Attribut\n1       0  easily  Modelnumber\n    satzId      Wort     Attribut\n0        0   control          NaN\n1        0    easily  Modelnumber\n2        0   operate          NaN\n3        0     range          NaN\n4        0     stove          NaN\n..     ...       ...          ...\n68       0   contain          NaN\n69       0     spill          NaN\n70       0    remove          NaN\n71       0      easy          NaN\n72       0  cleaning          NaN\n\n[73 rows x 3 columns]\n"
     ]
    }
   ],
   "source": [
    "# Nimmt id, Produktbeschreibung, Markenname, Modelnummer, etc.(Artikeltyp, Größe)\n",
    "def tokenizer(id,fText,l1,l2):\n",
    "    doc = nlp(fText)\n",
    "    ### TOKENIZING ###, ### REMOVING STOP WORDS ###\n",
    "    wList = [token for token in doc if not token.is_stop]\n",
    "    ### NORMALIZING ###, ### STEMMING ###, ### LEMMATIZATION ###\n",
    "    wList = [token.lemma_ for token in wList]\n",
    "    ### POS filtering ###\n",
    "    df = pd.DataFrame(columns=['satzId','Wort','Attribut'], data = {'satzId': id, 'Wort': wList})\n",
    "    df.loc[df['Wort'] == l1, 'Attribut'] = \"Brand\"\n",
    "    df.loc[df['Wort'] == l2, 'Attribut'] = \"Modelnumber\"\n",
    "    #print(df.loc[df['Wort'] == l1])\n",
    "    #print(df.loc[df['Wort'] == l2])\n",
    "    #if each['Wort'] == l1:\n",
    "    #    print(\"ja\")\n",
    "        #else if each == l2:\n",
    "        #else\n",
    "    return df\n",
    "\n",
    "text = (\"Front controls Easily operate your range stove without reaching over hot pots and pans Sensi-Temp Technology Enjoy the same cooking power as a traditional coil with an added safety feature that meets the new UL858 Household Electric Ranges Standard for Safety Lift-up cooktop Quickly clean up spills and remove crumbs from the subtop Two oven racks Feature a durable construction to help accommodate any size or type of cookware Standard clean oven Smooth surface makes cleaning by hand easier One-piece durable handle Strong and long-lasting Chrome drop bowls Contain spills and remove for easy cleaning\")\n",
    "print(tokenizer(0,text, \"Chrome\", \"easily\"))"
   ]
  },
  {
   "cell_type": "code",
   "execution_count": 51,
   "metadata": {
    "tags": []
   },
   "outputs": [
    {
     "output_type": "execute_result",
     "data": {
      "text/plain": [
       "                                     id                   source  \\\n",
       "0      000266f5e7ab2344315290174dfb75f7  appliancesconnection.us   \n",
       "1      000436254daab8809a70f6e2bba0ed3b  appliancesconnection.us   \n",
       "2      00045cf29bdf930df9cde1c23bc2dfe5  appliancesconnection.us   \n",
       "3      0009473c1d9c02569a88ac4dee9dcbbb  appliancesconnection.us   \n",
       "4      00096b652644c936ff9384478afcc429  appliancesconnection.us   \n",
       "...                                 ...                      ...   \n",
       "55336  ff9a33d6d35c5c58ef21dc270ef877e4            spencerstv.us   \n",
       "55337  ffa94a69206e8047a38d78760528ee66            spencerstv.us   \n",
       "55338  ffbd0414a28039f7096cfb2af0d0343c            spencerstv.us   \n",
       "55339  ffe2683b57db952807a1892a2dccfdb8            spencerstv.us   \n",
       "55340  fff12b5d86c3582f353870405fa1057e            spencerstv.us   \n",
       "\n",
       "                                                    name  \\\n",
       "0                                         Broan TEN136WW   \n",
       "1                                    Viking VCBB5363ERWH   \n",
       "2                              Imperial IS1936PS1TWSB8SS   \n",
       "3                                    Hestan KRT485GDNGOR   \n",
       "4                                         Summit CP34WMC   \n",
       "...                                                  ...   \n",
       "55336  LG 24\" Smooth Black Built In Dishwasher -LDFN4...   \n",
       "55337  Whirlpool® 4.3 Cu. Ft. Chrome Shadow Front Loa...   \n",
       "55338  Thermador® Masterpiece® 36\" Electric Cooktop-S...   \n",
       "55339  ASKO Classic 4.1 Cu. Ft. White Front Load Elec...   \n",
       "55340  Samsung 4.5 Cu. Ft. Platinum Front Load Washer...   \n",
       "\n",
       "                                      productdescription  \\\n",
       "0      Broan TEN136WW Overview The Tenya 1 Series Und...   \n",
       "1      Viking VCBB5363ERWH Overview The 36\" Professio...   \n",
       "2      Imperial IS1936PS1TWSB8SS Overview This island...   \n",
       "3      Hestan KRT485GDNGOR Overview The 48\" Built-In ...   \n",
       "4      Summit CP34WMC Overview CP34WMC 19\" MOMCUBE To...   \n",
       "...                                                  ...   \n",
       "55336  Get a Spotless Clean the First Time Exclusive ...   \n",
       "55337  Match your family's routines and your space wi...   \n",
       "55338  Five elements and ten cooking zones provides t...   \n",
       "55339  But caring for our environment not only helps ...   \n",
       "55340  Gently Remove Stains - Steam The power of stea...   \n",
       "\n",
       "                                                     url      brand  \\\n",
       "0      https://www.appliancesconnection.com/broan-ten...      Broan   \n",
       "1      https://www.appliancesconnection.com/viking-vc...     Viking   \n",
       "2      https://www.appliancesconnection.com/imperial-...   IMPERIAL   \n",
       "3      https://www.appliancesconnection.com/hestan-kr...     Hestan   \n",
       "4      https://www.appliancesconnection.com/summit-cp...     Summit   \n",
       "...                                                  ...        ...   \n",
       "55336  https://www.spencerstv.com/product/lg-24-smoot...         LG   \n",
       "55337  https://www.spencerstv.com/product/whirlpool-4...  Whirlpool   \n",
       "55338  https://www.spencerstv.com/product/thermador-m...  THERMADOR   \n",
       "55339  https://www.spencerstv.com/product/asko-classi...       ASKO   \n",
       "55340  https://www.spencerstv.com/product/samsung-45-...    Samsung   \n",
       "\n",
       "            modelnumber  \n",
       "0              TEN136WW  \n",
       "1          VCBB5363ERWH  \n",
       "2      IS1936PS1TWSB8SS  \n",
       "3          KRT485GDNGOR  \n",
       "4               CP34WMC  \n",
       "...                 ...  \n",
       "55336         LDFN4542B  \n",
       "55337         WFW862CHC  \n",
       "55338          CEM366TB  \n",
       "55339            T208HW  \n",
       "55340       WF45R6100AP  \n",
       "\n",
       "[55341 rows x 7 columns]"
      ],
      "text/html": "<div>\n<style scoped>\n    .dataframe tbody tr th:only-of-type {\n        vertical-align: middle;\n    }\n\n    .dataframe tbody tr th {\n        vertical-align: top;\n    }\n\n    .dataframe thead th {\n        text-align: right;\n    }\n</style>\n<table border=\"1\" class=\"dataframe\">\n  <thead>\n    <tr style=\"text-align: right;\">\n      <th></th>\n      <th>id</th>\n      <th>source</th>\n      <th>name</th>\n      <th>productdescription</th>\n      <th>url</th>\n      <th>brand</th>\n      <th>modelnumber</th>\n    </tr>\n  </thead>\n  <tbody>\n    <tr>\n      <th>0</th>\n      <td>000266f5e7ab2344315290174dfb75f7</td>\n      <td>appliancesconnection.us</td>\n      <td>Broan TEN136WW</td>\n      <td>Broan TEN136WW Overview The Tenya 1 Series Und...</td>\n      <td>https://www.appliancesconnection.com/broan-ten...</td>\n      <td>Broan</td>\n      <td>TEN136WW</td>\n    </tr>\n    <tr>\n      <th>1</th>\n      <td>000436254daab8809a70f6e2bba0ed3b</td>\n      <td>appliancesconnection.us</td>\n      <td>Viking VCBB5363ERWH</td>\n      <td>Viking VCBB5363ERWH Overview The 36\" Professio...</td>\n      <td>https://www.appliancesconnection.com/viking-vc...</td>\n      <td>Viking</td>\n      <td>VCBB5363ERWH</td>\n    </tr>\n    <tr>\n      <th>2</th>\n      <td>00045cf29bdf930df9cde1c23bc2dfe5</td>\n      <td>appliancesconnection.us</td>\n      <td>Imperial IS1936PS1TWSB8SS</td>\n      <td>Imperial IS1936PS1TWSB8SS Overview This island...</td>\n      <td>https://www.appliancesconnection.com/imperial-...</td>\n      <td>IMPERIAL</td>\n      <td>IS1936PS1TWSB8SS</td>\n    </tr>\n    <tr>\n      <th>3</th>\n      <td>0009473c1d9c02569a88ac4dee9dcbbb</td>\n      <td>appliancesconnection.us</td>\n      <td>Hestan KRT485GDNGOR</td>\n      <td>Hestan KRT485GDNGOR Overview The 48\" Built-In ...</td>\n      <td>https://www.appliancesconnection.com/hestan-kr...</td>\n      <td>Hestan</td>\n      <td>KRT485GDNGOR</td>\n    </tr>\n    <tr>\n      <th>4</th>\n      <td>00096b652644c936ff9384478afcc429</td>\n      <td>appliancesconnection.us</td>\n      <td>Summit CP34WMC</td>\n      <td>Summit CP34WMC Overview CP34WMC 19\" MOMCUBE To...</td>\n      <td>https://www.appliancesconnection.com/summit-cp...</td>\n      <td>Summit</td>\n      <td>CP34WMC</td>\n    </tr>\n    <tr>\n      <th>...</th>\n      <td>...</td>\n      <td>...</td>\n      <td>...</td>\n      <td>...</td>\n      <td>...</td>\n      <td>...</td>\n      <td>...</td>\n    </tr>\n    <tr>\n      <th>55336</th>\n      <td>ff9a33d6d35c5c58ef21dc270ef877e4</td>\n      <td>spencerstv.us</td>\n      <td>LG 24\" Smooth Black Built In Dishwasher -LDFN4...</td>\n      <td>Get a Spotless Clean the First Time Exclusive ...</td>\n      <td>https://www.spencerstv.com/product/lg-24-smoot...</td>\n      <td>LG</td>\n      <td>LDFN4542B</td>\n    </tr>\n    <tr>\n      <th>55337</th>\n      <td>ffa94a69206e8047a38d78760528ee66</td>\n      <td>spencerstv.us</td>\n      <td>Whirlpool® 4.3 Cu. Ft. Chrome Shadow Front Loa...</td>\n      <td>Match your family's routines and your space wi...</td>\n      <td>https://www.spencerstv.com/product/whirlpool-4...</td>\n      <td>Whirlpool</td>\n      <td>WFW862CHC</td>\n    </tr>\n    <tr>\n      <th>55338</th>\n      <td>ffbd0414a28039f7096cfb2af0d0343c</td>\n      <td>spencerstv.us</td>\n      <td>Thermador® Masterpiece® 36\" Electric Cooktop-S...</td>\n      <td>Five elements and ten cooking zones provides t...</td>\n      <td>https://www.spencerstv.com/product/thermador-m...</td>\n      <td>THERMADOR</td>\n      <td>CEM366TB</td>\n    </tr>\n    <tr>\n      <th>55339</th>\n      <td>ffe2683b57db952807a1892a2dccfdb8</td>\n      <td>spencerstv.us</td>\n      <td>ASKO Classic 4.1 Cu. Ft. White Front Load Elec...</td>\n      <td>But caring for our environment not only helps ...</td>\n      <td>https://www.spencerstv.com/product/asko-classi...</td>\n      <td>ASKO</td>\n      <td>T208HW</td>\n    </tr>\n    <tr>\n      <th>55340</th>\n      <td>fff12b5d86c3582f353870405fa1057e</td>\n      <td>spencerstv.us</td>\n      <td>Samsung 4.5 Cu. Ft. Platinum Front Load Washer...</td>\n      <td>Gently Remove Stains - Steam The power of stea...</td>\n      <td>https://www.spencerstv.com/product/samsung-45-...</td>\n      <td>Samsung</td>\n      <td>WF45R6100AP</td>\n    </tr>\n  </tbody>\n</table>\n<p>55341 rows × 7 columns</p>\n</div>"
     },
     "metadata": {},
     "execution_count": 51
    }
   ],
   "source": [
    "#' \"' zu ' \\\"'\n",
    "#'\" ' zu '\\\" '\n",
    "#'\"\"' zu ' \\\"\"'\n",
    "#'\"/\"' zu '\\\"/'\n",
    "#' \\\",' zu ' \",\"'\n",
    "df = pd.read_csv('Daten/KoepckeEigen/electronicFixed.csv',escapechar=\"\\\\\",sep=\",\",error_bad_lines=False,warn_bad_lines=False)\n",
    "df"
   ]
  },
  {
   "cell_type": "code",
   "execution_count": 19,
   "metadata": {},
   "outputs": [
    {
     "output_type": "display_data",
     "data": {
      "text/plain": "<IPython.core.display.HTML object>",
      "text/html": "<span class=\"tex2jax_ignore\"><div class=\"entities\" style=\"line-height: 2.5; direction: ltr\">\n<mark class=\"entity\" style=\"background: #7aecec; padding: 0.45em 0.6em; margin: 0 0.25em; line-height: 1; border-radius: 0.35em;\">\n    Jim\n    <span style=\"font-size: 0.8em; font-weight: bold; line-height: 1; border-radius: 0.35em; text-transform: uppercase; vertical-align: middle; margin-left: 0.5rem\">ORG</span>\n</mark>\n buy \n<mark class=\"entity\" style=\"background: #e4e7d2; padding: 0.45em 0.6em; margin: 0 0.25em; line-height: 1; border-radius: 0.35em;\">\n    300\n    <span style=\"font-size: 0.8em; font-weight: bold; line-height: 1; border-radius: 0.35em; text-transform: uppercase; vertical-align: middle; margin-left: 0.5rem\">CARDINAL</span>\n</mark>\n share \n<mark class=\"entity\" style=\"background: #7aecec; padding: 0.45em 0.6em; margin: 0 0.25em; line-height: 1; border-radius: 0.35em;\">\n    Acme Corp.\n    <span style=\"font-size: 0.8em; font-weight: bold; line-height: 1; border-radius: 0.35em; text-transform: uppercase; vertical-align: middle; margin-left: 0.5rem\">ORG</span>\n</mark>\n \n<mark class=\"entity\" style=\"background: #bfe1d9; padding: 0.45em 0.6em; margin: 0 0.25em; line-height: 1; border-radius: 0.35em;\">\n    2006\n    <span style=\"font-size: 0.8em; font-weight: bold; line-height: 1; border-radius: 0.35em; text-transform: uppercase; vertical-align: middle; margin-left: 0.5rem\">DATE</span>\n</mark>\n produce annotate block text highlight name entity [ jim]person buy \n<mark class=\"entity\" style=\"background: #e4e7d2; padding: 0.45em 0.6em; margin: 0 0.25em; line-height: 1; border-radius: 0.35em;\">\n    300\n    <span style=\"font-size: 0.8em; font-weight: bold; line-height: 1; border-radius: 0.35em; text-transform: uppercase; vertical-align: middle; margin-left: 0.5rem\">CARDINAL</span>\n</mark>\n share [ Acme Corp.]Organization [ \n<mark class=\"entity\" style=\"background: #e4e7d2; padding: 0.45em 0.6em; margin: 0 0.25em; line-height: 1; border-radius: 0.35em;\">\n    2006]time\n    <span style=\"font-size: 0.8em; font-weight: bold; line-height: 1; border-radius: 0.35em; text-transform: uppercase; vertical-align: middle; margin-left: 0.5rem\">CARDINAL</span>\n</mark>\n example person consist token - token company temporal expression detect classify state - - - art NER system \n<mark class=\"entity\" style=\"background: #c887fb; padding: 0.45em 0.6em; margin: 0 0.25em; line-height: 1; border-radius: 0.35em;\">\n    english\n    <span style=\"font-size: 0.8em; font-weight: bold; line-height: 1; border-radius: 0.35em; text-transform: uppercase; vertical-align: middle; margin-left: 0.5rem\">NORP</span>\n</mark>\n produce near - human performance example good system enter \n<mark class=\"entity\" style=\"background: #bfeeb7; padding: 0.45em 0.6em; margin: 0 0.25em; line-height: 1; border-radius: 0.35em;\">\n    MUC-7\n    <span style=\"font-size: 0.8em; font-weight: bold; line-height: 1; border-radius: 0.35em; text-transform: uppercase; vertical-align: middle; margin-left: 0.5rem\">PRODUCT</span>\n</mark>\n score \n<mark class=\"entity\" style=\"background: #e4e7d2; padding: 0.45em 0.6em; margin: 0 0.25em; line-height: 1; border-radius: 0.35em;\">\n    93.39 %\n    <span style=\"font-size: 0.8em; font-weight: bold; line-height: 1; border-radius: 0.35em; text-transform: uppercase; vertical-align: middle; margin-left: 0.5rem\">PERCENT</span>\n</mark>\n f - measure human annotator score \n<mark class=\"entity\" style=\"background: #e4e7d2; padding: 0.45em 0.6em; margin: 0 0.25em; line-height: 1; border-radius: 0.35em;\">\n    97.60 %\n    <span style=\"font-size: 0.8em; font-weight: bold; line-height: 1; border-radius: 0.35em; text-transform: uppercase; vertical-align: middle; margin-left: 0.5rem\">PERCENT</span>\n</mark>\n 96.95%.[1][2 ] </div></span>"
     },
     "metadata": {}
    }
   ],
   "source": [
    "from spacy import displacy\n",
    "text = nlp(\n",
    "'Jim bought 300 shares of Acme Corp. in 2006. And producing an annotated block of text that highlights the names of entities: [Jim]Person bought 300 shares of [Acme Corp.]Organization in [2006]Time. In this example, a person name consisting of one token, a two-token company name and a temporal expression have been detected and classified.State-of-the-art NER systems for English produce near-human performance. For example, the best system entering MUC-7 scored 93.39% of F-measure while human annotators scored 97.60% and 96.95%.[1][2]'\n",
    ")\n",
    "displacy.render(nlp(tokenizer(0,text,'','')), style = 'ent', jupyter=True)"
   ]
  },
  {
   "cell_type": "code",
   "execution_count": null,
   "metadata": {},
   "outputs": [],
   "source": []
  }
 ]
}